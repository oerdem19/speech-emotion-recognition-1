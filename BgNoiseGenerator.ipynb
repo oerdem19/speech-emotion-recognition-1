{
 "cells": [
  {
   "cell_type": "markdown",
   "metadata": {},
   "source": [
    "# Speech-based Emotion Recognition for Voice Comms.\n",
    "\n",
    "## Background audio generation"
   ]
  },
  {
   "cell_type": "code",
   "execution_count": 14,
   "metadata": {},
   "outputs": [
    {
     "data": {
      "text/plain": [
       "<_io.BufferedRandom name='data/augment-bg/RAVDESS/final.wav'>"
      ]
     },
     "execution_count": 14,
     "metadata": {},
     "output_type": "execute_result"
    }
   ],
   "source": [
    "# Create new background audio clips by combining various audio files from dataset\n",
    "# Use 3 background sources to emulate likely worst case voice communication situation in csgo\n",
    "\n",
    "from pydub import AudioSegment\n",
    "\n",
    "source1 = AudioSegment.from_wav(\"data/augment-bg/RAVDESS/sourcefiles/test1.wav\")\n",
    "source2 = AudioSegment.from_wav(\"data/augment-bg/RAVDESS/sourcefiles/test2.wav\")\n",
    "source3 = AudioSegment.from_wav(\"data/augment-bg/RAVDESS/sourcefiles/test3.wav\")\n",
    "\n",
    "combined = source1.overlay(source2, position=0.001 * len(source1))\n",
    "final = combined.overlay(source3, position=0.2 * len(combined))\n",
    "\n",
    "final.export(\"data/augment-bg/RAVDESS/final.wav\", format='wav')"
   ]
  },
  {
   "cell_type": "code",
   "execution_count": null,
   "metadata": {},
   "outputs": [],
   "source": []
  }
 ],
 "metadata": {
  "kernelspec": {
   "display_name": "Python 3",
   "language": "python",
   "name": "python3"
  },
  "language_info": {
   "codemirror_mode": {
    "name": "ipython",
    "version": 3
   },
   "file_extension": ".py",
   "mimetype": "text/x-python",
   "name": "python",
   "nbconvert_exporter": "python",
   "pygments_lexer": "ipython3",
   "version": "3.7.4"
  }
 },
 "nbformat": 4,
 "nbformat_minor": 2
}
