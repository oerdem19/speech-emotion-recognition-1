{
 "cells": [
  {
   "cell_type": "markdown",
   "metadata": {
    "colab_type": "text",
    "id": "ZSdjAgdXcraM"
   },
   "source": [
    "# Speech-based Emotion Recognition for Voice Comms.\n",
    "## Main Notebook\n",
    "\n",
    "Datasets used:\n",
    "\n",
    "*   RAVDESS, CREMA-D\n",
    "*   See AugmentData.ipynb for augmentation scripts    "
   ]
  },
  {
   "cell_type": "code",
   "execution_count": 298,
   "metadata": {
    "colab": {},
    "colab_type": "code",
    "id": "GicI2VMDHTni"
   },
   "outputs": [],
   "source": [
    "import soundfile # read audio files\n",
    "import numpy as np\n",
    "import librosa # extract features\n",
    "import glob\n",
    "import os\n",
    "import pickle # to save model after training\n",
    "\n",
    "from sklearn import preprocessing\n",
    "from sklearn.model_selection import train_test_split # for splitting training and testing data\n",
    "from sklearn.neural_network import MLPClassifier # multi-layer perceptron model\n",
    "from sklearn.metrics import accuracy_score\n",
    "from sklearn.metrics import confusion_matrix # generate cm\n",
    "\n",
    "import seaborn as sn\n",
    "import pandas as pd\n",
    "import matplotlib.pyplot as plt"
   ]
  },
  {
   "cell_type": "code",
   "execution_count": 299,
   "metadata": {
    "colab": {},
    "colab_type": "code",
    "id": "ndQyj81GIfUI"
   },
   "outputs": [],
   "source": [
    "def extract_feature(file_name, **kwargs):\n",
    "    \"\"\"\n",
    "    Extract feature from audio file `file_name`\n",
    "        Features supported:\n",
    "            - MFCC (mfcc)\n",
    "            - Chroma (chroma)\n",
    "            - MEL Spectrogram Frequency (mel)\n",
    "            - Contrast (contrast)\n",
    "            - Tonnetz (tonnetz)\n",
    "        e.g:\n",
    "        `features = extract_feature(path, mel=True, mfcc=True)`\n",
    "    \"\"\"\n",
    "    mfcc = kwargs.get(\"mfcc\")\n",
    "    chroma = kwargs.get(\"chroma\")\n",
    "    mel = kwargs.get(\"mel\")\n",
    "    contrast = kwargs.get(\"contrast\")\n",
    "    tonnetz = kwargs.get(\"tonnetz\")\n",
    "    with soundfile.SoundFile(file_name) as sound_file:\n",
    "        X = sound_file.read(dtype=\"float32\") # all depth 32bit float\n",
    "        sample_rate = sound_file.samplerate # should always be 16kHz\n",
    "        if chroma or contrast:\n",
    "            stft = np.abs(librosa.stft(X))\n",
    "        result = np.array([])\n",
    "        if mfcc:\n",
    "            mfccs = np.mean(librosa.feature.mfcc(y=X, sr=sample_rate, n_mfcc=12).T, axis=0)\n",
    "            result = np.hstack((result, mfccs))\n",
    "        if chroma:\n",
    "            chroma = np.mean(librosa.feature.chroma_stft(S=stft, sr=sample_rate).T,axis=0)\n",
    "            result = np.hstack((result, chroma))\n",
    "        if mel:\n",
    "            mel = np.mean(librosa.feature.melspectrogram(X, sr=sample_rate).T,axis=0)\n",
    "            result = np.hstack((result, mel))\n",
    "        if contrast:\n",
    "            contrast = np.mean(librosa.feature.spectral_contrast(S=stft, sr=sample_rate).T,axis=0)\n",
    "            result = np.hstack((result, contrast))\n",
    "        if tonnetz:\n",
    "            tonnetz = np.mean(librosa.feature.tonnetz(y=librosa.effects.harmonic(X), sr=sample_rate).T,axis=0)\n",
    "            result = np.hstack((result, tonnetz))\n",
    "    return result"
   ]
  },
  {
   "cell_type": "code",
   "execution_count": 300,
   "metadata": {},
   "outputs": [],
   "source": [
    "# all emotions RAVDESS\n",
    "int2emotion = {\n",
    "    \"01\": \"neutral\",\n",
    "    \"02\": \"calm\",\n",
    "    \"03\": \"happy\",\n",
    "    \"04\": \"sad\",\n",
    "    \"05\": \"angry\",\n",
    "    \"06\": \"fearful\",\n",
    "    \"07\": \"disgust\",\n",
    "    \"08\": \"surprised\"\n",
    "}\n",
    "\n",
    "# all emotions CREMA-D\n",
    "cemotion = {\n",
    "    \"NEU\": \"neutral\",\n",
    "    \"HAP\": \"happy\",\n",
    "    \"SAD\": \"sad\",\n",
    "    \"ANG\": \"angry\",\n",
    "    \"FEA\": \"fearful\",\n",
    "    \"DIS\": \"disgust\",\n",
    "}\n",
    "\n",
    "# allow only these emotions from dataset(s)\n",
    "AVAILABLE_EMOTIONS = {\n",
    "    \"neutral\",\n",
    "    #\"calm\", # only included in RAVDESS\n",
    "    \"happy\",\n",
    "    \"sad\",\n",
    "    \"angry\", \n",
    "    \"fearful\",\n",
    "    \"disgust\",\n",
    "    #\"surprised\" # in TESS specifies pleasant surprise\n",
    "}"
   ]
  },
  {
   "cell_type": "code",
   "execution_count": 301,
   "metadata": {
    "colab": {},
    "colab_type": "code",
    "id": "1Ivlry11IruV"
   },
   "outputs": [],
   "source": [
    "# load data and extract features\n",
    "def load_data(model_type,test_size=0.2):\n",
    "    X, y = [], []\n",
    "    \n",
    "#     # RAVDESS clean\n",
    "#     for file in glob.glob(\"data/RAVDESS-nosil/*.wav\"):\n",
    "#         # get the base name of the audio file\n",
    "#         basename = os.path.basename(file)\n",
    "#         # get the emotion label\n",
    "#         emotion = int2emotion[basename.split(\"-\")[2]]\n",
    "#         # we allow only AVAILABLE_EMOTIONS we set\n",
    "#         if emotion not in AVAILABLE_EMOTIONS:\n",
    "#             continue\n",
    "#         # extract features\n",
    "#         features = extract_feature(file, mfcc=True)\n",
    "#         # add to data\n",
    "#         X.append(features)\n",
    "#         y.append(emotion)\n",
    "    \n",
    "#     # augmented RAVDESS\n",
    "#     # white noise\n",
    "#     for file in glob.glob(\"data/augment-wn/RAVDESS/*.wav\"):\n",
    "#         # get the base name of the audio file\n",
    "#         basename = os.path.basename(file)\n",
    "#         # get the emotion label\n",
    "#         emotion = int2emotion[basename.split(\"-\")[2]]\n",
    "#         # we allow only AVAILABLE_EMOTIONS we set\n",
    "#         if emotion not in AVAILABLE_EMOTIONS:\n",
    "#             continue\n",
    "#         # extract features\n",
    "#         features = extract_feature(file, mfcc=True)\n",
    "#         # add to data\n",
    "#         X.append(features)\n",
    "#         y.append(emotion)\n",
    "        \n",
    "    # CREMA-D clean\n",
    "    for file in glob.glob(\"data/CREMA-D/*.wav\"):\n",
    "        # get the base name of the audio file\n",
    "        basename = os.path.basename(file)\n",
    "        # get the emotion label\n",
    "        emotion = cemotion[basename.split(\"_\")[2]]\n",
    "        # we allow only AVAILABLE_EMOTIONS we set\n",
    "        if emotion not in AVAILABLE_EMOTIONS:\n",
    "            continue\n",
    "        # extract features\n",
    "        features = extract_feature(file, mfcc=True)\n",
    "        # add to data\n",
    "        X.append(features)\n",
    "        y.append(emotion)\n",
    "\n",
    "#     # TESS clean\n",
    "#     for file in glob.glob(\"data/TESS-nosil/*.wav\"):\n",
    "#         # get the base name of the audio file\n",
    "#         basename = os.path.basename(file)\n",
    "#         # get the emotion label\n",
    "#         emotion = tessemotion[basename.split(\"_\")[2]]\n",
    "#         # we allow only AVAILABLE_EMOTIONS we set\n",
    "#         if emotion not in AVAILABLE_EMOTIONS:\n",
    "#             continue\n",
    "#         # extract features\n",
    "#         features = extract_feature(file, mfcc=True)\n",
    "#         # add to data\n",
    "#         X.append(features)\n",
    "#         y.append(emotion)\n",
    "    \n",
    "#     # emodb clean\n",
    "#     for file in glob.glob(\"data/EMODB-nosil/*.wav\"):\n",
    "#         # get the base name of the audio file\n",
    "#         basename = os.path.basename(file)\n",
    "#         # get the emotion label\n",
    "#         emotion = char2emotion[basename[5]]\n",
    "#         # we allow only AVAILABLE_EMOTIONS we set\n",
    "#         if emotion not in AVAILABLE_EMOTIONS:\n",
    "#             continue\n",
    "#         # extract features\n",
    "#         features = extract_feature(file, mfcc=True)\n",
    "#         # add to data\n",
    "#         X.append(features)\n",
    "#         y.append(emotion)\n",
    "    \n",
    "#     # SAVEE clean\n",
    "#     for file in glob.glob(\"data/SAVEE-nosil/*.wav\"):\n",
    "#         # get the base name of the audio file\n",
    "#         basename = os.path.basename(file)\n",
    "#         # get the emotion label\n",
    "#         emotion = saveeemotion[basename[0]]\n",
    "#         # we allow only AVAILABLE_EMOTIONS we set\n",
    "#         if emotion not in AVAILABLE_EMOTIONS:\n",
    "#             continue\n",
    "#         # extract features\n",
    "#         features = extract_feature(file, mfcc=True)\n",
    "#         # add to data\n",
    "#         X.append(features)\n",
    "#         y.append(emotion)\n",
    "\n",
    "    # scale features [1, -1]\n",
    "    X /= np.max(np.abs(X),axis=0)\n",
    "    \n",
    "    # label encoding for y\n",
    "    label_encoder = preprocessing.LabelEncoder()\n",
    "    label_encoder.fit(y)\n",
    "    print(\"Class mapping: \")\n",
    "    for i, item in enumerate(label_encoder.classes_):\n",
    "        print(item, \"-->\", i)\n",
    "        \n",
    "    encoded_labels = label_encoder.transform(y)\n",
    "    #print(\"Labels =\", labels)\n",
    "    #print(\"Encoded labels =\", list(encoded_labels))\n",
    "    \n",
    "    # split the data to training and testing and return it\n",
    "    if model_type == 'clf':\n",
    "        tts = train_test_split(np.array(X), y, test_size=test_size, random_state=420, stratify=y)\n",
    "    else:\n",
    "        tts = train_test_split(np.array(X), list(encoded_labels), test_size=test_size, random_state=420, stratify=y)\n",
    "    return tts"
   ]
  },
  {
   "cell_type": "code",
   "execution_count": 302,
   "metadata": {
    "colab": {},
    "colab_type": "code",
    "id": "LUsbEYpnPoL_"
   },
   "outputs": [
    {
     "name": "stdout",
     "output_type": "stream",
     "text": [
      "Class mapping: \n",
      "angry --> 0\n",
      "disgust --> 1\n",
      "fearful --> 2\n",
      "happy --> 3\n",
      "neutral --> 4\n",
      "sad --> 5\n"
     ]
    }
   ],
   "source": [
    "# load dataset(s), 80% training 20% testing\n",
    "X_train, X_test, y_train, y_test = load_data('clf', test_size=0.2)"
   ]
  },
  {
   "cell_type": "code",
   "execution_count": 303,
   "metadata": {
    "colab": {
     "base_uri": "https://localhost:8080/",
     "height": 71
    },
    "colab_type": "code",
    "id": "HWOmMe5WP_Mk",
    "outputId": "c91dff34-d76f-4e03-cd87-c2411e248b53"
   },
   "outputs": [
    {
     "name": "stdout",
     "output_type": "stream",
     "text": [
      "[+] Number of training samples: 5953\n",
      "[+] Number of testing samples: 1489\n",
      "[+] Number of features: 12\n",
      "[[-0.28798226  0.77209731  0.43696458  0.55178934 -0.07266164 -0.04180614\n",
      "   0.0611159  -0.47621525 -0.17858932 -0.06394645  0.15521979  0.03955672]]\n"
     ]
    }
   ],
   "source": [
    "# print some details\n",
    "# number of samples in training data\n",
    "print(\"[+] Number of training samples:\", X_train.shape[0])\n",
    "# number of samples in testing data\n",
    "print(\"[+] Number of testing samples:\", X_test.shape[0])\n",
    "# number of features used\n",
    "# vector of features extracted \n",
    "# using extract_features() function\n",
    "print(\"[+] Number of features:\", X_train.shape[1])\n",
    "print(X_train[:1])"
   ]
  },
  {
   "cell_type": "code",
   "execution_count": 304,
   "metadata": {},
   "outputs": [
    {
     "data": {
      "text/plain": [
       "<matplotlib.axes._subplots.AxesSubplot at 0x1c342bbfd0>"
      ]
     },
     "execution_count": 304,
     "metadata": {},
     "output_type": "execute_result"
    },
    {
     "data": {
      "image/png": "[encoded data removed]",
      "text/plain": [
       "<Figure size 432x288 with 1 Axes>"
      ]
     },
     "metadata": {},
     "output_type": "display_data"
    }
   ],
   "source": [
    "y_train_df = pd.DataFrame(data=y_train, columns=['label'])\n",
    "y_train_df['label'].value_counts().plot.bar(title='Train')"
   ]
  },
  {
   "cell_type": "code",
   "execution_count": 305,
   "metadata": {},
   "outputs": [
    {
     "data": {
      "text/plain": [
       "<matplotlib.axes._subplots.AxesSubplot at 0x1c3452dad0>"
      ]
     },
     "execution_count": 305,
     "metadata": {},
     "output_type": "execute_result"
    },
    {
     "data": {
      "image/png": "[encoded data removed]",
      "text/plain": [
       "<Figure size 432x288 with 1 Axes>"
      ]
     },
     "metadata": {},
     "output_type": "display_data"
    }
   ],
   "source": [
    "y_test_df = pd.DataFrame(data=y_test, columns=['label'])\n",
    "y_test_df['label'].value_counts().plot.bar(title='Test')"
   ]
  },
  {
   "cell_type": "code",
   "execution_count": 306,
   "metadata": {
    "colab": {},
    "colab_type": "code",
    "id": "_KQYjETHQCdH"
   },
   "outputs": [],
   "source": [
    "# best model params, determined by a grid search\n",
    "clf_params = {\n",
    "    'alpha': 0.01,\n",
    "    'batch_size': 256,\n",
    "    'epsilon': 1e-08, \n",
    "    'hidden_layer_sizes': (300,), \n",
    "    'learning_rate': 'adaptive', \n",
    "    'max_iter': 500,\n",
    "    'early_stopping': True,\n",
    "    'validation_fraction':0.1,\n",
    "    'verbose': 10,\n",
    "    'n_iter_no_change': 10,\n",
    "}"
   ]
  },
  {
   "cell_type": "code",
   "execution_count": 307,
   "metadata": {
    "colab": {},
    "colab_type": "code",
    "id": "d9oJKdOSQGO3"
   },
   "outputs": [],
   "source": [
    "# init MLP classifier\n",
    "clf = MLPClassifier(**clf_params)"
   ]
  },
  {
   "cell_type": "code",
   "execution_count": 308,
   "metadata": {
    "colab": {
     "base_uri": "https://localhost:8080/",
     "height": 179
    },
    "colab_type": "code",
    "id": "sQd-z074QJrZ",
    "outputId": "4748eab0-67f0-4181-aa74-4f45a0437b3a"
   },
   "outputs": [
    {
     "name": "stdout",
     "output_type": "stream",
     "text": [
      "[*] Training the model...\n",
      "Iteration 1, loss = 1.76599243\n",
      "Validation score: 0.328859\n",
      "Iteration 2, loss = 1.68843508\n",
      "Validation score: 0.365772\n",
      "Iteration 3, loss = 1.62042010\n",
      "Validation score: 0.360738\n",
      "Iteration 4, loss = 1.57511428\n",
      "Validation score: 0.372483\n",
      "Iteration 5, loss = 1.55082644\n",
      "Validation score: 0.369128\n",
      "Iteration 6, loss = 1.53606882\n",
      "Validation score: 0.367450\n",
      "Iteration 7, loss = 1.52525627\n",
      "Validation score: 0.370805\n",
      "Iteration 8, loss = 1.51612780\n",
      "Validation score: 0.355705\n",
      "Iteration 9, loss = 1.51038141\n",
      "Validation score: 0.372483\n",
      "Iteration 10, loss = 1.50352742\n",
      "Validation score: 0.377517\n",
      "Iteration 11, loss = 1.49612865\n",
      "Validation score: 0.390940\n",
      "Iteration 12, loss = 1.49026019\n",
      "Validation score: 0.369128\n",
      "Iteration 13, loss = 1.48536922\n",
      "Validation score: 0.375839\n",
      "Iteration 14, loss = 1.47997400\n",
      "Validation score: 0.377517\n",
      "Iteration 15, loss = 1.47488846\n",
      "Validation score: 0.379195\n",
      "Iteration 16, loss = 1.47117318\n",
      "Validation score: 0.380872\n",
      "Iteration 17, loss = 1.46760415\n",
      "Validation score: 0.389262\n",
      "Iteration 18, loss = 1.46279352\n",
      "Validation score: 0.392617\n",
      "Iteration 19, loss = 1.45991433\n",
      "Validation score: 0.397651\n",
      "Iteration 20, loss = 1.45607555\n",
      "Validation score: 0.387584\n",
      "Iteration 21, loss = 1.45159707\n",
      "Validation score: 0.407718\n",
      "Iteration 22, loss = 1.44891425\n",
      "Validation score: 0.390940\n",
      "Iteration 23, loss = 1.44683305\n",
      "Validation score: 0.407718\n",
      "Iteration 24, loss = 1.44333763\n",
      "Validation score: 0.412752\n",
      "Iteration 25, loss = 1.44117666\n",
      "Validation score: 0.402685\n",
      "Iteration 26, loss = 1.43821891\n",
      "Validation score: 0.404362\n",
      "Iteration 27, loss = 1.43383260\n",
      "Validation score: 0.406040\n",
      "Iteration 28, loss = 1.43268081\n",
      "Validation score: 0.397651\n",
      "Iteration 29, loss = 1.42947511\n",
      "Validation score: 0.409396\n",
      "Iteration 30, loss = 1.42812451\n",
      "Validation score: 0.404362\n",
      "Iteration 31, loss = 1.42485285\n",
      "Validation score: 0.407718\n",
      "Iteration 32, loss = 1.42222701\n",
      "Validation score: 0.416107\n",
      "Iteration 33, loss = 1.42092569\n",
      "Validation score: 0.407718\n",
      "Iteration 34, loss = 1.41837821\n",
      "Validation score: 0.416107\n",
      "Iteration 35, loss = 1.41541969\n",
      "Validation score: 0.404362\n",
      "Iteration 36, loss = 1.41470106\n",
      "Validation score: 0.416107\n",
      "Iteration 37, loss = 1.41325691\n",
      "Validation score: 0.414430\n",
      "Iteration 38, loss = 1.40990952\n",
      "Validation score: 0.427852\n",
      "Iteration 39, loss = 1.40953930\n",
      "Validation score: 0.419463\n",
      "Iteration 40, loss = 1.40872731\n",
      "Validation score: 0.411074\n",
      "Iteration 41, loss = 1.40595316\n",
      "Validation score: 0.417785\n",
      "Iteration 42, loss = 1.40404817\n",
      "Validation score: 0.421141\n",
      "Iteration 43, loss = 1.40430572\n",
      "Validation score: 0.416107\n",
      "Iteration 44, loss = 1.40158883\n",
      "Validation score: 0.414430\n",
      "Iteration 45, loss = 1.40133251\n",
      "Validation score: 0.416107\n",
      "Iteration 46, loss = 1.39814856\n",
      "Validation score: 0.419463\n",
      "Iteration 47, loss = 1.39865679\n",
      "Validation score: 0.422819\n",
      "Iteration 48, loss = 1.39523919\n",
      "Validation score: 0.406040\n",
      "Iteration 49, loss = 1.39668870\n",
      "Validation score: 0.427852\n",
      "Validation score did not improve more than tol=0.000100 for 10 consecutive epochs. Stopping.\n"
     ]
    },
    {
     "data": {
      "text/plain": [
       "MLPClassifier(activation='relu', alpha=0.01, batch_size=256, beta_1=0.9,\n",
       "              beta_2=0.999, early_stopping=True, epsilon=1e-08,\n",
       "              hidden_layer_sizes=(300,), learning_rate='adaptive',\n",
       "              learning_rate_init=0.001, max_iter=500, momentum=0.9,\n",
       "              n_iter_no_change=10, nesterovs_momentum=True, power_t=0.5,\n",
       "              random_state=None, shuffle=True, solver='adam', tol=0.0001,\n",
       "              validation_fraction=0.1, verbose=10, warm_start=False)"
      ]
     },
     "execution_count": 308,
     "metadata": {},
     "output_type": "execute_result"
    }
   ],
   "source": [
    "# train the model\n",
    "print(\"[*] Training the model...\")\n",
    "clf.fit(X_train, y_train)"
   ]
  },
  {
   "cell_type": "code",
   "execution_count": 309,
   "metadata": {},
   "outputs": [
    {
     "name": "stdout",
     "output_type": "stream",
     "text": [
      "Score/Accuracy:\n",
      "0.40026863666890533\n",
      "No. of layers:\n",
      "3\n",
      "No. of epochs:\n",
      "49\n",
      "Loss:\n",
      "1.3966887040036404\n",
      "Validation score:\n",
      "0.4278523489932886\n",
      "Out Activation:\n",
      "softmax\n"
     ]
    }
   ],
   "source": [
    "# classifier stats\n",
    "print(\"Score/Accuracy:\")\n",
    "print(clf.score(X_test, y_test))\n",
    "\n",
    "print(\"No. of layers:\")\n",
    "print(clf.n_layers_)\n",
    "\n",
    "print(\"No. of epochs:\")\n",
    "print(clf.n_iter_)\n",
    "\n",
    "print(\"Loss:\")\n",
    "print(clf.loss_)\n",
    "\n",
    "print(\"Validation score:\")\n",
    "print(clf.validation_scores_[clf.n_iter_-1])\n",
    "\n",
    "print(\"Out Activation:\")\n",
    "print(clf.out_activation_)"
   ]
  },
  {
   "cell_type": "code",
   "execution_count": 317,
   "metadata": {
    "colab": {
     "base_uri": "https://localhost:8080/",
     "height": 452
    },
    "colab_type": "code",
    "id": "64DtRRKCQO2_",
    "outputId": "96726a6a-93a9-4fb0-ee91-20c0e2029411"
   },
   "outputs": [
    {
     "name": "stdout",
     "output_type": "stream",
     "text": [
      "['neutral']\n",
      "['angry' 'disgust' 'fearful' 'happy' 'neutral' 'sad']\n",
      "[[0.10427132 0.17996075 0.18516107 0.16401548 0.27520917 0.09138221]]\n",
      "['disgust']\n",
      "['angry' 'disgust' 'fearful' 'happy' 'neutral' 'sad']\n",
      "[[0.06015871 0.4110555  0.0757544  0.2486042  0.12764232 0.07678488]]\n",
      "['neutral']\n",
      "['angry' 'disgust' 'fearful' 'happy' 'neutral' 'sad']\n",
      "[[0.11186312 0.1064162  0.09012311 0.18412179 0.43962468 0.0678511 ]]\n",
      "['angry']\n",
      "['angry' 'disgust' 'fearful' 'happy' 'neutral' 'sad']\n",
      "[[0.42961274 0.094612   0.07391539 0.36946861 0.0296549  0.00273637]]\n"
     ]
    },
    {
     "data": {
      "image/png": "[encoded data removed]",
      "text/plain": [
       "<Figure size 936x432 with 2 Axes>"
      ]
     },
     "metadata": {},
     "output_type": "display_data"
    },
    {
     "name": "stdout",
     "output_type": "stream",
     "text": [
      "Accuracy: 40.03%\n"
     ]
    }
   ],
   "source": [
    "# clf predict\n",
    "y_pred = clf.predict(X_test)\n",
    "print(clf.predict(X_test[[1]]))\n",
    "print(label_encoder.classes_)\n",
    "print(clf.predict_proba(X_test[[1]]))\n",
    "\n",
    "print(clf.predict(X_test[[30]]))\n",
    "print(label_encoder.classes_)\n",
    "print(clf.predict_proba(X_test[[30]]))\n",
    "\n",
    "print(clf.predict(X_test[[22]]))\n",
    "print(label_encoder.classes_)\n",
    "print(clf.predict_proba(X_test[[22]]))\n",
    "\n",
    "print(clf.predict(X_test[[1337]]))\n",
    "print(label_encoder.classes_)\n",
    "print(clf.predict_proba(X_test[[1337]]))\n",
    "\n",
    "# confusion matrix\n",
    "cm = confusion_matrix(y_test, y_pred, labels=list(AVAILABLE_EMOTIONS))\n",
    "x_axis_labels = y_axis_labels = AVAILABLE_EMOTIONS\n",
    "\n",
    "# plot cm dataframe\n",
    "df_cm = pd.DataFrame(cm, range(6), range(6))\n",
    "plt.figure(figsize=(13,6))\n",
    "sn.set(font_scale=1) # for labels\n",
    "sn.heatmap(df_cm, annot=True, annot_kws={\"size\": 12}, xticklabels=x_axis_labels, yticklabels=y_axis_labels)\n",
    "plt.show()\n",
    "\n",
    "# calculate the accuracy\n",
    "accuracy = accuracy_score(y_true=y_test, y_pred=y_pred)\n",
    "print(\"Accuracy: {:.2f}%\".format(accuracy*100))"
   ]
  },
  {
   "cell_type": "code",
   "execution_count": 56,
   "metadata": {
    "colab": {},
    "colab_type": "code",
    "id": "w5b0L3dlQS1B"
   },
   "outputs": [
    {
     "ename": "NameError",
     "evalue": "name 'model' is not defined",
     "output_type": "error",
     "traceback": [
      "\u001b[0;31m---------------------------------------------------------------------------\u001b[0m",
      "\u001b[0;31mNameError\u001b[0m                                 Traceback (most recent call last)",
      "\u001b[0;32m<ipython-input-56-4a4159f99412>\u001b[0m in \u001b[0;36m<module>\u001b[0;34m\u001b[0m\n\u001b[1;32m      4\u001b[0m     \u001b[0mos\u001b[0m\u001b[0;34m.\u001b[0m\u001b[0mmkdir\u001b[0m\u001b[0;34m(\u001b[0m\u001b[0;34m\"result\"\u001b[0m\u001b[0;34m)\u001b[0m\u001b[0;34m\u001b[0m\u001b[0;34m\u001b[0m\u001b[0m\n\u001b[1;32m      5\u001b[0m \u001b[0;34m\u001b[0m\u001b[0m\n\u001b[0;32m----> 6\u001b[0;31m \u001b[0mpickle\u001b[0m\u001b[0;34m.\u001b[0m\u001b[0mdump\u001b[0m\u001b[0;34m(\u001b[0m\u001b[0mmodel\u001b[0m\u001b[0;34m,\u001b[0m \u001b[0mopen\u001b[0m\u001b[0;34m(\u001b[0m\u001b[0;34m\"result/mlp_classifier.model\"\u001b[0m\u001b[0;34m,\u001b[0m \u001b[0;34m\"wb\"\u001b[0m\u001b[0;34m)\u001b[0m\u001b[0;34m)\u001b[0m\u001b[0;34m\u001b[0m\u001b[0;34m\u001b[0m\u001b[0m\n\u001b[0m",
      "\u001b[0;31mNameError\u001b[0m: name 'model' is not defined"
     ]
    }
   ],
   "source": [
    "# save the model\n",
    "# make result directory if doesn't exist yet\n",
    "if not os.path.isdir(\"result\"):\n",
    "    os.mkdir(\"result\")\n",
    "\n",
    "pickle.dump(clf, open(\"result/mlp_classifier.model\", \"wb\"))\n",
    "pickle.dump(reg, open(\"result/reg.model\", \"wb\"))"
   ]
  }
 ],
 "metadata": {
  "accelerator": "GPU",
  "colab": {
   "collapsed_sections": [],
   "name": "ser.ipynb",
   "provenance": [],
   "toc_visible": true
  },
  "kernelspec": {
   "display_name": "Python 3",
   "language": "python",
   "name": "python3"
  },
  "language_info": {
   "codemirror_mode": {
    "name": "ipython",
    "version": 3
   },
   "file_extension": ".py",
   "mimetype": "text/x-python",
   "name": "python",
   "nbconvert_exporter": "python",
   "pygments_lexer": "ipython3",
   "version": "3.7.4"
  }
 },
 "nbformat": 4,
 "nbformat_minor": 1
}
