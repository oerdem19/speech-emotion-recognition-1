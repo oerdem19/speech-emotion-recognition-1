{
 "cells": [
  {
   "cell_type": "markdown",
   "metadata": {
    "colab_type": "text",
    "id": "ZSdjAgdXcraM"
   },
   "source": [
    "# Speech-based Emotion Recognition for Voice Comms.\n",
    "## Main\n",
    "\n",
    "Datasets used:\n",
    "\n",
    "*   RAVDESS, Emo-DB, SAVEE, TESS\n",
    "*   Custom white noise versions of the above\n",
    "\n",
    "NOTE: portaudio install required, ensure apt-get install is run on collab, brew for local environment      "
   ]
  },
  {
   "cell_type": "code",
   "execution_count": 17,
   "metadata": {
    "colab": {
     "base_uri": "https://localhost:8080/",
     "height": 631
    },
    "colab_type": "code",
    "id": "gN_5MT-9GjbG",
    "outputId": "9d3e666c-376a-4c72-d35b-054c5b506788"
   },
   "outputs": [
    {
     "name": "stdout",
     "output_type": "stream",
     "text": [
      "Updating Homebrew...\n",
      "\u001b[34m==>\u001b[0m \u001b[1mAuto-updated Homebrew!\u001b[0m\n",
      "Updated 1 tap (homebrew/core).\n",
      "\u001b[34m==>\u001b[0m \u001b[1mNew Formulae\u001b[0m\n",
      "arb                 gateway-go          notmuch-mutt        simdjson\n",
      "dnsprobe            ksync               scw@1               z.lua\n",
      "\u001b[34m==>\u001b[0m \u001b[1mUpdated Formulae\u001b[0m\n",
      "abcl                       fswatch                    mysql-client\n",
      "anime-downloader           gdbgui                     mysql@5.7\n",
      "apache-flink               geph2                      nasm\n",
      "arangodb                   gh                         nativefier\n",
      "armadillo                  ghc@8.8                    netdata\n",
      "asciidoctorj               gitlab-runner              nodenv\n",
      "avfs                       glslviewer                 octant\n",
      "avra                       go@1.13                    pdnsrec\n",
      "aws-cdk                    grpc                       peco\n",
      "benthos                    healpix                    phpstan\n",
      "broot                      helmfile                   protobuf\n",
      "carton                     hugo                       purescript\n",
      "cartridge-cli              imagemagick                qmmp\n",
      "cedille                    imagemagick@6              radare2\n",
      "clojure                    imgproxy                   reposurgeon\n",
      "convox                     instalooter                scons\n",
      "cproto                     janet                      scw\n",
      "cubejs-cli                 jasper                     semgrep\n",
      "daemontools                jenkins-job-builder        stone-soup\n",
      "dbmate                     jo                         subfinder\n",
      "diffoscope                 just                       tanka\n",
      "dnsmasq                    k3d                        tflint\n",
      "duti                       libphonenumber             traefik\n",
      "dwarfutils                 liquidprompt               tth\n",
      "dwdiff                     mage                       vert.x\n",
      "ensmallen                  mariadb-connector-odbc     vim\n",
      "eslint                     midnight-commander         weechat\n",
      "exploitdb                  minikube                   wla-dx\n",
      "fibjs                      minio                      wpscan\n",
      "fluent-bit                 mlt                        wxmaxima\n",
      "flyway                     mmctl                      you-get\n",
      "fortio                     mysql\n",
      "\n",
      "\u001b[33mWarning:\u001b[0m portaudio 19.6.0 is already installed and up-to-date\n",
      "To reinstall 19.6.0, run `brew reinstall portaudio`\n",
      "Requirement already satisfied: librosa==0.6.3 in /opt/anaconda3/lib/python3.7/site-packages (0.6.3)\n",
      "Requirement already satisfied: numpy in /opt/anaconda3/lib/python3.7/site-packages (1.17.2)\n",
      "Requirement already satisfied: soundfile in /opt/anaconda3/lib/python3.7/site-packages (0.10.3.post1)\n",
      "Requirement already satisfied: sklearn in /opt/anaconda3/lib/python3.7/site-packages (0.0)\n",
      "Requirement already satisfied: pyaudio==0.2.11 in /opt/anaconda3/lib/python3.7/site-packages (0.2.11)\n",
      "Requirement already satisfied: seaborn in /opt/anaconda3/lib/python3.7/site-packages (0.9.0)\n",
      "Requirement already satisfied: pandas in /opt/anaconda3/lib/python3.7/site-packages (0.25.1)\n",
      "Requirement already satisfied: matplotlib in /opt/anaconda3/lib/python3.7/site-packages (3.1.1)\n",
      "Requirement already satisfied: numba>=0.38.0 in /opt/anaconda3/lib/python3.7/site-packages (from librosa==0.6.3) (0.45.1)\n",
      "Requirement already satisfied: scipy>=1.0.0 in /opt/anaconda3/lib/python3.7/site-packages (from librosa==0.6.3) (1.3.1)\n",
      "Requirement already satisfied: joblib>=0.12 in /opt/anaconda3/lib/python3.7/site-packages (from librosa==0.6.3) (0.13.2)\n",
      "Requirement already satisfied: six>=1.3 in /opt/anaconda3/lib/python3.7/site-packages (from librosa==0.6.3) (1.12.0)\n",
      "Requirement already satisfied: decorator>=3.0.0 in /opt/anaconda3/lib/python3.7/site-packages (from librosa==0.6.3) (4.4.0)\n",
      "Requirement already satisfied: scikit-learn!=0.19.0,>=0.14.0 in /opt/anaconda3/lib/python3.7/site-packages (from librosa==0.6.3) (0.21.3)\n",
      "Requirement already satisfied: audioread>=2.0.0 in /opt/anaconda3/lib/python3.7/site-packages (from librosa==0.6.3) (2.1.8)\n",
      "Requirement already satisfied: resampy>=0.2.0 in /opt/anaconda3/lib/python3.7/site-packages (from librosa==0.6.3) (0.2.2)\n",
      "Requirement already satisfied: cffi>=1.0 in /opt/anaconda3/lib/python3.7/site-packages (from soundfile) (1.12.3)\n",
      "Requirement already satisfied: pytz>=2017.2 in /opt/anaconda3/lib/python3.7/site-packages (from pandas) (2019.3)\n",
      "Requirement already satisfied: python-dateutil>=2.6.1 in /opt/anaconda3/lib/python3.7/site-packages (from pandas) (2.8.0)\n",
      "Requirement already satisfied: cycler>=0.10 in /opt/anaconda3/lib/python3.7/site-packages (from matplotlib) (0.10.0)\n",
      "Requirement already satisfied: kiwisolver>=1.0.1 in /opt/anaconda3/lib/python3.7/site-packages (from matplotlib) (1.1.0)\n",
      "Requirement already satisfied: pyparsing!=2.0.4,!=2.1.2,!=2.1.6,>=2.0.1 in /opt/anaconda3/lib/python3.7/site-packages (from matplotlib) (2.4.2)\n",
      "Requirement already satisfied: llvmlite>=0.29.0dev0 in /opt/anaconda3/lib/python3.7/site-packages (from numba>=0.38.0->librosa==0.6.3) (0.29.0)\n",
      "Requirement already satisfied: pycparser in /opt/anaconda3/lib/python3.7/site-packages (from cffi>=1.0->soundfile) (2.19)\n",
      "Requirement already satisfied: setuptools in /opt/anaconda3/lib/python3.7/site-packages (from kiwisolver>=1.0.1->matplotlib) (41.4.0)\n"
     ]
    }
   ],
   "source": [
    "#sudo apt-get install portaudio19-dev # pyaudio req. (for google collab runtime)\n",
    "!brew install portaudio # pyaudio req. (for local jupyter notebook)\n",
    "!pip install librosa==0.6.3 numpy soundfile sklearn pyaudio==0.2.11 seaborn pandas matplotlib"
   ]
  },
  {
   "cell_type": "code",
   "execution_count": 36,
   "metadata": {
    "colab": {},
    "colab_type": "code",
    "id": "GicI2VMDHTni"
   },
   "outputs": [],
   "source": [
    "import soundfile # read audio files\n",
    "import numpy as np\n",
    "import librosa # extract features\n",
    "import glob\n",
    "import os\n",
    "import pickle # to save model after training\n",
    "\n",
    "from sklearn.model_selection import train_test_split # for splitting training and testing data\n",
    "from sklearn.neural_network import MLPClassifier # multi-layer perceptron model\n",
    "from sklearn.metrics import accuracy_score\n",
    "from sklearn.metrics import confusion_matrix # generate cm\n",
    "\n",
    "import seaborn as sn\n",
    "import pandas as pd\n",
    "import matplotlib.pyplot as plt"
   ]
  },
  {
   "cell_type": "code",
   "execution_count": 37,
   "metadata": {
    "colab": {},
    "colab_type": "code",
    "id": "ndQyj81GIfUI"
   },
   "outputs": [],
   "source": [
    "def extract_feature(file_name, **kwargs):\n",
    "    \"\"\"\n",
    "    Extract feature from audio file `file_name`\n",
    "        Features supported:\n",
    "            - MFCC (mfcc)\n",
    "            - Chroma (chroma)\n",
    "            - MEL Spectrogram Frequency (mel)\n",
    "            - Contrast (contrast)\n",
    "            - Tonnetz (tonnetz)\n",
    "        e.g:\n",
    "        `features = extract_feature(path, mel=True, mfcc=True)`\n",
    "    \"\"\"\n",
    "    mfcc = kwargs.get(\"mfcc\")\n",
    "    chroma = kwargs.get(\"chroma\")\n",
    "    mel = kwargs.get(\"mel\")\n",
    "    contrast = kwargs.get(\"contrast\")\n",
    "    tonnetz = kwargs.get(\"tonnetz\")\n",
    "    with soundfile.SoundFile(file_name) as sound_file:\n",
    "        X = sound_file.read(dtype=\"float32\")\n",
    "        sample_rate = sound_file.samplerate # should always be 16kHz\n",
    "        if chroma or contrast:\n",
    "            stft = np.abs(librosa.stft(X))\n",
    "        result = np.array([])\n",
    "        if mfcc:\n",
    "            mfccs = np.mean(librosa.feature.mfcc(y=X, sr=sample_rate, n_mfcc=40).T, axis=0)\n",
    "            result = np.hstack((result, mfccs))\n",
    "        if chroma:\n",
    "            chroma = np.mean(librosa.feature.chroma_stft(S=stft, sr=sample_rate).T,axis=0)\n",
    "            result = np.hstack((result, chroma))\n",
    "        if mel:\n",
    "            mel = np.mean(librosa.feature.melspectrogram(X, sr=sample_rate).T,axis=0)\n",
    "            result = np.hstack((result, mel))\n",
    "        if contrast:\n",
    "            contrast = np.mean(librosa.feature.spectral_contrast(S=stft, sr=sample_rate).T,axis=0)\n",
    "            result = np.hstack((result, contrast))\n",
    "        if tonnetz:\n",
    "            tonnetz = np.mean(librosa.feature.tonnetz(y=librosa.effects.harmonic(X), sr=sample_rate).T,axis=0)\n",
    "            result = np.hstack((result, tonnetz))\n",
    "    return result"
   ]
  },
  {
   "cell_type": "code",
   "execution_count": 38,
   "metadata": {
    "colab": {},
    "colab_type": "code",
    "id": "1Ivlry11IruV"
   },
   "outputs": [],
   "source": [
    "# all emotions RAVDESS\n",
    "int2emotion = {\n",
    "    \"01\": \"neutral\",\n",
    "    \"02\": \"calm\",\n",
    "    \"03\": \"happy\",\n",
    "    \"04\": \"sad\",\n",
    "    \"05\": \"angry\",\n",
    "    \"06\": \"fearful\",\n",
    "    \"07\": \"disgust\",\n",
    "    \"08\": \"surprised\"\n",
    "}\n",
    "\n",
    "# all emotions emoDB\n",
    "char2emotion = {\n",
    "    \"N\": \"neutral\",\n",
    "    \"F\": \"happy\",\n",
    "    \"T\": \"sad\",\n",
    "    \"W\": \"angry\",\n",
    "    \"A\": \"fearful\",\n",
    "    \"E\": \"disgust\",\n",
    "    \"L\": \"boredom\",\n",
    "}\n",
    "\n",
    "# all emotions SAVEE\n",
    "saveeemotion = {\n",
    "    \"n\": \"neutral\",\n",
    "    \"h\": \"happy\",\n",
    "    \"s\": \"sad\",\n",
    "    \"a\": \"angry\",\n",
    "    \"f\": \"fearful\",\n",
    "    \"d\": \"disgust\",\n",
    "    \"p\": \"surprised\",\n",
    "}\n",
    "\n",
    "# all emotions TESS\n",
    "tessemotion = {\n",
    "    \"neutral.wav\": \"neutral\",\n",
    "    \"happy.wav\": \"happy\",\n",
    "    \"sad.wav\": \"sad\",\n",
    "    \"angry.wav\": \"angry\",\n",
    "    \"fear.wav\": \"fearful\",\n",
    "    \"disgust.wav\": \"disgust\",\n",
    "    \"ps.wav\": \"surprised\",\n",
    "}\n",
    "\n",
    "# allow only these emotions from dataset(s)\n",
    "AVAILABLE_EMOTIONS = {\n",
    "    \"neutral\",\n",
    "    #\"calm\", only included in RAVDESS\n",
    "    \"happy\",\n",
    "    \"sad\",\n",
    "    \"angry\",\n",
    "    \"fearful\",\n",
    "    \"disgust\",\n",
    "    #\"surprised\" not included in emodb\n",
    "}\n",
    "\n",
    "# load data and extract features\n",
    "def load_data(test_size=0.2):\n",
    "    X, y = [], []\n",
    "    \n",
    "    # RAVDESS clean\n",
    "    for file in glob.glob(\"data/RAVDESS/Actor_*/*.wav\"):\n",
    "        # get the base name of the audio file\n",
    "        basename = os.path.basename(file)\n",
    "        # get the emotion label\n",
    "        emotion = int2emotion[basename.split(\"-\")[2]]\n",
    "        # we allow only AVAILABLE_EMOTIONS we set\n",
    "        if emotion not in AVAILABLE_EMOTIONS:\n",
    "            continue\n",
    "        # extract features\n",
    "        features = extract_feature(file, mfcc=True)\n",
    "        # add to data\n",
    "        X.append(features)\n",
    "        y.append(emotion)\n",
    "    \n",
    "#     # augmented RAVDESS\n",
    "#     # white noise\n",
    "#     for file in glob.glob(\"data/augment-wn/RAVDESS/*.wav\"):\n",
    "#         # get the base name of the audio file\n",
    "#         basename = os.path.basename(file)\n",
    "#         # get the emotion label\n",
    "#         emotion = int2emotion[basename.split(\"-\")[2]]\n",
    "#         # we allow only AVAILABLE_EMOTIONS we set\n",
    "#         if emotion not in AVAILABLE_EMOTIONS:\n",
    "#             continue\n",
    "#         # extract features\n",
    "#         features = extract_feature(file, mfcc=True)\n",
    "#         # add to data\n",
    "#         X.append(features)\n",
    "#         y.append(emotion)\n",
    "    \n",
    "#     # emodb    \n",
    "#     for file in glob.glob(\"data/emodb/*.wav\"):\n",
    "#         # get the base name of the audio file\n",
    "#         basename = os.path.basename(file)\n",
    "#         # get the emotion label\n",
    "#         emotion = char2emotion[basename[5]]\n",
    "#         # we allow only AVAILABLE_EMOTIONS we set\n",
    "#         if emotion not in AVAILABLE_EMOTIONS:\n",
    "#             continue\n",
    "#         # extract features\n",
    "#         features = extract_feature(file, mfcc=True)\n",
    "#         # add to data\n",
    "#         X.append(features)\n",
    "#         y.append(emotion)\n",
    "    \n",
    "#     # SAVEE\n",
    "#     for file in glob.glob(\"data/SAVEE/*/*.wav\"):\n",
    "#         # get the base name of the audio file\n",
    "#         basename = os.path.basename(file)\n",
    "#         # get the emotion label\n",
    "#         emotion = saveeemotion[basename[0]]\n",
    "#         # we allow only AVAILABLE_EMOTIONS we set\n",
    "#         if emotion not in AVAILABLE_EMOTIONS:\n",
    "#             continue\n",
    "#         # extract features\n",
    "#         features = extract_feature(file, mfcc=True)\n",
    "#         # add to data\n",
    "#         X.append(features)\n",
    "#         y.append(emotion)\n",
    "    \n",
    "#     # TESS\n",
    "#     for file in glob.glob(\"data/tess/*/*.wav\"):\n",
    "#         # get the base name of the audio file\n",
    "#         basename = os.path.basename(file)\n",
    "#         # get the emotion label\n",
    "#         emotion = tessemotion[basename.split(\"_\")[2]]\n",
    "#         # we allow only AVAILABLE_EMOTIONS we set\n",
    "#         if emotion not in AVAILABLE_EMOTIONS:\n",
    "#             continue\n",
    "#         # extract features\n",
    "#         features = extract_feature(file, mfcc=True)\n",
    "#         # add to data\n",
    "#         X.append(features)\n",
    "#         y.append(emotion)\n",
    "    \n",
    "    # split the data to training and testing and return it\n",
    "    return train_test_split(np.array(X), y, test_size=test_size, random_state=420)"
   ]
  },
  {
   "cell_type": "code",
   "execution_count": 39,
   "metadata": {
    "colab": {},
    "colab_type": "code",
    "id": "LUsbEYpnPoL_"
   },
   "outputs": [],
   "source": [
    "# load dataset(s), 75% training 25% testing\n",
    "X_train, X_test, y_train, y_test = load_data(test_size=0.25)"
   ]
  },
  {
   "cell_type": "code",
   "execution_count": 40,
   "metadata": {
    "colab": {
     "base_uri": "https://localhost:8080/",
     "height": 71
    },
    "colab_type": "code",
    "id": "HWOmMe5WP_Mk",
    "outputId": "c91dff34-d76f-4e03-cd87-c2411e248b53"
   },
   "outputs": [
    {
     "name": "stdout",
     "output_type": "stream",
     "text": [
      "[+] Number of training samples: 792\n",
      "[+] Number of testing samples: 264\n",
      "[+] Number of features: 40\n"
     ]
    }
   ],
   "source": [
    "# print some details\n",
    "# number of samples in training data\n",
    "print(\"[+] Number of training samples:\", X_train.shape[0])\n",
    "# number of samples in testing data\n",
    "print(\"[+] Number of testing samples:\", X_test.shape[0])\n",
    "# number of features used\n",
    "# vector of features extracted \n",
    "# using extract_features() function\n",
    "print(\"[+] Number of features:\", X_train.shape[1])"
   ]
  },
  {
   "cell_type": "code",
   "execution_count": 41,
   "metadata": {
    "colab": {},
    "colab_type": "code",
    "id": "_KQYjETHQCdH"
   },
   "outputs": [],
   "source": [
    "# best model params, determined by a grid search run by tutorial author, to be updated\n",
    "model_params = {\n",
    "    'alpha': 0.01,\n",
    "    'batch_size': 256,\n",
    "    'epsilon': 1e-08, \n",
    "    'hidden_layer_sizes': (300,), \n",
    "    'learning_rate': 'adaptive', \n",
    "    'max_iter': 500, \n",
    "}"
   ]
  },
  {
   "cell_type": "code",
   "execution_count": 43,
   "metadata": {
    "colab": {},
    "colab_type": "code",
    "id": "d9oJKdOSQGO3"
   },
   "outputs": [],
   "source": [
    "# initialize Multi Layer Perceptron classifier\n",
    "# with best parameters (so far)\n",
    "# RESET MODEL?\n",
    "model = MLPClassifier(**model_params)"
   ]
  },
  {
   "cell_type": "code",
   "execution_count": 44,
   "metadata": {
    "colab": {
     "base_uri": "https://localhost:8080/",
     "height": 179
    },
    "colab_type": "code",
    "id": "sQd-z074QJrZ",
    "outputId": "4748eab0-67f0-4181-aa74-4f45a0437b3a"
   },
   "outputs": [
    {
     "name": "stdout",
     "output_type": "stream",
     "text": [
      "[*] Training the model...\n"
     ]
    },
    {
     "data": {
      "text/plain": [
       "MLPClassifier(activation='relu', alpha=0.01, batch_size=256, beta_1=0.9,\n",
       "              beta_2=0.999, early_stopping=False, epsilon=1e-08,\n",
       "              hidden_layer_sizes=(300,), learning_rate='adaptive',\n",
       "              learning_rate_init=0.001, max_iter=500, momentum=0.9,\n",
       "              n_iter_no_change=10, nesterovs_momentum=True, power_t=0.5,\n",
       "              random_state=None, shuffle=True, solver='adam', tol=0.0001,\n",
       "              validation_fraction=0.1, verbose=False, warm_start=False)"
      ]
     },
     "execution_count": 44,
     "metadata": {},
     "output_type": "execute_result"
    }
   ],
   "source": [
    "# train the model\n",
    "print(\"[*] Training the model...\")\n",
    "model.fit(X_train, y_train)"
   ]
  },
  {
   "cell_type": "code",
   "execution_count": 45,
   "metadata": {
    "colab": {
     "base_uri": "https://localhost:8080/",
     "height": 452
    },
    "colab_type": "code",
    "id": "64DtRRKCQO2_",
    "outputId": "96726a6a-93a9-4fb0-ee91-20c0e2029411"
   },
   "outputs": [
    {
     "data": {
      "image/png": "[encoded data removed]",
      "text/plain": [
       "<Figure size 936x360 with 2 Axes>"
      ]
     },
     "metadata": {},
     "output_type": "display_data"
    },
    {
     "name": "stdout",
     "output_type": "stream",
     "text": [
      "Accuracy: 41.67%\n"
     ]
    }
   ],
   "source": [
    "# predict 25% of our data to measure how good we are\n",
    "y_pred = model.predict(X_test)\n",
    "\n",
    "# confusion matrix\n",
    "cm = confusion_matrix(y_test, y_pred, labels=list(AVAILABLE_EMOTIONS))\n",
    "x_axis_labels = y_axis_labels = AVAILABLE_EMOTIONS\n",
    "\n",
    "# plot cm dataframe\n",
    "df_cm = pd.DataFrame(cm, range(6), range(6))\n",
    "plt.figure(figsize=(13,5))\n",
    "sn.set(font_scale=1.2) # for labels\n",
    "sn.heatmap(df_cm, annot=True, annot_kws={\"size\": 12}, xticklabels=x_axis_labels, yticklabels=y_axis_labels)\n",
    "plt.show()\n",
    "\n",
    "# calculate the accuracy\n",
    "accuracy = accuracy_score(y_true=y_test, y_pred=y_pred)\n",
    "print(\"Accuracy: {:.2f}%\".format(accuracy*100))"
   ]
  },
  {
   "cell_type": "code",
   "execution_count": 18,
   "metadata": {
    "colab": {},
    "colab_type": "code",
    "id": "w5b0L3dlQS1B"
   },
   "outputs": [],
   "source": [
    "# save the model\n",
    "# make result directory if doesn't exist yet\n",
    "if not os.path.isdir(\"result\"):\n",
    "    os.mkdir(\"result\")\n",
    "\n",
    "pickle.dump(model, open(\"result/mlp_classifier.model\", \"wb\"))"
   ]
  }
 ],
 "metadata": {
  "accelerator": "GPU",
  "colab": {
   "collapsed_sections": [],
   "name": "ser.ipynb",
   "provenance": [],
   "toc_visible": true
  },
  "kernelspec": {
   "display_name": "Python 3",
   "language": "python",
   "name": "python3"
  },
  "language_info": {
   "codemirror_mode": {
    "name": "ipython",
    "version": 3
   },
   "file_extension": ".py",
   "mimetype": "text/x-python",
   "name": "python",
   "nbconvert_exporter": "python",
   "pygments_lexer": "ipython3",
   "version": "3.7.4"
  }
 },
 "nbformat": 4,
 "nbformat_minor": 1
}
