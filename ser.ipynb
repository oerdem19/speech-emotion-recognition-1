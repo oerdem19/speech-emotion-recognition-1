{
 "cells": [
  {
   "cell_type": "markdown",
   "metadata": {
    "colab_type": "text",
    "id": "ZSdjAgdXcraM"
   },
   "source": [
    "# Speech-based Emotion Recognition for Voice Comms.\n",
    "## Main Notebook\n",
    "\n",
    "Datasets used:\n",
    "\n",
    "*   RAVDESS, CREMA-D\n",
    "*   See AugmentData.ipynb for augmentation scripts    "
   ]
  },
  {
   "cell_type": "code",
   "execution_count": 84,
   "metadata": {
    "colab": {},
    "colab_type": "code",
    "id": "GicI2VMDHTni"
   },
   "outputs": [],
   "source": [
    "import soundfile # read audio files\n",
    "import numpy as np\n",
    "import librosa # extract features\n",
    "import glob\n",
    "import os\n",
    "import pickle # to save model after training\n",
    "\n",
    "from sklearn import preprocessing\n",
    "from sklearn.ensemble import RandomForestRegressor\n",
    "from sklearn.model_selection import train_test_split # for splitting training and testing data\n",
    "from sklearn.neural_network import MLPClassifier # multi-layer perceptron model\n",
    "from sklearn import metrics\n",
    "\n",
    "import seaborn as sn\n",
    "import pandas as pd\n",
    "import matplotlib.pyplot as plt\n",
    "import matplotlib.patches as mpatches"
   ]
  },
  {
   "cell_type": "code",
   "execution_count": 2,
   "metadata": {
    "colab": {},
    "colab_type": "code",
    "id": "ndQyj81GIfUI"
   },
   "outputs": [],
   "source": [
    "def extract_feature(file_name, **kwargs):\n",
    "    \"\"\"\n",
    "    Extract feature from audio file `file_name`\n",
    "        Features supported:\n",
    "            - MFCC (mfcc)\n",
    "            - Chroma (chroma)\n",
    "            - MEL Spectrogram Frequency (mel)\n",
    "            - Contrast (contrast)\n",
    "            - Tonnetz (tonnetz)\n",
    "        e.g:\n",
    "        `features = extract_feature(path, mel=True, mfcc=True)`\n",
    "    \"\"\"\n",
    "    mfcc = kwargs.get(\"mfcc\")\n",
    "    chroma = kwargs.get(\"chroma\")\n",
    "    mel = kwargs.get(\"mel\")\n",
    "    contrast = kwargs.get(\"contrast\")\n",
    "    tonnetz = kwargs.get(\"tonnetz\")\n",
    "    with soundfile.SoundFile(file_name) as sound_file:\n",
    "        X = sound_file.read(dtype=\"float32\") # all depth 32bit float\n",
    "        sample_rate = sound_file.samplerate # should always be 16kHz\n",
    "        if chroma or contrast:\n",
    "            stft = np.abs(librosa.stft(X))\n",
    "        result = np.array([])\n",
    "        if mfcc:\n",
    "            mfccs = np.mean(librosa.feature.mfcc(y=X, sr=sample_rate, n_mfcc=13).T, axis=0)\n",
    "            result = np.hstack((result, mfccs))\n",
    "        if chroma:\n",
    "            chroma = np.mean(librosa.feature.chroma_stft(S=stft, sr=sample_rate).T,axis=0)\n",
    "            result = np.hstack((result, chroma))\n",
    "        if mel:\n",
    "            mel = np.mean(librosa.feature.melspectrogram(X, sr=sample_rate).T,axis=0)\n",
    "            result = np.hstack((result, mel))\n",
    "        if contrast:\n",
    "            contrast = np.mean(librosa.feature.spectral_contrast(S=stft, sr=sample_rate).T,axis=0)\n",
    "            result = np.hstack((result, contrast))\n",
    "        if tonnetz:\n",
    "            tonnetz = np.mean(librosa.feature.tonnetz(y=librosa.effects.harmonic(X), sr=sample_rate).T,axis=0)\n",
    "            result = np.hstack((result, tonnetz))\n",
    "    return result"
   ]
  },
  {
   "cell_type": "code",
   "execution_count": 65,
   "metadata": {},
   "outputs": [],
   "source": [
    "# all emotions RAVDESS\n",
    "int2emotion = {\n",
    "    \"01\": \"neutral\",\n",
    "    \"02\": \"calm\",\n",
    "    \"03\": \"happy\",\n",
    "    \"04\": \"sad\",\n",
    "    \"05\": \"angry\",\n",
    "    \"06\": \"fearful\",\n",
    "    \"07\": \"disgust\",\n",
    "    \"08\": \"surprised\"\n",
    "}\n",
    "\n",
    "# all emotions CREMA-D\n",
    "cemotion = {\n",
    "    \"NEU\": \"neutral\",\n",
    "    \"HAP\": \"happy\",\n",
    "    \"SAD\": \"sad\",\n",
    "    \"ANG\": \"angry\",\n",
    "    \"FEA\": \"fearful\",\n",
    "    \"DIS\": \"disgust\",\n",
    "}\n",
    "\n",
    "# allow only these emotions from dataset(s)\n",
    "AVAILABLE_EMOTIONS = {\n",
    "    \"neutral\",\n",
    "    \"calm\", # only included in RAVDESS\n",
    "    \"happy\",\n",
    "    \"sad\",\n",
    "    \"angry\", \n",
    "    \"fearful\",\n",
    "    \"disgust\",\n",
    "    \"surprised\" # in TESS specifies pleasant surprise\n",
    "}\n",
    "\n",
    "# map emotion to 2D space\n",
    "circumplex_model = {\n",
    "    \"neutral\":[(0.0, 0.0), \"grey\"],\n",
    "    \"calm\":[(0.5,-0.7),\"cyan\"], # only included in RAVDESS\n",
    "    \"happy\":[(0.8, 0.1),\"yellow\"],\n",
    "    \"sad\":[(-0.8, -0.3),\"blue\"],\n",
    "    \"angry\":[(-0.2,0.7),\"red\"],\n",
    "    \"fearful\":[(-0.4,0.7),\"pink\"], #circumplex afraid\n",
    "    \"disgust\":[(-0.41,0.6),\"green\"], #circumplex annoyed\n",
    "    \"surprised\":[(0.3,0.7),\"orange\"], #circumplex astonished, in TESS specifies pleasant surprise\n",
    "}\n",
    "\n",
    "# map emotion to 3d space\n",
    "pad_model = {\n",
    "    \n",
    "}"
   ]
  },
  {
   "cell_type": "code",
   "execution_count": 67,
   "metadata": {
    "colab": {},
    "colab_type": "code",
    "id": "1Ivlry11IruV"
   },
   "outputs": [],
   "source": [
    "# load data and extract features\n",
    "def load_data(test_size=0.2):\n",
    "    X, y = [], []\n",
    "    \n",
    "    # RAVDESS clean\n",
    "    for file in glob.glob(\"data/RAVDESS-nosil/*.wav\"):\n",
    "        # get the base name of the audio file\n",
    "        basename = os.path.basename(file)\n",
    "        # get the emotion label\n",
    "        emotion = int2emotion[basename.split(\"-\")[2]]\n",
    "        # we allow only circumplex model emotions\n",
    "        if emotion not in AVAILABLE_EMOTIONS:\n",
    "            continue\n",
    "        # map coords\n",
    "        circumplex_coord = circumplex_model[emotion][0]\n",
    "        # extract features\n",
    "        features = extract_feature(file, mfcc=True)\n",
    "        # add to data\n",
    "        X.append(features)\n",
    "        y.append(circumplex_coord)\n",
    "    \n",
    "#     # augmented RAVDESS\n",
    "#     # white noise\n",
    "#     for file in glob.glob(\"data/augment-wn/RAVDESS/*.wav\"):\n",
    "#         # get the base name of the audio file\n",
    "#         basename = os.path.basename(file)\n",
    "#         # get the emotion label\n",
    "#         emotion = int2emotion[basename.split(\"-\")[2]]\n",
    "#         # we allow only AVAILABLE_EMOTIONS we set\n",
    "#         if emotion not in AVAILABLE_EMOTIONS:\n",
    "#             continue\n",
    "#         # extract features\n",
    "#         features = extract_feature(file, mfcc=True)\n",
    "#         # add to data\n",
    "#         X.append(features)\n",
    "#         y.append(emotion)\n",
    "        \n",
    "#     # CREMA-D clean\n",
    "#     for file in glob.glob(\"data/CREMA-D/*.wav\"):\n",
    "#         # get the base name of the audio file\n",
    "#         basename = os.path.basename(file)\n",
    "#         # get the emotion label\n",
    "#         emotion = cemotion[basename.split(\"_\")[2]]\n",
    "#         # we allow only AVAILABLE_EMOTIONS we set\n",
    "#         if emotion not in AVAILABLE_EMOTIONS:\n",
    "#             continue\n",
    "#         # map coords\n",
    "#         circumplex_coord = circumplex_model[emotion]\n",
    "#         # extract features\n",
    "#         features = extract_feature(file, mfcc=True)\n",
    "#         # add to data\n",
    "#         X.append(features)\n",
    "#         y.append(circumplex_coord)\n",
    "\n",
    "#     # TESS clean\n",
    "#     for file in glob.glob(\"data/TESS-nosil/*.wav\"):\n",
    "#         # get the base name of the audio file\n",
    "#         basename = os.path.basename(file)\n",
    "#         # get the emotion label\n",
    "#         emotion = tessemotion[basename.split(\"_\")[2]]\n",
    "#         # we allow only AVAILABLE_EMOTIONS we set\n",
    "#         if emotion not in AVAILABLE_EMOTIONS:\n",
    "#             continue\n",
    "#         # extract features\n",
    "#         features = extract_feature(file, mfcc=True)\n",
    "#         # add to data\n",
    "#         X.append(features)\n",
    "#         y.append(emotion)\n",
    "    \n",
    "#     # emodb clean\n",
    "#     for file in glob.glob(\"data/EMODB-nosil/*.wav\"):\n",
    "#         # get the base name of the audio file\n",
    "#         basename = os.path.basename(file)\n",
    "#         # get the emotion label\n",
    "#         emotion = char2emotion[basename[5]]\n",
    "#         # we allow only AVAILABLE_EMOTIONS we set\n",
    "#         if emotion not in AVAILABLE_EMOTIONS:\n",
    "#             continue\n",
    "#         # extract features\n",
    "#         features = extract_feature(file, mfcc=True)\n",
    "#         # add to data\n",
    "#         X.append(features)\n",
    "#         y.append(emotion)\n",
    "    \n",
    "#     # SAVEE clean\n",
    "#     for file in glob.glob(\"data/SAVEE-nosil/*.wav\"):\n",
    "#         # get the base name of the audio file\n",
    "#         basename = os.path.basename(file)\n",
    "#         # get the emotion label\n",
    "#         emotion = saveeemotion[basename[0]]\n",
    "#         # we allow only AVAILABLE_EMOTIONS we set\n",
    "#         if emotion not in AVAILABLE_EMOTIONS:\n",
    "#             continue\n",
    "#         # extract features\n",
    "#         features = extract_feature(file, mfcc=True)\n",
    "#         # add to data\n",
    "#         X.append(features)\n",
    "#         y.append(emotion)\n",
    "\n",
    "    # scale features [1, -1]\n",
    "    X /= np.max(np.abs(X),axis=0)\n",
    "    \n",
    "#     # label encoding for y\n",
    "#     label_encoder = preprocessing.LabelEncoder()\n",
    "#     label_encoder.fit(y)\n",
    "#     print(\"Class mapping: \")\n",
    "#     for i, item in enumerate(label_encoder.classes_):\n",
    "#         print(item, \"-->\", i)\n",
    "        \n",
    "#     encoded_labels = label_encoder.transform(y)\n",
    "    #print(\"Labels =\", labels)\n",
    "    #print(\"Encoded labels =\", list(encoded_labels))\n",
    "    \n",
    "    # split the data to training and testing and return it\n",
    "    return train_test_split(np.array(X), np.array(y), test_size=test_size, random_state=420, stratify=y)"
   ]
  },
  {
   "cell_type": "code",
   "execution_count": 68,
   "metadata": {
    "colab": {},
    "colab_type": "code",
    "id": "LUsbEYpnPoL_"
   },
   "outputs": [
    {
     "name": "stdout",
     "output_type": "stream",
     "text": [
      "[[-0.4  0.7]\n",
      " [-0.2  0.7]\n",
      " [ 0.3  0.7]\n",
      " ...\n",
      " [ 0.5 -0.7]\n",
      " [ 0.3  0.7]\n",
      " [ 0.   0. ]]\n"
     ]
    }
   ],
   "source": [
    "# load dataset(s), 80% training 20% testing\n",
    "X_train, X_test, y_train, y_test = load_data(test_size=0.2)"
   ]
  },
  {
   "cell_type": "code",
   "execution_count": 69,
   "metadata": {
    "colab": {
     "base_uri": "https://localhost:8080/",
     "height": 71
    },
    "colab_type": "code",
    "id": "HWOmMe5WP_Mk",
    "outputId": "c91dff34-d76f-4e03-cd87-c2411e248b53"
   },
   "outputs": [
    {
     "name": "stdout",
     "output_type": "stream",
     "text": [
      "[+] Number of training samples: 1152\n",
      "[+] Number of testing samples: 288\n",
      "[+] Number of features: 13\n"
     ]
    }
   ],
   "source": [
    "# print some details\n",
    "# number of samples in training data\n",
    "print(\"[+] Number of training samples:\", X_train.shape[0])\n",
    "# number of samples in testing data\n",
    "print(\"[+] Number of testing samples:\", X_test.shape[0])\n",
    "# number of features used\n",
    "# vector of features extracted \n",
    "# using extract_features() function\n",
    "print(\"[+] Number of features:\", X_train.shape[1])"
   ]
  },
  {
   "cell_type": "code",
   "execution_count": 70,
   "metadata": {},
   "outputs": [
    {
     "data": {
      "text/plain": [
       "<matplotlib.axes._subplots.AxesSubplot at 0x1c1cc5a450>"
      ]
     },
     "execution_count": 70,
     "metadata": {},
     "output_type": "execute_result"
    },
    {
     "data": {
      "image/png": "[encoded data removed]",
      "text/plain": [
       "<Figure size 432x288 with 1 Axes>"
      ]
     },
     "metadata": {
      "needs_background": "light"
     },
     "output_type": "display_data"
    }
   ],
   "source": [
    "y_train_df = pd.DataFrame(data=y_train[:,0], columns=['label'])\n",
    "y_train_df['label'].value_counts().plot.bar(title='Train')"
   ]
  },
  {
   "cell_type": "code",
   "execution_count": 71,
   "metadata": {},
   "outputs": [
    {
     "data": {
      "text/plain": [
       "<matplotlib.axes._subplots.AxesSubplot at 0x1c1d691390>"
      ]
     },
     "execution_count": 71,
     "metadata": {},
     "output_type": "execute_result"
    },
    {
     "data": {
      "image/png": "[encoded data removed]",
      "text/plain": [
       "<Figure size 432x288 with 1 Axes>"
      ]
     },
     "metadata": {
      "needs_background": "light"
     },
     "output_type": "display_data"
    }
   ],
   "source": [
    "y_test_df = pd.DataFrame(data=y_test[:,0], columns=['label'])\n",
    "y_test_df['label'].value_counts().plot.bar(title='Test')"
   ]
  },
  {
   "cell_type": "code",
   "execution_count": 72,
   "metadata": {},
   "outputs": [],
   "source": [
    "regr_params = {\n",
    "    'verbose': 10,\n",
    "    'n_estimators': 100,\n",
    "    'max_depth':None,\n",
    "}"
   ]
  },
  {
   "cell_type": "code",
   "execution_count": 73,
   "metadata": {},
   "outputs": [],
   "source": [
    "# init regr\n",
    "regr = RandomForestRegressor(**regr_params)"
   ]
  },
  {
   "cell_type": "code",
   "execution_count": 74,
   "metadata": {},
   "outputs": [
    {
     "name": "stdout",
     "output_type": "stream",
     "text": [
      "[*] Training the model...\n",
      "building tree 1 of 100\n",
      "building tree 2 of 100\n",
      "building tree 3 of 100\n",
      "building tree 4 of 100\n",
      "building tree 5 of 100\n",
      "building tree 6 of 100\n",
      "building tree 7 of 100\n",
      "building tree 8 of 100\n",
      "building tree 9 of 100\n",
      "building tree 10 of 100\n",
      "building tree 11 of 100\n",
      "building tree 12 of 100\n",
      "building tree 13 of 100\n",
      "building tree 14 of 100\n",
      "building tree 15 of 100\n"
     ]
    },
    {
     "name": "stderr",
     "output_type": "stream",
     "text": [
      "[Parallel(n_jobs=1)]: Using backend SequentialBackend with 1 concurrent workers.\n",
      "[Parallel(n_jobs=1)]: Done   1 out of   1 | elapsed:    0.0s remaining:    0.0s\n",
      "[Parallel(n_jobs=1)]: Done   2 out of   2 | elapsed:    0.0s remaining:    0.0s\n",
      "[Parallel(n_jobs=1)]: Done   3 out of   3 | elapsed:    0.0s remaining:    0.0s\n",
      "[Parallel(n_jobs=1)]: Done   4 out of   4 | elapsed:    0.0s remaining:    0.0s\n",
      "[Parallel(n_jobs=1)]: Done   5 out of   5 | elapsed:    0.1s remaining:    0.0s\n",
      "[Parallel(n_jobs=1)]: Done   6 out of   6 | elapsed:    0.1s remaining:    0.0s\n",
      "[Parallel(n_jobs=1)]: Done   7 out of   7 | elapsed:    0.1s remaining:    0.0s\n",
      "[Parallel(n_jobs=1)]: Done   8 out of   8 | elapsed:    0.1s remaining:    0.0s\n",
      "[Parallel(n_jobs=1)]: Done   9 out of   9 | elapsed:    0.1s remaining:    0.0s\n"
     ]
    },
    {
     "name": "stdout",
     "output_type": "stream",
     "text": [
      "building tree 16 of 100\n",
      "building tree 17 of 100\n",
      "building tree 18 of 100\n",
      "building tree 19 of 100\n",
      "building tree 20 of 100\n",
      "building tree 21 of 100\n",
      "building tree 22 of 100\n",
      "building tree 23 of 100\n",
      "building tree 24 of 100\n",
      "building tree 25 of 100\n",
      "building tree 26 of 100\n",
      "building tree 27 of 100\n",
      "building tree 28 of 100\n",
      "building tree 29 of 100\n",
      "building tree 30 of 100\n",
      "building tree 31 of 100\n",
      "building tree 32 of 100\n",
      "building tree 33 of 100\n",
      "building tree 34 of 100\n",
      "building tree 35 of 100\n",
      "building tree 36 of 100\n",
      "building tree 37 of 100\n",
      "building tree 38 of 100\n",
      "building tree 39 of 100\n",
      "building tree 40 of 100\n",
      "building tree 41 of 100\n",
      "building tree 42 of 100\n",
      "building tree 43 of 100\n",
      "building tree 44 of 100\n",
      "building tree 45 of 100\n",
      "building tree 46 of 100\n",
      "building tree 47 of 100\n",
      "building tree 48 of 100\n",
      "building tree 49 of 100\n",
      "building tree 50 of 100\n",
      "building tree 51 of 100\n",
      "building tree 52 of 100\n",
      "building tree 53 of 100\n",
      "building tree 54 of 100\n",
      "building tree 55 of 100\n",
      "building tree 56 of 100\n",
      "building tree 57 of 100\n",
      "building tree 58 of 100\n",
      "building tree 59 of 100\n",
      "building tree 60 of 100\n",
      "building tree 61 of 100\n",
      "building tree 62 of 100\n",
      "building tree 63 of 100\n",
      "building tree 64 of 100\n",
      "building tree 65 of 100\n",
      "building tree 66 of 100\n",
      "building tree 67 of 100\n",
      "building tree 68 of 100\n",
      "building tree 69 of 100\n",
      "building tree 70 of 100\n",
      "building tree 71 of 100\n",
      "building tree 72 of 100\n",
      "building tree 73 of 100\n",
      "building tree 74 of 100\n",
      "building tree 75 of 100\n",
      "building tree 76 of 100\n",
      "building tree 77 of 100\n",
      "building tree 78 of 100\n",
      "building tree 79 of 100\n",
      "building tree 80 of 100\n",
      "building tree 81 of 100\n",
      "building tree 82 of 100\n",
      "building tree 83 of 100\n",
      "building tree 84 of 100\n",
      "building tree 85 of 100\n",
      "building tree 86 of 100\n",
      "building tree 87 of 100\n",
      "building tree 88 of 100\n",
      "building tree 89 of 100\n",
      "building tree 90 of 100\n",
      "building tree 91 of 100\n",
      "building tree 92 of 100\n",
      "building tree 93 of 100\n",
      "building tree 94 of 100\n",
      "building tree 95 of 100\n",
      "building tree 96 of 100\n",
      "building tree 97 of 100\n",
      "building tree 98 of 100\n",
      "building tree 99 of 100\n",
      "building tree 100 of 100\n"
     ]
    },
    {
     "name": "stderr",
     "output_type": "stream",
     "text": [
      "[Parallel(n_jobs=1)]: Done 100 out of 100 | elapsed:    1.0s finished\n"
     ]
    },
    {
     "data": {
      "text/plain": [
       "RandomForestRegressor(bootstrap=True, criterion='mse', max_depth=None,\n",
       "                      max_features='auto', max_leaf_nodes=None,\n",
       "                      min_impurity_decrease=0.0, min_impurity_split=None,\n",
       "                      min_samples_leaf=1, min_samples_split=2,\n",
       "                      min_weight_fraction_leaf=0.0, n_estimators=100,\n",
       "                      n_jobs=None, oob_score=False, random_state=None,\n",
       "                      verbose=10, warm_start=False)"
      ]
     },
     "execution_count": 74,
     "metadata": {},
     "output_type": "execute_result"
    }
   ],
   "source": [
    "# train the model\n",
    "print(\"[*] Training the model...\")\n",
    "regr.fit(X_train, y_train)"
   ]
  },
  {
   "cell_type": "code",
   "execution_count": 75,
   "metadata": {},
   "outputs": [
    {
     "name": "stderr",
     "output_type": "stream",
     "text": [
      "[Parallel(n_jobs=1)]: Using backend SequentialBackend with 1 concurrent workers.\n",
      "[Parallel(n_jobs=1)]: Done   1 out of   1 | elapsed:    0.0s remaining:    0.0s\n",
      "[Parallel(n_jobs=1)]: Done   2 out of   2 | elapsed:    0.0s remaining:    0.0s\n",
      "[Parallel(n_jobs=1)]: Done   3 out of   3 | elapsed:    0.0s remaining:    0.0s\n",
      "[Parallel(n_jobs=1)]: Done   4 out of   4 | elapsed:    0.0s remaining:    0.0s\n",
      "[Parallel(n_jobs=1)]: Done   5 out of   5 | elapsed:    0.0s remaining:    0.0s\n",
      "[Parallel(n_jobs=1)]: Done   6 out of   6 | elapsed:    0.0s remaining:    0.0s\n",
      "[Parallel(n_jobs=1)]: Done   7 out of   7 | elapsed:    0.0s remaining:    0.0s\n",
      "[Parallel(n_jobs=1)]: Done   8 out of   8 | elapsed:    0.0s remaining:    0.0s\n",
      "[Parallel(n_jobs=1)]: Done   9 out of   9 | elapsed:    0.0s remaining:    0.0s\n",
      "[Parallel(n_jobs=1)]: Done 100 out of 100 | elapsed:    0.0s finished\n"
     ]
    }
   ],
   "source": [
    "y_predict = regr.predict(X_test)"
   ]
  },
  {
   "cell_type": "code",
   "execution_count": 97,
   "metadata": {},
   "outputs": [
    {
     "data": {
      "image/png": "[encoded data removed]",
      "text/plain": [
       "<Figure size 720x720 with 1 Axes>"
      ]
     },
     "metadata": {},
     "output_type": "display_data"
    },
    {
     "name": "stdout",
     "output_type": "stream",
     "text": [
      "     Actual x  Actual y  Predicted x  Predicted y\n",
      "0        -0.2       0.7       0.0528        0.474\n",
      "1         0.8       0.1       0.2751        0.189\n",
      "2         0.8       0.1       0.5134        0.178\n",
      "3         0.0       0.0      -0.1320       -0.269\n",
      "4        -0.2       0.7       0.1170        0.640\n",
      "..        ...       ...          ...          ...\n",
      "283      -0.4       0.7      -0.2220        0.664\n",
      "284       0.5      -0.7       0.2353       -0.357\n",
      "285       0.3       0.7       0.0829        0.617\n",
      "286       0.3       0.7       0.3937        0.315\n",
      "287      -0.2       0.7      -0.2978        0.258\n",
      "\n",
      "[288 rows x 4 columns]\n",
      "\n",
      "Mean Absolute Error: 0.30973836805555544\n",
      "Mean Squared Error: 0.15305674755208334\n",
      "Root Mean Squared Error: 0.3912246765633315\n"
     ]
    }
   ],
   "source": [
    "# plotting\n",
    "plt.figure(figsize=(10,10))\n",
    "# im = plt.imread(\"circumplex-model.png\",0)\n",
    "# implot = plt.imshow(im,extent=[y_train[:,0].min(),y_train[:,0].max(),y_train[:,1].min(),y_train[:,1].max()])\n",
    "\n",
    "colors = []\n",
    "\n",
    "for i in range(len(y_test)):\n",
    "    for key, value in circumplex_model.items():\n",
    "        if tuple(y_test[i]) == value[0]:\n",
    "            colors.append(value[1])\n",
    "\n",
    "plt.scatter(y_test[:,0], y_test[:,1], color='black', s=15)\n",
    "plt.scatter(y_predict[:,0],y_predict[:,1], c=colors, s=15)\n",
    "\n",
    "plt.xlim(-1, 1)\n",
    "plt.ylim(-1, 1)\n",
    "\n",
    "plt.xticks([])\n",
    "plt.yticks([])\n",
    "\n",
    "for key, value in circumplex_model.items():\n",
    "    plt.annotate(key, value[0])\n",
    "\n",
    "black_patch = mpatches.Patch(color='black', label='ground truth')\n",
    "grey_patch = mpatches.Patch(color='grey', label='neutral')\n",
    "cyan_patch = mpatches.Patch(color='cyan', label='calm')\n",
    "yellow_patch = mpatches.Patch(color='yellow', label='happy')\n",
    "blue_patch = mpatches.Patch(color='blue', label='sad')\n",
    "red_patch = mpatches.Patch(color='red', label='angry')\n",
    "pink_patch = mpatches.Patch(color='pink', label='fearful')\n",
    "green_patch = mpatches.Patch(color='green', label='disgust')\n",
    "orange_patch = mpatches.Patch(color='orange', label='surprised')\n",
    "\n",
    "plt.legend(handles=[black_patch,\n",
    "                    grey_patch,\n",
    "                    cyan_patch,\n",
    "                    yellow_patch,\n",
    "                    blue_patch,\n",
    "                    red_patch,\n",
    "                    pink_patch,\n",
    "                    green_patch,\n",
    "                    orange_patch])\n",
    "\n",
    "plt.show()\n",
    "\n",
    "df_regr = pd.DataFrame({'Actual x': y_test[:,0], \n",
    "                        'Actual y':y_test[:,1],\n",
    "                        'Predicted x': y_predict[:,0], \n",
    "                        'Predicted y':y_predict[:,1]})\n",
    "print(df_regr)\n",
    "print()\n",
    "print('Mean Absolute Error:', metrics.mean_absolute_error(y_test, y_predict))\n",
    "print('Mean Squared Error:', metrics.mean_squared_error(y_test, y_predict))\n",
    "print('Root Mean Squared Error:', np.sqrt(metrics.mean_squared_error(y_test, y_predict)))"
   ]
  },
  {
   "cell_type": "code",
   "execution_count": 10,
   "metadata": {
    "colab": {},
    "colab_type": "code",
    "id": "_KQYjETHQCdH"
   },
   "outputs": [],
   "source": [
    "# best model params, determined by a grid search\n",
    "clf_params = {\n",
    "    'alpha': 0.01,\n",
    "    'batch_size': 256,\n",
    "    'epsilon': 1e-08, \n",
    "    'hidden_layer_sizes': (300,), \n",
    "    'learning_rate': 'adaptive', \n",
    "    'max_iter': 500,\n",
    "    'early_stopping': True,\n",
    "    'validation_fraction':0.1,\n",
    "    'verbose': 10,\n",
    "    'n_iter_no_change': 10,\n",
    "}"
   ]
  },
  {
   "cell_type": "code",
   "execution_count": 11,
   "metadata": {
    "colab": {},
    "colab_type": "code",
    "id": "d9oJKdOSQGO3"
   },
   "outputs": [],
   "source": [
    "# init MLP classifier\n",
    "clf = MLPClassifier(**clf_params)"
   ]
  },
  {
   "cell_type": "code",
   "execution_count": 12,
   "metadata": {
    "colab": {
     "base_uri": "https://localhost:8080/",
     "height": 179
    },
    "colab_type": "code",
    "id": "sQd-z074QJrZ",
    "outputId": "4748eab0-67f0-4181-aa74-4f45a0437b3a"
   },
   "outputs": [
    {
     "name": "stdout",
     "output_type": "stream",
     "text": [
      "[*] Training the model...\n",
      "Iteration 1, loss = 1.75201689\n",
      "Validation score: 0.305369\n",
      "Iteration 2, loss = 1.67492984\n",
      "Validation score: 0.328859\n",
      "Iteration 3, loss = 1.61095321\n",
      "Validation score: 0.337248\n",
      "Iteration 4, loss = 1.56832926\n",
      "Validation score: 0.327181\n",
      "Iteration 5, loss = 1.54642222\n",
      "Validation score: 0.345638\n",
      "Iteration 6, loss = 1.53109893\n",
      "Validation score: 0.337248\n",
      "Iteration 7, loss = 1.52134136\n",
      "Validation score: 0.355705\n",
      "Iteration 8, loss = 1.51146446\n",
      "Validation score: 0.355705\n",
      "Iteration 9, loss = 1.50450428\n",
      "Validation score: 0.357383\n",
      "Iteration 10, loss = 1.49738540\n",
      "Validation score: 0.348993\n",
      "Iteration 11, loss = 1.49188943\n",
      "Validation score: 0.365772\n",
      "Iteration 12, loss = 1.48740182\n",
      "Validation score: 0.355705\n",
      "Iteration 13, loss = 1.48002720\n",
      "Validation score: 0.372483\n",
      "Iteration 14, loss = 1.47545064\n",
      "Validation score: 0.367450\n",
      "Iteration 15, loss = 1.47109107\n",
      "Validation score: 0.374161\n",
      "Iteration 16, loss = 1.46742548\n",
      "Validation score: 0.365772\n",
      "Iteration 17, loss = 1.46304683\n",
      "Validation score: 0.362416\n",
      "Iteration 18, loss = 1.45966904\n",
      "Validation score: 0.362416\n",
      "Iteration 19, loss = 1.45534937\n",
      "Validation score: 0.377517\n",
      "Iteration 20, loss = 1.45397271\n",
      "Validation score: 0.370805\n",
      "Iteration 21, loss = 1.44929368\n",
      "Validation score: 0.385906\n",
      "Iteration 22, loss = 1.44690137\n",
      "Validation score: 0.377517\n",
      "Iteration 23, loss = 1.44292368\n",
      "Validation score: 0.370805\n",
      "Iteration 24, loss = 1.43937369\n",
      "Validation score: 0.385906\n",
      "Iteration 25, loss = 1.43815629\n",
      "Validation score: 0.387584\n",
      "Iteration 26, loss = 1.43562593\n",
      "Validation score: 0.387584\n",
      "Iteration 27, loss = 1.43199263\n",
      "Validation score: 0.387584\n",
      "Iteration 28, loss = 1.42999877\n",
      "Validation score: 0.390940\n",
      "Iteration 29, loss = 1.42929730\n",
      "Validation score: 0.392617\n",
      "Iteration 30, loss = 1.42509746\n",
      "Validation score: 0.389262\n",
      "Iteration 31, loss = 1.42176614\n",
      "Validation score: 0.389262\n",
      "Iteration 32, loss = 1.42035726\n",
      "Validation score: 0.392617\n",
      "Iteration 33, loss = 1.41860513\n",
      "Validation score: 0.390940\n",
      "Iteration 34, loss = 1.41634395\n",
      "Validation score: 0.395973\n",
      "Iteration 35, loss = 1.41438659\n",
      "Validation score: 0.399329\n",
      "Iteration 36, loss = 1.41308494\n",
      "Validation score: 0.401007\n",
      "Iteration 37, loss = 1.41038596\n",
      "Validation score: 0.414430\n",
      "Iteration 38, loss = 1.40946561\n",
      "Validation score: 0.406040\n",
      "Iteration 39, loss = 1.40774309\n",
      "Validation score: 0.389262\n",
      "Iteration 40, loss = 1.40795628\n",
      "Validation score: 0.397651\n",
      "Iteration 41, loss = 1.40521075\n",
      "Validation score: 0.404362\n",
      "Iteration 42, loss = 1.40202732\n",
      "Validation score: 0.402685\n",
      "Iteration 43, loss = 1.40044169\n",
      "Validation score: 0.412752\n",
      "Iteration 44, loss = 1.39944487\n",
      "Validation score: 0.412752\n",
      "Iteration 45, loss = 1.39757314\n",
      "Validation score: 0.412752\n",
      "Iteration 46, loss = 1.39642526\n",
      "Validation score: 0.404362\n",
      "Iteration 47, loss = 1.39594361\n",
      "Validation score: 0.406040\n",
      "Iteration 48, loss = 1.39264192\n",
      "Validation score: 0.399329\n",
      "Validation score did not improve more than tol=0.000100 for 10 consecutive epochs. Stopping.\n"
     ]
    },
    {
     "data": {
      "text/plain": [
       "MLPClassifier(activation='relu', alpha=0.01, batch_size=256, beta_1=0.9,\n",
       "              beta_2=0.999, early_stopping=True, epsilon=1e-08,\n",
       "              hidden_layer_sizes=(300,), learning_rate='adaptive',\n",
       "              learning_rate_init=0.001, max_iter=500, momentum=0.9,\n",
       "              n_iter_no_change=10, nesterovs_momentum=True, power_t=0.5,\n",
       "              random_state=None, shuffle=True, solver='adam', tol=0.0001,\n",
       "              validation_fraction=0.1, verbose=10, warm_start=False)"
      ]
     },
     "execution_count": 12,
     "metadata": {},
     "output_type": "execute_result"
    }
   ],
   "source": [
    "# train the model\n",
    "print(\"[*] Training the model...\")\n",
    "clf.fit(X_train, y_train)"
   ]
  },
  {
   "cell_type": "code",
   "execution_count": 13,
   "metadata": {},
   "outputs": [
    {
     "name": "stdout",
     "output_type": "stream",
     "text": [
      "Score/Accuracy:\n",
      "0.39422431161853594\n",
      "No. of layers:\n",
      "3\n",
      "No. of epochs:\n",
      "48\n",
      "Loss:\n",
      "1.3926419239507533\n",
      "Validation score:\n",
      "0.39932885906040266\n",
      "Out Activation:\n",
      "softmax\n"
     ]
    }
   ],
   "source": [
    "# classifier stats\n",
    "print(\"Score/Accuracy:\")\n",
    "print(clf.score(X_test, y_test))\n",
    "\n",
    "print(\"No. of layers:\")\n",
    "print(clf.n_layers_)\n",
    "\n",
    "print(\"No. of epochs:\")\n",
    "print(clf.n_iter_)\n",
    "\n",
    "print(\"Loss:\")\n",
    "print(clf.loss_)\n",
    "\n",
    "print(\"Validation score:\")\n",
    "print(clf.validation_scores_[clf.n_iter_-1])\n",
    "\n",
    "print(\"Out Activation:\")\n",
    "print(clf.out_activation_)"
   ]
  },
  {
   "cell_type": "code",
   "execution_count": 19,
   "metadata": {
    "colab": {
     "base_uri": "https://localhost:8080/",
     "height": 452
    },
    "colab_type": "code",
    "id": "64DtRRKCQO2_",
    "outputId": "96726a6a-93a9-4fb0-ee91-20c0e2029411"
   },
   "outputs": [
    {
     "name": "stdout",
     "output_type": "stream",
     "text": [
      "['neutral']\n",
      "[[0.12525466 0.20276873 0.15856133 0.17348136 0.24855758 0.09137633]]\n",
      "['disgust']\n",
      "[[0.06698763 0.46759975 0.06540839 0.21156913 0.10219468 0.08624042]]\n",
      "['neutral']\n",
      "[[0.12545815 0.12680238 0.08641836 0.18063254 0.40547368 0.07521489]]\n",
      "['angry']\n",
      "[[0.44944885 0.08735933 0.06895323 0.36856424 0.02283627 0.00283808]]\n"
     ]
    },
    {
     "data": {
      "image/png": "[encoded data removed]",
      "text/plain": [
       "<Figure size 936x432 with 2 Axes>"
      ]
     },
     "metadata": {},
     "output_type": "display_data"
    },
    {
     "name": "stdout",
     "output_type": "stream",
     "text": [
      "Accuracy: 39.42%\n"
     ]
    }
   ],
   "source": [
    "# clf predict\n",
    "y_pred = clf.predict(X_test)\n",
    "\n",
    "print(clf.predict(X_test[[1]]))\n",
    "print(clf.predict_proba(X_test[[1]]))\n",
    "\n",
    "print(clf.predict(X_test[[30]]))\n",
    "print(clf.predict_proba(X_test[[30]]))\n",
    "\n",
    "print(clf.predict(X_test[[22]]))\n",
    "print(clf.predict_proba(X_test[[22]]))\n",
    "\n",
    "print(clf.predict(X_test[[1337]]))\n",
    "print(clf.predict_proba(X_test[[1337]]))\n",
    "\n",
    "# confusion matrix\n",
    "cm = confusion_matrix(y_test, y_pred, labels=list(AVAILABLE_EMOTIONS))\n",
    "x_axis_labels = y_axis_labels = AVAILABLE_EMOTIONS\n",
    "\n",
    "# plot cm dataframe\n",
    "df_cm = pd.DataFrame(cm, range(6), range(6))\n",
    "plt.figure(figsize=(13,6))\n",
    "sn.set(font_scale=1) # for labels\n",
    "sn.heatmap(df_cm, annot=True, annot_kws={\"size\": 12}, xticklabels=x_axis_labels, yticklabels=y_axis_labels)\n",
    "plt.show()\n",
    "\n",
    "# calculate the accuracy\n",
    "accuracy = accuracy_score(y_true=y_test, y_pred=y_pred)\n",
    "print(\"Accuracy: {:.2f}%\".format(accuracy*100))"
   ]
  },
  {
   "cell_type": "code",
   "execution_count": 56,
   "metadata": {
    "colab": {},
    "colab_type": "code",
    "id": "w5b0L3dlQS1B"
   },
   "outputs": [
    {
     "ename": "NameError",
     "evalue": "name 'model' is not defined",
     "output_type": "error",
     "traceback": [
      "\u001b[0;31m---------------------------------------------------------------------------\u001b[0m",
      "\u001b[0;31mNameError\u001b[0m                                 Traceback (most recent call last)",
      "\u001b[0;32m<ipython-input-56-4a4159f99412>\u001b[0m in \u001b[0;36m<module>\u001b[0;34m\u001b[0m\n\u001b[1;32m      4\u001b[0m     \u001b[0mos\u001b[0m\u001b[0;34m.\u001b[0m\u001b[0mmkdir\u001b[0m\u001b[0;34m(\u001b[0m\u001b[0;34m\"result\"\u001b[0m\u001b[0;34m)\u001b[0m\u001b[0;34m\u001b[0m\u001b[0;34m\u001b[0m\u001b[0m\n\u001b[1;32m      5\u001b[0m \u001b[0;34m\u001b[0m\u001b[0m\n\u001b[0;32m----> 6\u001b[0;31m \u001b[0mpickle\u001b[0m\u001b[0;34m.\u001b[0m\u001b[0mdump\u001b[0m\u001b[0;34m(\u001b[0m\u001b[0mmodel\u001b[0m\u001b[0;34m,\u001b[0m \u001b[0mopen\u001b[0m\u001b[0;34m(\u001b[0m\u001b[0;34m\"result/mlp_classifier.model\"\u001b[0m\u001b[0;34m,\u001b[0m \u001b[0;34m\"wb\"\u001b[0m\u001b[0;34m)\u001b[0m\u001b[0;34m)\u001b[0m\u001b[0;34m\u001b[0m\u001b[0;34m\u001b[0m\u001b[0m\n\u001b[0m",
      "\u001b[0;31mNameError\u001b[0m: name 'model' is not defined"
     ]
    }
   ],
   "source": [
    "# save the model\n",
    "# make result directory if doesn't exist yet\n",
    "if not os.path.isdir(\"result\"):\n",
    "    os.mkdir(\"result\")\n",
    "\n",
    "pickle.dump(clf, open(\"result/mlp_classifier.model\", \"wb\"))\n",
    "pickle.dump(regr, open(\"result/regr.model\", \"wb\"))"
   ]
  }
 ],
 "metadata": {
  "accelerator": "GPU",
  "colab": {
   "collapsed_sections": [],
   "name": "ser.ipynb",
   "provenance": [],
   "toc_visible": true
  },
  "kernelspec": {
   "display_name": "Python 3",
   "language": "python",
   "name": "python3"
  },
  "language_info": {
   "codemirror_mode": {
    "name": "ipython",
    "version": 3
   },
   "file_extension": ".py",
   "mimetype": "text/x-python",
   "name": "python",
   "nbconvert_exporter": "python",
   "pygments_lexer": "ipython3",
   "version": "3.7.4"
  }
 },
 "nbformat": 4,
 "nbformat_minor": 1
}
