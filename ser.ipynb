{
 "cells": [
  {
   "cell_type": "markdown",
   "metadata": {
    "colab_type": "text",
    "id": "ZSdjAgdXcraM"
   },
   "source": [
    "# Speech-based Emotion Recognition for Voice Comms.\n",
    "## Main Notebook\n",
    "\n",
    "Datasets used:\n",
    "\n",
    "*   RAVDESS, TESS\n",
    "*   See AugmentData.ipynb for augmentation scripts    "
   ]
  },
  {
   "cell_type": "code",
   "execution_count": 141,
   "metadata": {
    "colab": {},
    "colab_type": "code",
    "id": "GicI2VMDHTni"
   },
   "outputs": [],
   "source": [
    "import soundfile # read audio files\n",
    "import numpy as np\n",
    "import librosa # extract features\n",
    "import glob\n",
    "import os\n",
    "import pickle # to save model after training\n",
    "\n",
    "from sklearn.model_selection import train_test_split # for splitting training and testing data\n",
    "from sklearn.neural_network import MLPClassifier # multi-layer perceptron model\n",
    "from sklearn.metrics import accuracy_score\n",
    "from sklearn.metrics import confusion_matrix # generate cm\n",
    "\n",
    "import seaborn as sn\n",
    "import pandas as pd\n",
    "import matplotlib.pyplot as plt"
   ]
  },
  {
   "cell_type": "code",
   "execution_count": 142,
   "metadata": {
    "colab": {},
    "colab_type": "code",
    "id": "ndQyj81GIfUI"
   },
   "outputs": [],
   "source": [
    "def extract_feature(file_name, **kwargs):\n",
    "    \"\"\"\n",
    "    Extract feature from audio file `file_name`\n",
    "        Features supported:\n",
    "            - MFCC (mfcc)\n",
    "            - Chroma (chroma)\n",
    "            - MEL Spectrogram Frequency (mel)\n",
    "            - Contrast (contrast)\n",
    "            - Tonnetz (tonnetz)\n",
    "        e.g:\n",
    "        `features = extract_feature(path, mel=True, mfcc=True)`\n",
    "    \"\"\"\n",
    "    mfcc = kwargs.get(\"mfcc\")\n",
    "    chroma = kwargs.get(\"chroma\")\n",
    "    mel = kwargs.get(\"mel\")\n",
    "    contrast = kwargs.get(\"contrast\")\n",
    "    tonnetz = kwargs.get(\"tonnetz\")\n",
    "    with soundfile.SoundFile(file_name) as sound_file:\n",
    "        X = sound_file.read(dtype=\"float32\") # all depth 32bit float\n",
    "        sample_rate = sound_file.samplerate # should always be 16kHz\n",
    "        if chroma or contrast:\n",
    "            stft = np.abs(librosa.stft(X))\n",
    "        result = np.array([])\n",
    "        if mfcc:\n",
    "            mfccs = np.mean(librosa.feature.mfcc(y=X, sr=sample_rate, n_mfcc=40).T, axis=0)\n",
    "            result = np.hstack((result, mfccs))\n",
    "        if chroma:\n",
    "            chroma = np.mean(librosa.feature.chroma_stft(S=stft, sr=sample_rate).T,axis=0)\n",
    "            result = np.hstack((result, chroma))\n",
    "        if mel:\n",
    "            mel = np.mean(librosa.feature.melspectrogram(X, sr=sample_rate).T,axis=0)\n",
    "            result = np.hstack((result, mel))\n",
    "        if contrast:\n",
    "            contrast = np.mean(librosa.feature.spectral_contrast(S=stft, sr=sample_rate).T,axis=0)\n",
    "            result = np.hstack((result, contrast))\n",
    "        if tonnetz:\n",
    "            tonnetz = np.mean(librosa.feature.tonnetz(y=librosa.effects.harmonic(X), sr=sample_rate).T,axis=0)\n",
    "            result = np.hstack((result, tonnetz))\n",
    "    return result"
   ]
  },
  {
   "cell_type": "code",
   "execution_count": 226,
   "metadata": {
    "colab": {},
    "colab_type": "code",
    "id": "1Ivlry11IruV"
   },
   "outputs": [],
   "source": [
    "# all emotions RAVDESS\n",
    "int2emotion = {\n",
    "    \"01\": \"neutral\",\n",
    "    \"02\": \"calm\",\n",
    "    \"03\": \"happy\",\n",
    "    \"04\": \"sad\",\n",
    "    \"05\": \"angry\",\n",
    "    \"06\": \"fearful\",\n",
    "    \"07\": \"disgust\",\n",
    "    \"08\": \"surprised\"\n",
    "}\n",
    "\n",
    "# all emotions TESS\n",
    "tessemotion = {\n",
    "    \"neutral.wav\": \"neutral\",\n",
    "    \"happy.wav\": \"happy\",\n",
    "    \"sad.wav\": \"sad\",\n",
    "    \"angry.wav\": \"angry\",\n",
    "    \"fear.wav\": \"fearful\",\n",
    "    \"disgust.wav\": \"disgust\",\n",
    "    \"ps.wav\": \"surprised\",\n",
    "}\n",
    "\n",
    "# all emotions emoDB\n",
    "char2emotion = {\n",
    "    \"N\": \"neutral\",\n",
    "    \"F\": \"happy\",\n",
    "    \"T\": \"sad\",\n",
    "    \"W\": \"angry\",\n",
    "    \"A\": \"fearful\",\n",
    "    \"E\": \"disgust\",\n",
    "    \"L\": \"boredom\",\n",
    "}\n",
    "\n",
    "# all emotions SAVEE\n",
    "saveeemotion = {\n",
    "    \"n\": \"neutral\",\n",
    "    \"h\": \"happy\",\n",
    "    \"s\": \"sad\",\n",
    "    \"a\": \"angry\",\n",
    "    \"f\": \"fearful\",\n",
    "    \"d\": \"disgust\",\n",
    "    \"p\": \"surprised\",\n",
    "}\n",
    "\n",
    "# allow only these emotions from dataset(s)\n",
    "AVAILABLE_EMOTIONS = {\n",
    "    \"neutral\",\n",
    "    \"calm\", # only included in RAVDESS\n",
    "    \"happy\",\n",
    "    \"sad\",\n",
    "    \"angry\", \n",
    "    \"fearful\",\n",
    "    \"disgust\",\n",
    "    \"surprised\" # in TESS specifies pleasant surprise\n",
    "}\n",
    "\n",
    "# load data and extract features\n",
    "def load_data(test_size=0.2):\n",
    "    X, y = [], []\n",
    "    \n",
    "    # RAVDESS clean\n",
    "    for file in glob.glob(\"data/RAVDESS-nosil/*.wav\"):\n",
    "        # get the base name of the audio file\n",
    "        basename = os.path.basename(file)\n",
    "        # get the emotion label\n",
    "        emotion = int2emotion[basename.split(\"-\")[2]]\n",
    "        # we allow only AVAILABLE_EMOTIONS we set\n",
    "        if emotion not in AVAILABLE_EMOTIONS:\n",
    "            continue\n",
    "        # extract features\n",
    "        features = extract_feature(file, mfcc=True)\n",
    "        # add to data\n",
    "        X.append(features)\n",
    "        y.append(emotion)\n",
    "    \n",
    "    # augmented RAVDESS\n",
    "    # white noise\n",
    "    for file in glob.glob(\"data/augment-wn/RAVDESS/*.wav\"):\n",
    "        # get the base name of the audio file\n",
    "        basename = os.path.basename(file)\n",
    "        # get the emotion label\n",
    "        emotion = int2emotion[basename.split(\"-\")[2]]\n",
    "        # we allow only AVAILABLE_EMOTIONS we set\n",
    "        if emotion not in AVAILABLE_EMOTIONS:\n",
    "            continue\n",
    "        # extract features\n",
    "        features = extract_feature(file, mfcc=True)\n",
    "        # add to data\n",
    "        X.append(features)\n",
    "        y.append(emotion)\n",
    "\n",
    "#     # TESS clean\n",
    "#     for file in glob.glob(\"data/TESS-nosil/*.wav\"):\n",
    "#         # get the base name of the audio file\n",
    "#         basename = os.path.basename(file)\n",
    "#         # get the emotion label\n",
    "#         emotion = tessemotion[basename.split(\"_\")[2]]\n",
    "#         # we allow only AVAILABLE_EMOTIONS we set\n",
    "#         if emotion not in AVAILABLE_EMOTIONS:\n",
    "#             continue\n",
    "#         # extract features\n",
    "#         features = extract_feature(file, mfcc=True)\n",
    "#         # add to data\n",
    "#         X.append(features)\n",
    "#         y.append(emotion)\n",
    "        \n",
    "#     # augmented TESS\n",
    "#     # white noise\n",
    "#     for file in glob.glob(\"data/augment-wn/TESS/*.wav\"):\n",
    "#         # get the base name of the audio file\n",
    "#         basename = os.path.basename(file)\n",
    "#         # get the emotion label\n",
    "#         emotion = tessemotion[basename.split(\"_\")[2]]\n",
    "#         # we allow only AVAILABLE_EMOTIONS we set\n",
    "#         if emotion not in AVAILABLE_EMOTIONS:\n",
    "#             continue\n",
    "#         # extract features\n",
    "#         features = extract_feature(file, mfcc=True)\n",
    "#         # add to data\n",
    "#         X.append(features)\n",
    "#         y.append(emotion)\n",
    "\n",
    "    \n",
    "#     # emodb clean\n",
    "#     for file in glob.glob(\"data/EMODB-nosil/*.wav\"):\n",
    "#         # get the base name of the audio file\n",
    "#         basename = os.path.basename(file)\n",
    "#         # get the emotion label\n",
    "#         emotion = char2emotion[basename[5]]\n",
    "#         # we allow only AVAILABLE_EMOTIONS we set\n",
    "#         if emotion not in AVAILABLE_EMOTIONS:\n",
    "#             continue\n",
    "#         # extract features\n",
    "#         features = extract_feature(file, mfcc=True)\n",
    "#         # add to data\n",
    "#         X.append(features)\n",
    "#         y.append(emotion)\n",
    "    \n",
    "#     # SAVEE clean\n",
    "#     for file in glob.glob(\"data/SAVEE-nosil/*.wav\"):\n",
    "#         # get the base name of the audio file\n",
    "#         basename = os.path.basename(file)\n",
    "#         # get the emotion label\n",
    "#         emotion = saveeemotion[basename[0]]\n",
    "#         # we allow only AVAILABLE_EMOTIONS we set\n",
    "#         if emotion not in AVAILABLE_EMOTIONS:\n",
    "#             continue\n",
    "#         # extract features\n",
    "#         features = extract_feature(file, mfcc=True)\n",
    "#         # add to data\n",
    "#         X.append(features)\n",
    "#         y.append(emotion)\n",
    "    \n",
    "    # split the data to training and testing and return it\n",
    "    return train_test_split(np.array(X), y, test_size=test_size, random_state=420, stratify=y)"
   ]
  },
  {
   "cell_type": "code",
   "execution_count": 229,
   "metadata": {
    "colab": {},
    "colab_type": "code",
    "id": "LUsbEYpnPoL_"
   },
   "outputs": [],
   "source": [
    "# load dataset(s), 75% training 25% testing\n",
    "X_train, X_test, y_train, y_test = load_data(test_size=0.25)"
   ]
  },
  {
   "cell_type": "code",
   "execution_count": 230,
   "metadata": {
    "colab": {
     "base_uri": "https://localhost:8080/",
     "height": 71
    },
    "colab_type": "code",
    "id": "HWOmMe5WP_Mk",
    "outputId": "c91dff34-d76f-4e03-cd87-c2411e248b53"
   },
   "outputs": [
    {
     "name": "stdout",
     "output_type": "stream",
     "text": [
      "[+] Number of training samples: 2160\n",
      "[+] Number of testing samples: 720\n",
      "[+] Number of features: 40\n"
     ]
    }
   ],
   "source": [
    "# print some details\n",
    "# number of samples in training data\n",
    "print(\"[+] Number of training samples:\", X_train.shape[0])\n",
    "# number of samples in testing data\n",
    "print(\"[+] Number of testing samples:\", X_test.shape[0])\n",
    "# number of features used\n",
    "# vector of features extracted \n",
    "# using extract_features() function\n",
    "print(\"[+] Number of features:\", X_train.shape[1])"
   ]
  },
  {
   "cell_type": "code",
   "execution_count": 231,
   "metadata": {},
   "outputs": [
    {
     "data": {
      "text/plain": [
       "<matplotlib.axes._subplots.AxesSubplot at 0x1c27e70490>"
      ]
     },
     "execution_count": 231,
     "metadata": {},
     "output_type": "execute_result"
    },
    {
     "data": {
      "image/png": "[encoded data removed]",
      "text/plain": [
       "<Figure size 432x288 with 1 Axes>"
      ]
     },
     "metadata": {},
     "output_type": "display_data"
    }
   ],
   "source": [
    "y_train_df = pd.DataFrame(data=y_train, columns=['label'])\n",
    "y_train_df['label'].value_counts().plot.bar()"
   ]
  },
  {
   "cell_type": "code",
   "execution_count": 232,
   "metadata": {},
   "outputs": [
    {
     "data": {
      "text/plain": [
       "<matplotlib.axes._subplots.AxesSubplot at 0x1c291dd2d0>"
      ]
     },
     "execution_count": 232,
     "metadata": {},
     "output_type": "execute_result"
    },
    {
     "data": {
      "image/png": "[encoded data removed]",
      "text/plain": [
       "<Figure size 432x288 with 1 Axes>"
      ]
     },
     "metadata": {},
     "output_type": "display_data"
    }
   ],
   "source": [
    "y_test_df = pd.DataFrame(data=y_test, columns=['label'])\n",
    "y_test_df['label'].value_counts().plot.bar()"
   ]
  },
  {
   "cell_type": "code",
   "execution_count": 233,
   "metadata": {
    "colab": {},
    "colab_type": "code",
    "id": "_KQYjETHQCdH"
   },
   "outputs": [],
   "source": [
    "# best model params, determined by a grid search\n",
    "model_params = {\n",
    "    'alpha': 0.01,\n",
    "    'batch_size': 256,\n",
    "    'epsilon': 1e-08, \n",
    "    'hidden_layer_sizes': (300,), \n",
    "    'learning_rate': 'adaptive', \n",
    "    'max_iter': 500,\n",
    "    'early_stopping': True,\n",
    "    'validation_fraction':0.1,\n",
    "    'verbose': 10,\n",
    "}"
   ]
  },
  {
   "cell_type": "code",
   "execution_count": 234,
   "metadata": {
    "colab": {},
    "colab_type": "code",
    "id": "d9oJKdOSQGO3"
   },
   "outputs": [],
   "source": [
    "# initialize Multi Layer Perceptron classifier\n",
    "# with best parameters (so far)\n",
    "# RESET MODEL?\n",
    "mlp1 = MLPClassifier(**model_params)"
   ]
  },
  {
   "cell_type": "code",
   "execution_count": 235,
   "metadata": {
    "colab": {
     "base_uri": "https://localhost:8080/",
     "height": 179
    },
    "colab_type": "code",
    "id": "sQd-z074QJrZ",
    "outputId": "4748eab0-67f0-4181-aa74-4f45a0437b3a"
   },
   "outputs": [
    {
     "name": "stdout",
     "output_type": "stream",
     "text": [
      "[*] Training the model...\n",
      "Iteration 1, loss = 33.96105234\n",
      "Validation score: 0.101852\n",
      "Iteration 2, loss = 12.24419297\n",
      "Validation score: 0.166667\n",
      "Iteration 3, loss = 9.07634620\n",
      "Validation score: 0.203704\n",
      "Iteration 4, loss = 5.53527834\n",
      "Validation score: 0.208333\n",
      "Iteration 5, loss = 4.07559185\n",
      "Validation score: 0.208333\n",
      "Iteration 6, loss = 3.10227324\n",
      "Validation score: 0.250000\n",
      "Iteration 7, loss = 2.59234910\n",
      "Validation score: 0.250000\n",
      "Iteration 8, loss = 2.31151261\n",
      "Validation score: 0.263889\n",
      "Iteration 9, loss = 2.07644326\n",
      "Validation score: 0.296296\n",
      "Iteration 10, loss = 1.89635599\n",
      "Validation score: 0.287037\n",
      "Iteration 11, loss = 1.78938124\n",
      "Validation score: 0.300926\n",
      "Iteration 12, loss = 1.70217461\n",
      "Validation score: 0.337963\n",
      "Iteration 13, loss = 1.61309162\n",
      "Validation score: 0.351852\n",
      "Iteration 14, loss = 1.57321040\n",
      "Validation score: 0.365741\n",
      "Iteration 15, loss = 1.53905024\n",
      "Validation score: 0.393519\n",
      "Iteration 16, loss = 1.49096704\n",
      "Validation score: 0.412037\n",
      "Iteration 17, loss = 1.46637036\n",
      "Validation score: 0.402778\n",
      "Iteration 18, loss = 1.44023355\n",
      "Validation score: 0.425926\n",
      "Iteration 19, loss = 1.41554019\n",
      "Validation score: 0.398148\n",
      "Iteration 20, loss = 1.42220820\n",
      "Validation score: 0.388889\n",
      "Iteration 21, loss = 1.37038281\n",
      "Validation score: 0.444444\n",
      "Iteration 22, loss = 1.36719077\n",
      "Validation score: 0.453704\n",
      "Iteration 23, loss = 1.37823397\n",
      "Validation score: 0.402778\n",
      "Iteration 24, loss = 1.35513622\n",
      "Validation score: 0.402778\n",
      "Iteration 25, loss = 1.30636077\n",
      "Validation score: 0.416667\n",
      "Iteration 26, loss = 1.27896831\n",
      "Validation score: 0.421296\n",
      "Iteration 27, loss = 1.28154441\n",
      "Validation score: 0.444444\n",
      "Iteration 28, loss = 1.26125030\n",
      "Validation score: 0.430556\n",
      "Iteration 29, loss = 1.25005132\n",
      "Validation score: 0.421296\n",
      "Iteration 30, loss = 1.25872684\n",
      "Validation score: 0.439815\n",
      "Iteration 31, loss = 1.26273276\n",
      "Validation score: 0.439815\n",
      "Iteration 32, loss = 1.22193467\n",
      "Validation score: 0.435185\n",
      "Iteration 33, loss = 1.21899410\n",
      "Validation score: 0.421296\n",
      "Validation score did not improve more than tol=0.000100 for 10 consecutive epochs. Stopping.\n"
     ]
    },
    {
     "data": {
      "text/plain": [
       "MLPClassifier(activation='relu', alpha=0.01, batch_size=256, beta_1=0.9,\n",
       "              beta_2=0.999, early_stopping=True, epsilon=1e-08,\n",
       "              hidden_layer_sizes=(300,), learning_rate='adaptive',\n",
       "              learning_rate_init=0.001, max_iter=500, momentum=0.9,\n",
       "              n_iter_no_change=10, nesterovs_momentum=True, power_t=0.5,\n",
       "              random_state=None, shuffle=True, solver='adam', tol=0.0001,\n",
       "              validation_fraction=0.1, verbose=10, warm_start=False)"
      ]
     },
     "execution_count": 235,
     "metadata": {},
     "output_type": "execute_result"
    }
   ],
   "source": [
    "# train the model\n",
    "print(\"[*] Training the model...\")\n",
    "mlp1.fit(X_train, y_train)"
   ]
  },
  {
   "cell_type": "code",
   "execution_count": 236,
   "metadata": {},
   "outputs": [
    {
     "name": "stdout",
     "output_type": "stream",
     "text": [
      "0.40555555555555556\n",
      "3\n",
      "33\n",
      "1.2189941040358563\n",
      "[0.10185185185185185, 0.16666666666666666, 0.2037037037037037, 0.20833333333333334, 0.20833333333333334, 0.25, 0.25, 0.2638888888888889, 0.2962962962962963, 0.28703703703703703, 0.30092592592592593, 0.33796296296296297, 0.35185185185185186, 0.36574074074074076, 0.39351851851851855, 0.41203703703703703, 0.4027777777777778, 0.42592592592592593, 0.39814814814814814, 0.3888888888888889, 0.4444444444444444, 0.4537037037037037, 0.4027777777777778, 0.4027777777777778, 0.4166666666666667, 0.4212962962962963, 0.4444444444444444, 0.4305555555555556, 0.4212962962962963, 0.4398148148148148, 0.4398148148148148, 0.4351851851851852, 0.4212962962962963]\n"
     ]
    }
   ],
   "source": [
    "print(mlp1.score(X_test, y_test))\n",
    "print(mlp1.n_layers_)\n",
    "print(mlp1.n_iter_)\n",
    "print(mlp1.loss_)\n",
    "print(mlp1.validation_scores_)"
   ]
  },
  {
   "cell_type": "code",
   "execution_count": 237,
   "metadata": {
    "colab": {
     "base_uri": "https://localhost:8080/",
     "height": 452
    },
    "colab_type": "code",
    "id": "64DtRRKCQO2_",
    "outputId": "96726a6a-93a9-4fb0-ee91-20c0e2029411"
   },
   "outputs": [
    {
     "data": {
      "image/png": "[encoded data removed]",
      "text/plain": [
       "<Figure size 936x360 with 2 Axes>"
      ]
     },
     "metadata": {},
     "output_type": "display_data"
    },
    {
     "name": "stdout",
     "output_type": "stream",
     "text": [
      "Accuracy: 40.56%\n"
     ]
    }
   ],
   "source": [
    "# predict 25% of our data\n",
    "y_pred = mlp1.predict(X_test)\n",
    "\n",
    "# confusion matrix\n",
    "cm = confusion_matrix(y_test, y_pred, labels=list(AVAILABLE_EMOTIONS))\n",
    "x_axis_labels = y_axis_labels = AVAILABLE_EMOTIONS\n",
    "\n",
    "# plot cm dataframe\n",
    "df_cm = pd.DataFrame(cm, range(8), range(8))\n",
    "plt.figure(figsize=(13,5))\n",
    "sn.set(font_scale=1.2) # for labels\n",
    "sn.heatmap(df_cm, annot=True, annot_kws={\"size\": 12}, xticklabels=x_axis_labels, yticklabels=y_axis_labels)\n",
    "plt.show()\n",
    "\n",
    "# calculate the accuracy\n",
    "accuracy = accuracy_score(y_true=y_test, y_pred=y_pred)\n",
    "print(\"Accuracy: {:.2f}%\".format(accuracy*100))"
   ]
  },
  {
   "cell_type": "code",
   "execution_count": 18,
   "metadata": {
    "colab": {},
    "colab_type": "code",
    "id": "w5b0L3dlQS1B"
   },
   "outputs": [],
   "source": [
    "# save the model\n",
    "# make result directory if doesn't exist yet\n",
    "if not os.path.isdir(\"result\"):\n",
    "    os.mkdir(\"result\")\n",
    "\n",
    "pickle.dump(model, open(\"result/mlp_classifier.model\", \"wb\"))"
   ]
  }
 ],
 "metadata": {
  "accelerator": "GPU",
  "colab": {
   "collapsed_sections": [],
   "name": "ser.ipynb",
   "provenance": [],
   "toc_visible": true
  },
  "kernelspec": {
   "display_name": "Python 3",
   "language": "python",
   "name": "python3"
  },
  "language_info": {
   "codemirror_mode": {
    "name": "ipython",
    "version": 3
   },
   "file_extension": ".py",
   "mimetype": "text/x-python",
   "name": "python",
   "nbconvert_exporter": "python",
   "pygments_lexer": "ipython3",
   "version": "3.7.4"
  }
 },
 "nbformat": 4,
 "nbformat_minor": 1
}
