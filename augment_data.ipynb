{
 "cells": [
  {
   "cell_type": "markdown",
   "metadata": {},
   "source": [
    "# Speech-based Emotion Recognition for Voice Comms.\n",
    "## Script for batch data processing/augmentation"
   ]
  },
  {
   "cell_type": "code",
   "execution_count": null,
   "metadata": {},
   "outputs": [],
   "source": [
    "import soundfile\n",
    "import numpy as np\n",
    "import math\n",
    "import librosa\n",
    "import glob\n",
    "import os\n",
    "import random\n",
    "import matplotlib.pyplot as plt\n",
    "from pysndfx import AudioEffectsChain\n",
    "from pydub.silence import detect_nonsilent\n",
    "from pydub import AudioSegment\n",
    "from pytexit import py2tex # provides latex formula conversions"
   ]
  },
  {
   "cell_type": "code",
   "execution_count": null,
   "metadata": {},
   "outputs": [],
   "source": [
    "class AugmentData:\n",
    "    def read_audio_file(self, file_path):\n",
    "        data = librosa.core.load(file_path, sr=None)[0]\n",
    "        return data\n",
    "    \n",
    "    # generating new .wav files from numpy array\n",
    "    def write_audio_file(self, file, data, sample_rate=16000):\n",
    "        librosa.output.write_wav(file, data, sample_rate)\n",
    "    \n",
    "    # example plots\n",
    "    def plot_time_series(self, data):\n",
    "        fig = plt.figure(figsize=(10, 4))\n",
    "        plt.title('Raw wave')\n",
    "        plt.ylabel('Amplitude')\n",
    "        plt.style.use('ggplot')\n",
    "        plt.plot(np.linspace(0, 1, len(data)), data)\n",
    "        plt.show()\n",
    "        \n",
    "    # Silence removal, used for preprocessing each dataset\n",
    "    def remove_sil(self, signal, basename):\n",
    "        non_sil_times = detect_nonsilent(signal, min_silence_len=50, silence_thresh=signal.dBFS * 1.5)\n",
    "        if len(non_sil_times) > 0:\n",
    "            non_sil_times_concat = [non_sil_times[0]]\n",
    "            if len(non_sil_times) > 1:\n",
    "                for t in non_sil_times[1:]:\n",
    "                    if t[0] - non_sil_times_concat[-1][-1] < 200:\n",
    "                        non_sil_times_concat[-1][-1] = t[1]\n",
    "                    else:\n",
    "                        non_sil_times_concat.append(t)\n",
    "            non_sil_times = [t for t in non_sil_times_concat if t[1] - t[0] > 350]\n",
    "            signal[non_sil_times[0][0]: non_sil_times[-1][1]].export(os.path.join('data/TESS-nosil', basename), format=\"wav\")\n",
    "    \n",
    "    # SNR augment(white noise generation) in dB\n",
    "    # given a signal and desired SNR, \n",
    "    # this gives the required AWGN that should be added to the signal to achieve desired SNR\n",
    "    def add_noise(self, signal, snr):\n",
    "        #RMS value of signal\n",
    "        RMS_s = math.sqrt(np.mean(signal**2))\n",
    "        #RMS values of noise\n",
    "        RMS_n = math.sqrt(RMS_s**2/(pow(10,snr/20)))\n",
    "        #Additive white gausian noise. Therefore mean=0\n",
    "        #Because sample length is large (typically > 40000)\n",
    "        #we can use the population formula for standard daviation.\n",
    "        #because mean=0 STD=RMS\n",
    "        STD_n = RMS_n\n",
    "        noise = np.random.normal(0, STD_n, signal.shape[0])\n",
    "        return noise\n",
    "    \n",
    "    # background noise (overlaying other voices, mechanical noise, etc.)\n",
    "    # given a signal, noise (audio) and desired SNR, \n",
    "    # this gives the noise (scaled version of noise input) that gives the desired SNR\n",
    "    def add_bg_noise(self,signal, noise, snr):\n",
    "        RMS_s = math.sqrt(np.mean(signal**2))\n",
    "        #required RMS of noise\n",
    "        RMS_n = math.sqrt(RMS_s**2/(pow(10,snr/20)))\n",
    "\n",
    "        #current RMS of noise\n",
    "        RMS_n_current = math.sqrt(np.mean(noise**2))\n",
    "        noise = noise * (RMS_n/RMS_n_current)\n",
    "        return noise\n",
    "\n",
    "    # reverb (decay time/wet level)\n",
    "    def add_reverb(self,signal):\n",
    "        # hardcoded args for batch processing\n",
    "        fx = (\n",
    "            AudioEffectsChain()\n",
    "            .reverb(reverberance=20,\n",
    "               hf_damping=75,\n",
    "               room_scale=2,\n",
    "               stereo_depth=20,\n",
    "               pre_delay=0,\n",
    "               wet_gain=0,\n",
    "               wet_only=True)\n",
    "        )\n",
    "        \n",
    "        y = fx(signal)\n",
    "        return y\n",
    "    \n",
    "    # distortion/overdrive (clipping/nonlinear effects/mic emulation)\n",
    "    def add_overdrive(self, signal):\n",
    "        fx = (\n",
    "            AudioEffectsChain()\n",
    "            .overdrive(gain=30, colour=100)\n",
    "        )\n",
    "        \n",
    "        y = fx(signal)\n",
    "        return y"
   ]
  },
  {
   "cell_type": "code",
   "execution_count": null,
   "metadata": {},
   "outputs": [],
   "source": [
    "# Create a new instance of AugmentData class\n",
    "ad = AugmentData()\n",
    "\n",
    "# Silence removed paths\n",
    "ravdess_path = \"data/RAVDESS-nosil/*.wav\"\n",
    "bg_noise_src = \"data/augment-bg/src/office/\"\n",
    "c_path = \"data/CREMA-D/*.wav\"\n",
    "tess_path = \"data/TESS/*/*.wav\"\n",
    "savee_path = \"data/SAVEE/*/*.wav\""
   ]
  },
  {
   "cell_type": "code",
   "execution_count": null,
   "metadata": {},
   "outputs": [],
   "source": [
    "# # Remove Silence\n",
    "# # PATH SHOULD BE ORIGINAL FOLDER\n",
    "# for file in glob.glob(\"data/TESS/*/*.wav\"):\n",
    "#     # get the base name of the audio file\n",
    "#     basename = os.path.basename(file)\n",
    "    \n",
    "#     data = AudioSegment.from_file(file, format=\"raw\", sample_width=4, channels=1,frame_rate=16000)\n",
    "#     ad.remove_sil(data, basename)"
   ]
  },
  {
   "cell_type": "code",
   "execution_count": null,
   "metadata": {},
   "outputs": [],
   "source": [
    "# White Noise\n",
    "for file in glob.glob(tess_path):\n",
    "    # get the base name of the audio file\n",
    "    basename = os.path.basename(file)\n",
    "    data = ad.read_audio_file(file)\n",
    "    \n",
    "    # Adding wn to soundfile\n",
    "    data_noise = ad.add_noise(data, 20)\n",
    "    datawn = data + data_noise\n",
    "    \n",
    "    # Write augmented soundfile wn\n",
    "    ad.write_audio_file(os.path.join('data/augment-wn/TESS', basename), datawn)"
   ]
  },
  {
   "cell_type": "code",
   "execution_count": null,
   "metadata": {},
   "outputs": [],
   "source": [
    "# BG Noise\n",
    "def getRandomFile(dir_path):\n",
    "    files = os.listdir(dir_path)\n",
    "    counter= random.randrange(0, len(files))\n",
    "    return dir_path+files[counter]\n",
    "\n",
    "for file in glob.glob(tess_path):\n",
    "    # get the base name of the audio file\n",
    "    basename = os.path.basename(file)\n",
    "    data = ad.read_audio_file(file)\n",
    "\n",
    "    # Adding custom bg noise to soundfile\n",
    "    bgsource = ad.read_audio_file(getRandomFile(bg_noise_src))\n",
    "    data_background = ad.add_bg_noise(data, bgsource, 20)\n",
    "    databg = data + data_background[:len(data)]\n",
    "\n",
    "    # Write augmented soundfile bg\n",
    "    ad.write_audio_file(os.path.join('data/augment-bg/TESS', basename), databg)"
   ]
  },
  {
   "cell_type": "code",
   "execution_count": null,
   "metadata": {},
   "outputs": [],
   "source": [
    "# Reverb\n",
    "for file in glob.glob(tess_path):\n",
    "    # get the base name of the audio file\n",
    "    basename = os.path.basename(file)\n",
    "    data = ad.read_audio_file(file)\n",
    "\n",
    "    # Adding reverb to soundfile\n",
    "    data_reverb = ad.add_reverb(data)\n",
    "    datarev = data + data_reverb\n",
    "\n",
    "    # Write augmented soundfile reverb\n",
    "    ad.write_audio_file(os.path.join('data/augment-reverb/TESS', basename), datarev)"
   ]
  },
  {
   "cell_type": "code",
   "execution_count": null,
   "metadata": {},
   "outputs": [],
   "source": [
    "# Overdrive\n",
    "for file in glob.glob(tess_path):\n",
    "    # get the base name of the audio file\n",
    "    basename = os.path.basename(file)\n",
    "    data = ad.read_audio_file(file)\n",
    "\n",
    "    # Simulated overdrive for soundfile\n",
    "    data_od = ad.add_overdrive(data)\n",
    "\n",
    "    # Write augmented soundfile reverb\n",
    "    ad.write_audio_file(os.path.join('data/augment-overdrive/TESS', basename), data_od)"
   ]
  },
  {
   "cell_type": "code",
   "execution_count": null,
   "metadata": {},
   "outputs": [],
   "source": [
    "#todo:\n",
    "## codec compression emulation (different bitrates, simulated cutouts)\n",
    "    # simulate specs of compression algorithms"
   ]
  },
  {
   "cell_type": "code",
   "execution_count": null,
   "metadata": {},
   "outputs": [],
   "source": [
    "# plot last file in loop as example\n",
    "ad.plot_time_series(data)\n",
    "ad.plot_time_series(datawn)\n",
    "ad.plot_time_series(databg)\n",
    "ad.plot_time_series(datarev)\n",
    "ad.plot_time_series(data_od)"
   ]
  },
  {
   "cell_type": "code",
   "execution_count": null,
   "metadata": {},
   "outputs": [],
   "source": []
  }
 ],
 "metadata": {
  "kernelspec": {
   "display_name": "Python 3",
   "language": "python",
   "name": "python3"
  },
  "language_info": {
   "codemirror_mode": {
    "name": "ipython",
    "version": 3
   },
   "file_extension": ".py",
   "mimetype": "text/x-python",
   "name": "python",
   "nbconvert_exporter": "python",
   "pygments_lexer": "ipython3",
   "version": "3.7.4"
  }
 },
 "nbformat": 4,
 "nbformat_minor": 2
}
