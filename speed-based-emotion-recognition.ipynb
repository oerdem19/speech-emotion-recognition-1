{
 "cells": [
  {
   "cell_type": "markdown",
   "metadata": {
    "colab_type": "text",
    "id": "ZSdjAgdXcraM"
   },
   "source": [
    "# Speech-based Emotion Recognition for Voice Comms.\n",
    "## Main Notebook\n",
    "\n",
    "Datasets used:\n",
    "\n",
    "*   RAVDESS, CREMA-D\n",
    "*   See AugmentData.ipynb for augmentation scripts    "
   ]
  },
  {
   "cell_type": "code",
   "execution_count": 411,
   "metadata": {
    "colab": {},
    "colab_type": "code",
    "id": "GicI2VMDHTni"
   },
   "outputs": [],
   "source": [
    "import soundfile # read audio files\n",
    "import numpy as np\n",
    "import librosa # extract features\n",
    "import glob\n",
    "import os\n",
    "import pickle # to save model after training\n",
    "import time\n",
    "\n",
    "from torchvision import datasets, transforms\n",
    "from torch.utils.data import DataLoader, TensorDataset\n",
    "import torch.nn.functional as F\n",
    "import torch\n",
    "from torch import nn\n",
    "import torch.optim as optim\n",
    "\n",
    "if torch.cuda.is_available():\n",
    "    torch.backends.cudnn.deterministic = True\n",
    "\n",
    "from sklearn.neural_network import MLPRegressor\n",
    "from sklearn import preprocessing, metrics\n",
    "from sklearn.ensemble import RandomForestRegressor\n",
    "from sklearn.model_selection import train_test_split # for splitting training and testing data\n",
    "from sklearn.utils import shuffle\n",
    "\n",
    "import seaborn as sn\n",
    "import pandas as pd\n",
    "\n",
    "import matplotlib.pyplot as plt\n",
    "import matplotlib.patches as mpatches\n",
    "%matplotlib inline"
   ]
  },
  {
   "cell_type": "markdown",
   "metadata": {},
   "source": [
    "# MLP PyTorch"
   ]
  },
  {
   "cell_type": "code",
   "execution_count": 412,
   "metadata": {},
   "outputs": [],
   "source": [
    "#device setting\n",
    "device = torch.device(\"cuda\" if torch.cuda.is_available() else \"cpu\")"
   ]
  },
  {
   "cell_type": "code",
   "execution_count": 342,
   "metadata": {},
   "outputs": [],
   "source": [
    "#defining utility class\n",
    "#by defining this, you only have to write \"for loop\" to load minibatch data\n",
    "class DataLoader(object):\n",
    "    def __init__(self, x, y, batch_size, shuffle):\n",
    "        self.x = x\n",
    "        self.y = y\n",
    "        self.batch_size = batch_size\n",
    "        self.shuffle = shuffle\n",
    "        self.start_idx = 0\n",
    "        self.data_size = x.shape[0]\n",
    "        if self.shuffle:\n",
    "            self.reset()\n",
    "    \n",
    "    def reset(self):\n",
    "        self.x, self.y = shuffle(self.x, self.y)\n",
    "    \n",
    "    def __iter__(self):\n",
    "        return self\n",
    "    \n",
    "    def __next__(self):\n",
    "        if self.start_idx >= self.data_size:\n",
    "            if self.shuffle:\n",
    "                self.reset()\n",
    "            self.start_idx = 0\n",
    "            raise StopIteration\n",
    "    \n",
    "        batch_x = self.x[self.start_idx:self.start_idx+self.batch_size]\n",
    "        batch_y = self.y[self.start_idx:self.start_idx+self.batch_size]\n",
    "\n",
    "        batch_x = torch.tensor(batch_x, dtype=torch.float, device=device)\n",
    "        batch_y = torch.tensor(batch_y, dtype=torch.float, device=device)\n",
    "\n",
    "        self.start_idx += self.batch_size\n",
    "\n",
    "        return (batch_x,batch_y)"
   ]
  },
  {
   "cell_type": "code",
   "execution_count": 352,
   "metadata": {},
   "outputs": [],
   "source": [
    "#defining MLP model\n",
    "#generally out_dim is more than 1, but this model only allows 1.\n",
    "class MLP(nn.Module):\n",
    "    def __init__(self, in_dim, hidden_dim_1, hidden_dim_2, out_dim=2):\n",
    "        super(MLP, self).__init__()\n",
    "        \n",
    "        self.in_dim = in_dim\n",
    "        self.hidden_dim_1 = hidden_dim_1\n",
    "        self.hidden_dim_2 = hidden_dim_2\n",
    "        self.out_dim = out_dim\n",
    "        \n",
    "        ### 1st hidden layer\n",
    "        self.linear_1 = nn.Linear(self.in_dim, self.hidden_dim_1)\n",
    "        self.linear_1.weight.detach().normal_(0.0, 0.1)\n",
    "        self.linear_1.bias.detach().zero_()\n",
    "        \n",
    "        ### 2nd hidden layer\n",
    "        self.linear_2 = torch.nn.Linear(self.hidden_dim_1, self.hidden_dim_2)\n",
    "        self.linear_2.weight.detach().normal_(0.0, 0.1)\n",
    "        self.linear_2.bias.detach().zero_()\n",
    "        \n",
    "        ## Out layer\n",
    "        self.linear_out = nn.Linear(self.hidden_dim_2, self.out_dim)\n",
    "        self.linear_out.weight.detach().normal_(0.0, 0.1)\n",
    "        self.linear_out.bias.detach().zero_()\n",
    "        \n",
    "    \n",
    "    def forward(self, x):\n",
    "        out = self.linear_1(x)\n",
    "        out = F.relu(out)\n",
    "        out = self.linear_2(out)\n",
    "        out = F.relu(out)\n",
    "        out = self.linear_out(out)\n",
    "        #x = x.squeeze(1)\n",
    "        return out"
   ]
  },
  {
   "cell_type": "code",
   "execution_count": 5,
   "metadata": {
    "colab": {},
    "colab_type": "code",
    "id": "ndQyj81GIfUI"
   },
   "outputs": [],
   "source": [
    "def extract_feature(file_name, **kwargs):\n",
    "    \"\"\"\n",
    "    Extract feature from audio file `file_name`\n",
    "        Features supported:\n",
    "            - MFCC (mfcc)\n",
    "            - Chroma (chroma)\n",
    "            - MEL Spectrogram Frequency (mel)\n",
    "            - Contrast (contrast)\n",
    "            - Tonnetz (tonnetz)\n",
    "        e.g:\n",
    "        `features = extract_feature(path, mel=True, mfcc=True)`\n",
    "    \"\"\"\n",
    "    mfcc = kwargs.get(\"mfcc\")\n",
    "    chroma = kwargs.get(\"chroma\")\n",
    "    mel = kwargs.get(\"mel\")\n",
    "    contrast = kwargs.get(\"contrast\")\n",
    "    tonnetz = kwargs.get(\"tonnetz\")\n",
    "    with soundfile.SoundFile(file_name) as sound_file:\n",
    "        X = sound_file.read(dtype=\"float32\") # all depth 32bit float\n",
    "        sample_rate = sound_file.samplerate # should always be 16kHz\n",
    "        if chroma or contrast:\n",
    "            stft = np.abs(librosa.stft(X))\n",
    "        result = np.array([])\n",
    "        if mfcc:\n",
    "            mfccs = np.mean(librosa.feature.mfcc(y=X, sr=sample_rate, n_mfcc=40).T, axis=0)\n",
    "            result = np.hstack((result, mfccs))\n",
    "        if chroma:\n",
    "            chroma = np.mean(librosa.feature.chroma_stft(S=stft, sr=sample_rate).T,axis=0)\n",
    "            result = np.hstack((result, chroma))\n",
    "        if mel:\n",
    "            mel = np.mean(librosa.feature.melspectrogram(X, sr=sample_rate).T,axis=0)\n",
    "            result = np.hstack((result, mel))\n",
    "        if contrast:\n",
    "            contrast = np.mean(librosa.feature.spectral_contrast(S=stft, sr=sample_rate).T,axis=0)\n",
    "            result = np.hstack((result, contrast))\n",
    "        if tonnetz:\n",
    "            tonnetz = np.mean(librosa.feature.tonnetz(y=librosa.effects.harmonic(X), sr=sample_rate).T,axis=0)\n",
    "            result = np.hstack((result, tonnetz))\n",
    "    return result"
   ]
  },
  {
   "cell_type": "code",
   "execution_count": 6,
   "metadata": {},
   "outputs": [],
   "source": [
    "# all emotions RAVDESS\n",
    "int2emotion = {\n",
    "    \"01\": \"neutral\",\n",
    "    \"02\": \"calm\",\n",
    "    \"03\": \"happy\",\n",
    "    \"04\": \"sad\",\n",
    "    \"05\": \"angry\",\n",
    "    \"06\": \"fearful\",\n",
    "    \"07\": \"disgust\",\n",
    "    \"08\": \"surprised\"\n",
    "}\n",
    "\n",
    "# all emotions CREMA-D\n",
    "cemotion = {\n",
    "    \"NEU\": \"neutral\",\n",
    "    \"HAP\": \"happy\",\n",
    "    \"SAD\": \"sad\",\n",
    "    \"ANG\": \"angry\",\n",
    "    \"FEA\": \"fearful\",\n",
    "    \"DIS\": \"disgust\",\n",
    "}\n",
    "\n",
    "# allow only these emotions from dataset(s)\n",
    "AVAILABLE_EMOTIONS = {\n",
    "    \"neutral\",\n",
    "    \"calm\", # only included in RAVDESS\n",
    "    \"happy\",\n",
    "    \"sad\",\n",
    "    \"angry\", \n",
    "    \"fearful\",\n",
    "    \"disgust\",\n",
    "    \"surprised\" # in TESS specifies pleasant surprise\n",
    "}\n",
    "\n",
    "# map emotion to 2D space\n",
    "circumplex_model = {\n",
    "    \"neutral\":[(0.0, 0.0), \"grey\"],\n",
    "    \"calm\":[(0.5,-0.7),\"cyan\"], # only included in RAVDESS\n",
    "    \"happy\":[(0.8, 0.1),\"purple\"],\n",
    "    \"sad\":[(-0.8, -0.3),\"blue\"],\n",
    "    \"angry\":[(-0.2,0.7),\"red\"],\n",
    "    \"fearful\":[(-0.4,0.7),\"magenta\"], #circumplex afraid\n",
    "    \"disgust\":[(-0.41,0.6),\"green\"], #circumplex annoyed\n",
    "    \"surprised\":[(0.3,0.7),\"orange\"], #circumplex astonished, in TESS specifies pleasant surprise\n",
    "}\n",
    "\n",
    "# map emotion to 3d space\n",
    "pad_model = {\n",
    "    \n",
    "}"
   ]
  },
  {
   "cell_type": "code",
   "execution_count": 376,
   "metadata": {
    "colab": {},
    "colab_type": "code",
    "id": "1Ivlry11IruV"
   },
   "outputs": [],
   "source": [
    "# load data and extract features\n",
    "X, y = [], []\n",
    "Xa, ya = [], []\n",
    "\n",
    "# RAVDESS clean\n",
    "for file in glob.glob(\"data/RAVDESS-nosil/*.wav\"):\n",
    "    # get the base name of the audio file\n",
    "    basename = os.path.basename(file)\n",
    "    # get the emotion label\n",
    "    emotion = int2emotion[basename.split(\"-\")[2]]\n",
    "    # we allow only circumplex model emotions\n",
    "    if emotion not in AVAILABLE_EMOTIONS:\n",
    "        continue\n",
    "    # map coords\n",
    "    circumplex_coord = circumplex_model[emotion][0]\n",
    "    # extract features\n",
    "    features = extract_feature(file, mfcc=True)\n",
    "    # add to data\n",
    "    X.append(features)\n",
    "    y.append(circumplex_coord)\n",
    "\n",
    "# augmented RAVDESS\n",
    "# white noise\n",
    "for file in glob.glob(\"data/augment-wn/RAVDESS/*.wav\"):\n",
    "    # get the base name of the audio file\n",
    "    basename = os.path.basename(file)\n",
    "    # get the emotion label\n",
    "    emotion = int2emotion[basename.split(\"-\")[2]]\n",
    "    # we allow only AVAILABLE_EMOTIONS we set\n",
    "    if emotion not in AVAILABLE_EMOTIONS:\n",
    "        continue\n",
    "    # map coords\n",
    "    circumplex_coord = circumplex_model[emotion][0]\n",
    "    # extract features\n",
    "    features = extract_feature(file, mfcc=True)\n",
    "    # add to data\n",
    "    Xa.append(features)\n",
    "    ya.append(circumplex_coord)\n",
    "\n",
    "# overdrive\n",
    "for file in glob.glob(\"data/augment-overdrive/RAVDESS/*.wav\"):\n",
    "    # get the base name of the audio file\n",
    "    basename = os.path.basename(file)\n",
    "    # get the emotion label\n",
    "    emotion = int2emotion[basename.split(\"-\")[2]]\n",
    "    # we allow only AVAILABLE_EMOTIONS we set\n",
    "    if emotion not in AVAILABLE_EMOTIONS:\n",
    "        continue\n",
    "    # map coords\n",
    "    circumplex_coord = circumplex_model[emotion][0]\n",
    "    # extract features\n",
    "    features = extract_feature(file, mfcc=True)\n",
    "    # add to data\n",
    "    Xa.append(features)\n",
    "    ya.append(circumplex_coord)\n",
    "    \n",
    "# CREMA-D clean\n",
    "for file in glob.glob(\"data/CREMA-D/*.wav\"):\n",
    "    # get the base name of the audio file\n",
    "    basename = os.path.basename(file)\n",
    "    # get the emotion label\n",
    "    emotion = cemotion[basename.split(\"_\")[2]]\n",
    "    # we allow only AVAILABLE_EMOTIONS we set\n",
    "    if emotion not in AVAILABLE_EMOTIONS:\n",
    "        continue\n",
    "    # map coords\n",
    "    circumplex_coord = circumplex_model[emotion][0]\n",
    "    # extract features\n",
    "    features = extract_feature(file, mfcc=True)\n",
    "    # add to data\n",
    "    X.append(features)\n",
    "    y.append(circumplex_coord)\n",
    "\n",
    "# scale features [1, -1]\n",
    "X /= np.max(np.abs(X),axis=0)\n",
    "\n",
    "X_train, X_test, y_train, y_test = train_test_split(np.array(X), np.array(y), test_size=0.2, random_state=420, stratify=y)\n",
    "\n",
    "# scale features [1, -1]\n",
    "Xa /= np.max(np.abs(Xa),axis=0)\n",
    "\n",
    "X_train_a, X_test_a, y_train_a, y_test_a = train_test_split(np.array(Xa),np.array(ya), test_size=0.1, random_state=420, stratify=ya)\n",
    "\n",
    "\n",
    "\n",
    "# # label encoding for y\n",
    "# label_encoder = preprocessing.LabelEncoder()\n",
    "# label_encoder.fit(y)\n",
    "# print(\"Class mapping: \")\n",
    "# for i, item in enumerate(label_encoder.classes_):\n",
    "#     print(item, \"-->\", i)\n",
    "\n",
    "# encoded_labels = label_encoder.transform(y)\n",
    "# print(\"Labels =\", labels)\n",
    "# print(\"Encoded labels =\", list(encoded_labels))\n",
    "\n",
    "# # split the data to training and testing and return it\n",
    "# return train_test_split(np.array(X), np.array(y), test_size=test_size, random_state=420, stratify=y)"
   ]
  },
  {
   "cell_type": "code",
   "execution_count": 377,
   "metadata": {},
   "outputs": [],
   "source": [
    "# # load dataset(s), 80% training 20% testing\n",
    "# X_train, X_test, y_train, y_test = load_data(test_size=0.2)"
   ]
  },
  {
   "cell_type": "code",
   "execution_count": null,
   "metadata": {},
   "outputs": [],
   "source": [
    "# print some details\n",
    "# number of samples in training data\n",
    "print(\"[+] Number of training samples:\", X_train_a.shape[0])\n",
    "# number of samples in testing data\n",
    "print(\"[+] Number of testing samples:\", X_test.shape[0])\n",
    "# number of features used\n",
    "# vector of features extracted \n",
    "# using extract_features() function\n",
    "print(\"[+] Number of features:\", X_train_a.shape[1])"
   ]
  },
  {
   "cell_type": "code",
   "execution_count": 399,
   "metadata": {},
   "outputs": [
    {
     "name": "stdout",
     "output_type": "stream",
     "text": [
      "features dimensions: torch.Size([2592, 40])\n",
      "label dimensions: torch.Size([2592, 2])\n",
      "features dimensions: torch.Size([1777, 40])\n",
      "label dimensions: torch.Size([1777, 2])\n"
     ]
    }
   ],
   "source": [
    "train_loader = DataLoader(X_train_a, y_train_a,\n",
    "                         batch_size=3000,\n",
    "                          shuffle=True)# create your dataloader\n",
    "\n",
    "test_loader = DataLoader(X_test, y_test,\n",
    "                        batch_size=3000,\n",
    "                          shuffle=True)# create your dataloader\n",
    "\n",
    "# Checking the dataset\n",
    "for features, labels in train_loader:  \n",
    "    print('features dimensions:', features.shape)\n",
    "    print('label dimensions:', labels.shape)\n",
    "    break\n",
    "\n",
    "# Checking the dataset\n",
    "for features, labels in test_loader:  \n",
    "    print('features dimensions:', features.shape)\n",
    "    print('label dimensions:', labels.shape)\n",
    "    break"
   ]
  },
  {
   "cell_type": "code",
   "execution_count": 381,
   "metadata": {},
   "outputs": [
    {
     "data": {
      "text/plain": [
       "<matplotlib.axes._subplots.AxesSubplot at 0x1c352b86d0>"
      ]
     },
     "execution_count": 381,
     "metadata": {},
     "output_type": "execute_result"
    },
    {
     "data": {
      "image/png": "[encoded data removed]",
      "text/plain": [
       "<Figure size 432x288 with 1 Axes>"
      ]
     },
     "metadata": {
      "needs_background": "light"
     },
     "output_type": "display_data"
    }
   ],
   "source": [
    "y_test_df = pd.DataFrame(data=y_train_a, columns=['X','Y',])\n",
    "y_test_df['X'].value_counts().plot.bar(title='Train Data')"
   ]
  },
  {
   "cell_type": "code",
   "execution_count": 382,
   "metadata": {},
   "outputs": [
    {
     "data": {
      "text/plain": [
       "<matplotlib.axes._subplots.AxesSubplot at 0x1c35695b50>"
      ]
     },
     "execution_count": 382,
     "metadata": {},
     "output_type": "execute_result"
    },
    {
     "data": {
      "image/png": "[encoded data removed]",
      "text/plain": [
       "<Figure size 432x288 with 1 Axes>"
      ]
     },
     "metadata": {
      "needs_background": "light"
     },
     "output_type": "display_data"
    }
   ],
   "source": [
    "y_test_df = pd.DataFrame(data=y_test, columns=['X','Y',])\n",
    "y_test_df['X'].value_counts().plot.bar(title='Test Data')"
   ]
  },
  {
   "cell_type": "code",
   "execution_count": 379,
   "metadata": {},
   "outputs": [],
   "source": [
    "#instantiate model\n",
    "mlp = MLP(X_train_a.shape[1], 256, 128, y_train_a.shape[1]).to(device)\n",
    "optimizer = torch.optim.SGD(mlp.parameters(), lr=0.1)"
   ]
  },
  {
   "cell_type": "code",
   "execution_count": 383,
   "metadata": {},
   "outputs": [],
   "source": [
    "#this model learns to minimize MAE\n",
    "def mae_loss(y_pred, y_true):\n",
    "    mae = torch.abs(y_true - y_pred).mean()\n",
    "    return mae"
   ]
  },
  {
   "cell_type": "code",
   "execution_count": 407,
   "metadata": {},
   "outputs": [
    {
     "name": "stdout",
     "output_type": "stream",
     "text": [
      "\n",
      "Valid Loss:0.4244\n",
      "Epoch:2 Batch:0/1 Loss:0.3057 Time:0m0.03s\n",
      "Valid Loss:0.4609\n",
      "Epoch:3 Batch:0/1 Loss:0.3074 Time:0m0.03s\n",
      "Valid Loss:0.4228\n",
      "Epoch:4 Batch:0/1 Loss:0.3066 Time:0m0.02s\n",
      "Valid Loss:0.4650\n",
      "Epoch:5 Batch:0/1 Loss:0.3092 Time:0m0.02s\n",
      "Valid Loss:0.4199\n",
      "Epoch:6 Batch:0/1 Loss:0.3086 Time:0m0.02s\n",
      "Valid Loss:0.4726\n",
      "Epoch:7 Batch:0/1 Loss:0.3135 Time:0m0.02s\n",
      "Valid Loss:0.4163\n",
      "Epoch:8 Batch:0/1 Loss:0.3122 Time:0m0.02s\n",
      "Valid Loss:0.4774\n",
      "Epoch:9 Batch:0/1 Loss:0.3168 Time:0m0.03s\n",
      "Valid Loss:0.4152\n",
      "Epoch:10 Batch:0/1 Loss:0.3128 Time:0m0.02s\n",
      "Valid Loss:0.4772\n",
      "Epoch:11 Batch:0/1 Loss:0.3170 Time:0m0.02s\n",
      "Valid Loss:0.4157\n",
      "Epoch:12 Batch:0/1 Loss:0.3119 Time:0m0.02s\n",
      "Valid Loss:0.4757\n",
      "Epoch:13 Batch:0/1 Loss:0.3160 Time:0m0.02s\n",
      "Valid Loss:0.4162\n",
      "Epoch:14 Batch:0/1 Loss:0.3113 Time:0m0.02s\n",
      "Valid Loss:0.4745\n",
      "Epoch:15 Batch:0/1 Loss:0.3150 Time:0m0.02s\n",
      "Valid Loss:0.4172\n",
      "Epoch:16 Batch:0/1 Loss:0.3103 Time:0m0.02s\n",
      "Valid Loss:0.4717\n",
      "Epoch:17 Batch:0/1 Loss:0.3130 Time:0m0.02s\n",
      "Valid Loss:0.4179\n",
      "Epoch:18 Batch:0/1 Loss:0.3097 Time:0m0.02s\n",
      "Valid Loss:0.4693\n",
      "Epoch:19 Batch:0/1 Loss:0.3116 Time:0m0.02s\n",
      "Valid Loss:0.4188\n",
      "Epoch:20 Batch:0/1 Loss:0.3087 Time:0m0.02s\n",
      "Valid Loss:0.4685\n",
      "Epoch:21 Batch:0/1 Loss:0.3108 Time:0m0.05s\n",
      "Valid Loss:0.4193\n",
      "Epoch:22 Batch:0/1 Loss:0.3085 Time:0m0.04s\n",
      "Valid Loss:0.4688\n",
      "Epoch:23 Batch:0/1 Loss:0.3108 Time:0m0.04s\n",
      "Valid Loss:0.4191\n",
      "Epoch:24 Batch:0/1 Loss:0.3087 Time:0m0.03s\n",
      "Valid Loss:0.4705\n",
      "Epoch:25 Batch:0/1 Loss:0.3117 Time:0m0.02s\n",
      "Valid Loss:0.4183\n",
      "Epoch:26 Batch:0/1 Loss:0.3092 Time:0m0.02s\n",
      "Valid Loss:0.4721\n",
      "Epoch:27 Batch:0/1 Loss:0.3124 Time:0m0.03s\n",
      "Valid Loss:0.4182\n",
      "Epoch:28 Batch:0/1 Loss:0.3092 Time:0m0.02s\n",
      "Valid Loss:0.4716\n",
      "Epoch:29 Batch:0/1 Loss:0.3120 Time:0m0.02s\n",
      "Valid Loss:0.4184\n",
      "Epoch:30 Batch:0/1 Loss:0.3091 Time:0m0.02s\n",
      "Valid Loss:0.4711\n",
      "Epoch:31 Batch:0/1 Loss:0.3115 Time:0m0.02s\n",
      "Valid Loss:0.4188\n",
      "Epoch:32 Batch:0/1 Loss:0.3086 Time:0m0.02s\n",
      "Valid Loss:0.4694\n",
      "Epoch:33 Batch:0/1 Loss:0.3104 Time:0m0.02s\n",
      "Valid Loss:0.4201\n",
      "Epoch:34 Batch:0/1 Loss:0.3077 Time:0m0.02s\n",
      "Valid Loss:0.4684\n",
      "Epoch:35 Batch:0/1 Loss:0.3095 Time:0m0.03s\n",
      "Valid Loss:0.4212\n",
      "Epoch:36 Batch:0/1 Loss:0.3068 Time:0m0.02s\n",
      "Valid Loss:0.4656\n",
      "Epoch:37 Batch:0/1 Loss:0.3079 Time:0m0.02s\n",
      "Valid Loss:0.4226\n",
      "Epoch:38 Batch:0/1 Loss:0.3056 Time:0m0.02s\n",
      "Valid Loss:0.4635\n",
      "Epoch:39 Batch:0/1 Loss:0.3065 Time:0m0.02s\n",
      "Valid Loss:0.4240\n",
      "Epoch:40 Batch:0/1 Loss:0.3048 Time:0m0.02s\n",
      "Valid Loss:0.4614\n",
      "Epoch:41 Batch:0/1 Loss:0.3053 Time:0m0.04s\n",
      "Valid Loss:0.4254\n",
      "Epoch:42 Batch:0/1 Loss:0.3040 Time:0m0.04s\n",
      "Valid Loss:0.4599\n",
      "Epoch:43 Batch:0/1 Loss:0.3044 Time:0m0.03s\n",
      "Valid Loss:0.4269\n",
      "Epoch:44 Batch:0/1 Loss:0.3033 Time:0m0.02s\n",
      "Valid Loss:0.4583\n",
      "Epoch:45 Batch:0/1 Loss:0.3035 Time:0m0.02s\n",
      "Valid Loss:0.4289\n",
      "Epoch:46 Batch:0/1 Loss:0.3025 Time:0m0.02s\n",
      "Valid Loss:0.4568\n",
      "Epoch:47 Batch:0/1 Loss:0.3026 Time:0m0.03s\n",
      "Valid Loss:0.4306\n",
      "Epoch:48 Batch:0/1 Loss:0.3019 Time:0m0.02s\n",
      "Valid Loss:0.4562\n",
      "Epoch:49 Batch:0/1 Loss:0.3020 Time:0m0.02s\n",
      "Valid Loss:0.4319\n",
      "Epoch:50 Batch:0/1 Loss:0.3014 Time:0m0.02s\n",
      "Valid Loss:0.4555\n",
      "Epoch:51 Batch:0/1 Loss:0.3016 Time:0m0.02s\n",
      "Valid Loss:0.4325\n",
      "Epoch:52 Batch:0/1 Loss:0.3012 Time:0m0.02s\n",
      "Valid Loss:0.4562\n",
      "Epoch:53 Batch:0/1 Loss:0.3015 Time:0m0.02s\n",
      "Valid Loss:0.4321\n",
      "Epoch:54 Batch:0/1 Loss:0.3012 Time:0m0.02s\n",
      "Valid Loss:0.4569\n",
      "Epoch:55 Batch:0/1 Loss:0.3016 Time:0m0.03s\n",
      "Valid Loss:0.4319\n",
      "Epoch:56 Batch:0/1 Loss:0.3012 Time:0m0.03s\n",
      "Valid Loss:0.4580\n",
      "Epoch:57 Batch:0/1 Loss:0.3018 Time:0m0.02s\n",
      "Valid Loss:0.4311\n",
      "Epoch:58 Batch:0/1 Loss:0.3016 Time:0m0.02s\n",
      "Valid Loss:0.4605\n",
      "Epoch:59 Batch:0/1 Loss:0.3026 Time:0m0.02s\n",
      "Valid Loss:0.4289\n",
      "Epoch:60 Batch:0/1 Loss:0.3023 Time:0m0.02s\n",
      "Valid Loss:0.4637\n",
      "Epoch:61 Batch:0/1 Loss:0.3039 Time:0m0.02s\n",
      "Valid Loss:0.4255\n",
      "Epoch:62 Batch:0/1 Loss:0.3042 Time:0m0.02s\n",
      "Valid Loss:0.4711\n",
      "Epoch:63 Batch:0/1 Loss:0.3076 Time:0m0.02s\n",
      "Valid Loss:0.4211\n",
      "Epoch:64 Batch:0/1 Loss:0.3078 Time:0m0.02s\n",
      "Valid Loss:0.4814\n",
      "Epoch:65 Batch:0/1 Loss:0.3138 Time:0m0.02s\n",
      "Valid Loss:0.4165\n",
      "Epoch:66 Batch:0/1 Loss:0.3118 Time:0m0.02s\n",
      "Valid Loss:0.4825\n",
      "Epoch:67 Batch:0/1 Loss:0.3154 Time:0m0.02s\n",
      "Valid Loss:0.4162\n",
      "Epoch:68 Batch:0/1 Loss:0.3111 Time:0m0.02s\n",
      "Valid Loss:0.4807\n",
      "Epoch:69 Batch:0/1 Loss:0.3145 Time:0m0.02s\n",
      "Valid Loss:0.4169\n",
      "Epoch:70 Batch:0/1 Loss:0.3098 Time:0m0.02s\n",
      "Valid Loss:0.4782\n",
      "Epoch:71 Batch:0/1 Loss:0.3128 Time:0m0.03s\n",
      "Valid Loss:0.4178\n",
      "Epoch:72 Batch:0/1 Loss:0.3089 Time:0m0.02s\n",
      "Valid Loss:0.4771\n",
      "Epoch:73 Batch:0/1 Loss:0.3118 Time:0m0.02s\n",
      "Valid Loss:0.4192\n",
      "Epoch:74 Batch:0/1 Loss:0.3076 Time:0m0.02s\n",
      "Valid Loss:0.4759\n",
      "Epoch:75 Batch:0/1 Loss:0.3106 Time:0m0.03s\n",
      "Valid Loss:0.4198\n",
      "Epoch:76 Batch:0/1 Loss:0.3076 Time:0m0.02s\n",
      "Valid Loss:0.4768\n",
      "Epoch:77 Batch:0/1 Loss:0.3107 Time:0m0.02s\n",
      "Valid Loss:0.4196\n",
      "Epoch:78 Batch:0/1 Loss:0.3077 Time:0m0.02s\n",
      "Valid Loss:0.4775\n",
      "Epoch:79 Batch:0/1 Loss:0.3110 Time:0m0.03s\n",
      "Valid Loss:0.4190\n",
      "Epoch:80 Batch:0/1 Loss:0.3083 Time:0m0.02s\n",
      "Valid Loss:0.4778\n",
      "Epoch:81 Batch:0/1 Loss:0.3112 Time:0m0.02s\n",
      "Valid Loss:0.4191\n",
      "Epoch:82 Batch:0/1 Loss:0.3081 Time:0m0.02s\n",
      "Valid Loss:0.4768\n",
      "Epoch:83 Batch:0/1 Loss:0.3105 Time:0m0.02s\n",
      "Valid Loss:0.4206\n",
      "Epoch:84 Batch:0/1 Loss:0.3068 Time:0m0.02s\n",
      "Valid Loss:0.4732\n",
      "Epoch:85 Batch:0/1 Loss:0.3082 Time:0m0.02s\n",
      "Valid Loss:0.4224\n",
      "Epoch:86 Batch:0/1 Loss:0.3053 Time:0m0.02s\n",
      "Valid Loss:0.4712\n",
      "Epoch:87 Batch:0/1 Loss:0.3068 Time:0m0.02s\n",
      "Valid Loss:0.4238\n",
      "Epoch:88 Batch:0/1 Loss:0.3044 Time:0m0.02s\n",
      "Valid Loss:0.4694\n",
      "Epoch:89 Batch:0/1 Loss:0.3055 Time:0m0.02s\n",
      "Valid Loss:0.4252\n",
      "Epoch:90 Batch:0/1 Loss:0.3033 Time:0m0.02s\n",
      "Valid Loss:0.4679\n",
      "Epoch:91 Batch:0/1 Loss:0.3043 Time:0m0.02s\n",
      "Valid Loss:0.4258\n",
      "Epoch:92 Batch:0/1 Loss:0.3030 Time:0m0.03s\n",
      "Valid Loss:0.4676\n",
      "Epoch:93 Batch:0/1 Loss:0.3038 Time:0m0.02s\n",
      "Valid Loss:0.4266\n",
      "Epoch:94 Batch:0/1 Loss:0.3026 Time:0m0.02s\n",
      "Valid Loss:0.4679\n",
      "Epoch:95 Batch:0/1 Loss:0.3038 Time:0m0.02s\n",
      "Valid Loss:0.4271\n",
      "Epoch:96 Batch:0/1 Loss:0.3022 Time:0m0.02s\n",
      "Valid Loss:0.4672\n",
      "Epoch:97 Batch:0/1 Loss:0.3032 Time:0m0.02s\n",
      "Valid Loss:0.4276\n",
      "Epoch:98 Batch:0/1 Loss:0.3020 Time:0m0.02s\n",
      "Valid Loss:0.4676\n",
      "Epoch:99 Batch:0/1 Loss:0.3032 Time:0m0.02s\n",
      "Valid Loss:0.4276\n",
      "Epoch:100 Batch:0/1 Loss:0.3020 Time:0m0.02s\n",
      "Valid Loss:0.4695\n",
      "Epoch:101 Batch:0/1 Loss:0.3038 Time:0m0.02s\n",
      "Valid Loss:0.4259\n",
      "Epoch:102 Batch:0/1 Loss:0.3030 Time:0m0.02s\n",
      "Valid Loss:0.4735\n",
      "Epoch:103 Batch:0/1 Loss:0.3057 Time:0m0.02s\n",
      "Valid Loss:0.4234\n",
      "Epoch:104 Batch:0/1 Loss:0.3050 Time:0m0.02s\n",
      "Valid Loss:0.4781\n",
      "Epoch:105 Batch:0/1 Loss:0.3085 Time:0m0.02s\n",
      "Valid Loss:0.4201\n",
      "Epoch:106 Batch:0/1 Loss:0.3077 Time:0m0.02s\n",
      "Valid Loss:0.4829\n",
      "Epoch:107 Batch:0/1 Loss:0.3117 Time:0m0.02s\n",
      "Valid Loss:0.4185\n",
      "Epoch:108 Batch:0/1 Loss:0.3086 Time:0m0.02s\n",
      "Valid Loss:0.4816\n",
      "Epoch:109 Batch:0/1 Loss:0.3113 Time:0m0.02s\n",
      "Valid Loss:0.4192\n",
      "Epoch:110 Batch:0/1 Loss:0.3074 Time:0m0.03s\n",
      "Valid Loss:0.4787\n",
      "Epoch:111 Batch:0/1 Loss:0.3094 Time:0m0.03s\n",
      "Valid Loss:0.4205\n"
     ]
    },
    {
     "ename": "KeyboardInterrupt",
     "evalue": "",
     "output_type": "error",
     "traceback": [
      "\u001b[0;31m---------------------------------------------------------------------------\u001b[0m",
      "\u001b[0;31mKeyboardInterrupt\u001b[0m                         Traceback (most recent call last)",
      "\u001b[0;32m<ipython-input-407-910a3b7312e2>\u001b[0m in \u001b[0;36m<module>\u001b[0;34m\u001b[0m\n\u001b[1;32m     11\u001b[0m     \u001b[0;32mfor\u001b[0m \u001b[0mbatch_id\u001b[0m\u001b[0;34m,\u001b[0m \u001b[0;34m(\u001b[0m\u001b[0mbatch_x\u001b[0m\u001b[0;34m,\u001b[0m \u001b[0mbatch_y\u001b[0m\u001b[0;34m)\u001b[0m \u001b[0;32min\u001b[0m \u001b[0menumerate\u001b[0m\u001b[0;34m(\u001b[0m\u001b[0mtrain_loader\u001b[0m\u001b[0;34m)\u001b[0m\u001b[0;34m:\u001b[0m\u001b[0;34m\u001b[0m\u001b[0;34m\u001b[0m\u001b[0m\n\u001b[1;32m     12\u001b[0m \u001b[0;34m\u001b[0m\u001b[0m\n\u001b[0;32m---> 13\u001b[0;31m         \u001b[0my_pred\u001b[0m \u001b[0;34m=\u001b[0m \u001b[0mmlp\u001b[0m\u001b[0;34m(\u001b[0m\u001b[0mbatch_x\u001b[0m\u001b[0;34m)\u001b[0m\u001b[0;34m\u001b[0m\u001b[0;34m\u001b[0m\u001b[0m\n\u001b[0m\u001b[1;32m     14\u001b[0m \u001b[0;34m\u001b[0m\u001b[0m\n\u001b[1;32m     15\u001b[0m         \u001b[0mloss\u001b[0m \u001b[0;34m=\u001b[0m \u001b[0mmae_loss\u001b[0m\u001b[0;34m(\u001b[0m\u001b[0my_pred\u001b[0m\u001b[0;34m,\u001b[0m \u001b[0mbatch_y\u001b[0m\u001b[0;34m)\u001b[0m\u001b[0;34m\u001b[0m\u001b[0;34m\u001b[0m\u001b[0m\n",
      "\u001b[0;32m/opt/anaconda3/lib/python3.7/site-packages/torch/nn/modules/module.py\u001b[0m in \u001b[0;36m_call_impl\u001b[0;34m(self, *input, **kwargs)\u001b[0m\n\u001b[1;32m    720\u001b[0m             \u001b[0mresult\u001b[0m \u001b[0;34m=\u001b[0m \u001b[0mself\u001b[0m\u001b[0;34m.\u001b[0m\u001b[0m_slow_forward\u001b[0m\u001b[0;34m(\u001b[0m\u001b[0;34m*\u001b[0m\u001b[0minput\u001b[0m\u001b[0;34m,\u001b[0m \u001b[0;34m**\u001b[0m\u001b[0mkwargs\u001b[0m\u001b[0;34m)\u001b[0m\u001b[0;34m\u001b[0m\u001b[0;34m\u001b[0m\u001b[0m\n\u001b[1;32m    721\u001b[0m         \u001b[0;32melse\u001b[0m\u001b[0;34m:\u001b[0m\u001b[0;34m\u001b[0m\u001b[0;34m\u001b[0m\u001b[0m\n\u001b[0;32m--> 722\u001b[0;31m             \u001b[0mresult\u001b[0m \u001b[0;34m=\u001b[0m \u001b[0mself\u001b[0m\u001b[0;34m.\u001b[0m\u001b[0mforward\u001b[0m\u001b[0;34m(\u001b[0m\u001b[0;34m*\u001b[0m\u001b[0minput\u001b[0m\u001b[0;34m,\u001b[0m \u001b[0;34m**\u001b[0m\u001b[0mkwargs\u001b[0m\u001b[0;34m)\u001b[0m\u001b[0;34m\u001b[0m\u001b[0;34m\u001b[0m\u001b[0m\n\u001b[0m\u001b[1;32m    723\u001b[0m         for hook in itertools.chain(\n\u001b[1;32m    724\u001b[0m                 \u001b[0m_global_forward_hooks\u001b[0m\u001b[0;34m.\u001b[0m\u001b[0mvalues\u001b[0m\u001b[0;34m(\u001b[0m\u001b[0;34m)\u001b[0m\u001b[0;34m,\u001b[0m\u001b[0;34m\u001b[0m\u001b[0;34m\u001b[0m\u001b[0m\n",
      "\u001b[0;32m<ipython-input-352-7cde59e9465e>\u001b[0m in \u001b[0;36mforward\u001b[0;34m(self, x)\u001b[0m\n\u001b[1;32m     27\u001b[0m \u001b[0;34m\u001b[0m\u001b[0m\n\u001b[1;32m     28\u001b[0m     \u001b[0;32mdef\u001b[0m \u001b[0mforward\u001b[0m\u001b[0;34m(\u001b[0m\u001b[0mself\u001b[0m\u001b[0;34m,\u001b[0m \u001b[0mx\u001b[0m\u001b[0;34m)\u001b[0m\u001b[0;34m:\u001b[0m\u001b[0;34m\u001b[0m\u001b[0;34m\u001b[0m\u001b[0m\n\u001b[0;32m---> 29\u001b[0;31m         \u001b[0mout\u001b[0m \u001b[0;34m=\u001b[0m \u001b[0mself\u001b[0m\u001b[0;34m.\u001b[0m\u001b[0mlinear_1\u001b[0m\u001b[0;34m(\u001b[0m\u001b[0mx\u001b[0m\u001b[0;34m)\u001b[0m\u001b[0;34m\u001b[0m\u001b[0;34m\u001b[0m\u001b[0m\n\u001b[0m\u001b[1;32m     30\u001b[0m         \u001b[0mout\u001b[0m \u001b[0;34m=\u001b[0m \u001b[0mF\u001b[0m\u001b[0;34m.\u001b[0m\u001b[0mrelu\u001b[0m\u001b[0;34m(\u001b[0m\u001b[0mout\u001b[0m\u001b[0;34m)\u001b[0m\u001b[0;34m\u001b[0m\u001b[0;34m\u001b[0m\u001b[0m\n\u001b[1;32m     31\u001b[0m         \u001b[0mout\u001b[0m \u001b[0;34m=\u001b[0m \u001b[0mself\u001b[0m\u001b[0;34m.\u001b[0m\u001b[0mlinear_2\u001b[0m\u001b[0;34m(\u001b[0m\u001b[0mout\u001b[0m\u001b[0;34m)\u001b[0m\u001b[0;34m\u001b[0m\u001b[0;34m\u001b[0m\u001b[0m\n",
      "\u001b[0;32m/opt/anaconda3/lib/python3.7/site-packages/torch/nn/modules/module.py\u001b[0m in \u001b[0;36m_call_impl\u001b[0;34m(self, *input, **kwargs)\u001b[0m\n\u001b[1;32m    720\u001b[0m             \u001b[0mresult\u001b[0m \u001b[0;34m=\u001b[0m \u001b[0mself\u001b[0m\u001b[0;34m.\u001b[0m\u001b[0m_slow_forward\u001b[0m\u001b[0;34m(\u001b[0m\u001b[0;34m*\u001b[0m\u001b[0minput\u001b[0m\u001b[0;34m,\u001b[0m \u001b[0;34m**\u001b[0m\u001b[0mkwargs\u001b[0m\u001b[0;34m)\u001b[0m\u001b[0;34m\u001b[0m\u001b[0;34m\u001b[0m\u001b[0m\n\u001b[1;32m    721\u001b[0m         \u001b[0;32melse\u001b[0m\u001b[0;34m:\u001b[0m\u001b[0;34m\u001b[0m\u001b[0;34m\u001b[0m\u001b[0m\n\u001b[0;32m--> 722\u001b[0;31m             \u001b[0mresult\u001b[0m \u001b[0;34m=\u001b[0m \u001b[0mself\u001b[0m\u001b[0;34m.\u001b[0m\u001b[0mforward\u001b[0m\u001b[0;34m(\u001b[0m\u001b[0;34m*\u001b[0m\u001b[0minput\u001b[0m\u001b[0;34m,\u001b[0m \u001b[0;34m**\u001b[0m\u001b[0mkwargs\u001b[0m\u001b[0;34m)\u001b[0m\u001b[0;34m\u001b[0m\u001b[0;34m\u001b[0m\u001b[0m\n\u001b[0m\u001b[1;32m    723\u001b[0m         for hook in itertools.chain(\n\u001b[1;32m    724\u001b[0m                 \u001b[0m_global_forward_hooks\u001b[0m\u001b[0;34m.\u001b[0m\u001b[0mvalues\u001b[0m\u001b[0;34m(\u001b[0m\u001b[0;34m)\u001b[0m\u001b[0;34m,\u001b[0m\u001b[0;34m\u001b[0m\u001b[0;34m\u001b[0m\u001b[0m\n",
      "\u001b[0;32m/opt/anaconda3/lib/python3.7/site-packages/torch/nn/modules/linear.py\u001b[0m in \u001b[0;36mforward\u001b[0;34m(self, input)\u001b[0m\n\u001b[1;32m     89\u001b[0m \u001b[0;34m\u001b[0m\u001b[0m\n\u001b[1;32m     90\u001b[0m     \u001b[0;32mdef\u001b[0m \u001b[0mforward\u001b[0m\u001b[0;34m(\u001b[0m\u001b[0mself\u001b[0m\u001b[0;34m,\u001b[0m \u001b[0minput\u001b[0m\u001b[0;34m:\u001b[0m \u001b[0mTensor\u001b[0m\u001b[0;34m)\u001b[0m \u001b[0;34m->\u001b[0m \u001b[0mTensor\u001b[0m\u001b[0;34m:\u001b[0m\u001b[0;34m\u001b[0m\u001b[0;34m\u001b[0m\u001b[0m\n\u001b[0;32m---> 91\u001b[0;31m         \u001b[0;32mreturn\u001b[0m \u001b[0mF\u001b[0m\u001b[0;34m.\u001b[0m\u001b[0mlinear\u001b[0m\u001b[0;34m(\u001b[0m\u001b[0minput\u001b[0m\u001b[0;34m,\u001b[0m \u001b[0mself\u001b[0m\u001b[0;34m.\u001b[0m\u001b[0mweight\u001b[0m\u001b[0;34m,\u001b[0m \u001b[0mself\u001b[0m\u001b[0;34m.\u001b[0m\u001b[0mbias\u001b[0m\u001b[0;34m)\u001b[0m\u001b[0;34m\u001b[0m\u001b[0;34m\u001b[0m\u001b[0m\n\u001b[0m\u001b[1;32m     92\u001b[0m \u001b[0;34m\u001b[0m\u001b[0m\n\u001b[1;32m     93\u001b[0m     \u001b[0;32mdef\u001b[0m \u001b[0mextra_repr\u001b[0m\u001b[0;34m(\u001b[0m\u001b[0mself\u001b[0m\u001b[0;34m)\u001b[0m \u001b[0;34m->\u001b[0m \u001b[0mstr\u001b[0m\u001b[0;34m:\u001b[0m\u001b[0;34m\u001b[0m\u001b[0;34m\u001b[0m\u001b[0m\n",
      "\u001b[0;32m/opt/anaconda3/lib/python3.7/site-packages/torch/nn/functional.py\u001b[0m in \u001b[0;36mlinear\u001b[0;34m(input, weight, bias)\u001b[0m\n\u001b[1;32m   1672\u001b[0m     \u001b[0;32mif\u001b[0m \u001b[0minput\u001b[0m\u001b[0;34m.\u001b[0m\u001b[0mdim\u001b[0m\u001b[0;34m(\u001b[0m\u001b[0;34m)\u001b[0m \u001b[0;34m==\u001b[0m \u001b[0;36m2\u001b[0m \u001b[0;32mand\u001b[0m \u001b[0mbias\u001b[0m \u001b[0;32mis\u001b[0m \u001b[0;32mnot\u001b[0m \u001b[0;32mNone\u001b[0m\u001b[0;34m:\u001b[0m\u001b[0;34m\u001b[0m\u001b[0;34m\u001b[0m\u001b[0m\n\u001b[1;32m   1673\u001b[0m         \u001b[0;31m# fused op is marginally faster\u001b[0m\u001b[0;34m\u001b[0m\u001b[0;34m\u001b[0m\u001b[0;34m\u001b[0m\u001b[0m\n\u001b[0;32m-> 1674\u001b[0;31m         \u001b[0mret\u001b[0m \u001b[0;34m=\u001b[0m \u001b[0mtorch\u001b[0m\u001b[0;34m.\u001b[0m\u001b[0maddmm\u001b[0m\u001b[0;34m(\u001b[0m\u001b[0mbias\u001b[0m\u001b[0;34m,\u001b[0m \u001b[0minput\u001b[0m\u001b[0;34m,\u001b[0m \u001b[0mweight\u001b[0m\u001b[0;34m.\u001b[0m\u001b[0mt\u001b[0m\u001b[0;34m(\u001b[0m\u001b[0;34m)\u001b[0m\u001b[0;34m)\u001b[0m\u001b[0;34m\u001b[0m\u001b[0;34m\u001b[0m\u001b[0m\n\u001b[0m\u001b[1;32m   1675\u001b[0m     \u001b[0;32melse\u001b[0m\u001b[0;34m:\u001b[0m\u001b[0;34m\u001b[0m\u001b[0;34m\u001b[0m\u001b[0m\n\u001b[1;32m   1676\u001b[0m         \u001b[0moutput\u001b[0m \u001b[0;34m=\u001b[0m \u001b[0minput\u001b[0m\u001b[0;34m.\u001b[0m\u001b[0mmatmul\u001b[0m\u001b[0;34m(\u001b[0m\u001b[0mweight\u001b[0m\u001b[0;34m.\u001b[0m\u001b[0mt\u001b[0m\u001b[0;34m(\u001b[0m\u001b[0;34m)\u001b[0m\u001b[0;34m)\u001b[0m\u001b[0;34m\u001b[0m\u001b[0;34m\u001b[0m\u001b[0m\n",
      "\u001b[0;31mKeyboardInterrupt\u001b[0m: "
     ]
    }
   ],
   "source": [
    "# training phase\n",
    "epochs = 500\n",
    "# to plot loss curve after training\n",
    "valid_losses = []\n",
    "\n",
    "for epoch in range(epochs):\n",
    "    start_time = time.time()\n",
    "    mlp.train()\n",
    "    num_batch = train_loader.data_size // train_loader.batch_size + 1\n",
    "    \n",
    "    for batch_id, (batch_x, batch_y) in enumerate(train_loader):\n",
    "        \n",
    "        y_pred = mlp(batch_x)\n",
    "\n",
    "        loss = mae_loss(y_pred, batch_y)\n",
    "\n",
    "        optimizer.zero_grad()\n",
    "        loss.backward()\n",
    "        optimizer.step()\n",
    "\n",
    "        elapsed_time = time.time() - start_time\n",
    "        elapsed_min = int(elapsed_time / 60)\n",
    "        elapsed_sec = elapsed_time - 60 * elapsed_min\n",
    "\n",
    "        print('\\rEpoch:{} Batch:{}/{} Loss:{:.4f} Time:{}m{:.2f}s'.format(epoch + 1, batch_id, \n",
    "                                                                          num_batch, loss.item(),\n",
    "                                                                          elapsed_min, elapsed_sec), end='')\n",
    "    print()\n",
    "    mlp.eval()\n",
    "    valid_loss = 0\n",
    "    best_loss = np.inf\n",
    "    num_batch = test_loader.data_size // test_loader.batch_size + 1\n",
    "    \n",
    "    for batch_id, (batch_x, batch_y) in enumerate(test_loader):\n",
    "    \n",
    "        y_pred = mlp(batch_x)\n",
    "        loss = mae_loss(y_pred, batch_y)\n",
    "        valid_loss += loss.item()\n",
    "    \n",
    "    valid_loss /= num_batch\n",
    "    valid_losses.append(valid_loss)\n",
    "    \n",
    "    #save model when validation loss is minimum\n",
    "    if valid_loss < best_loss:\n",
    "        best_loss = valid_loss\n",
    "        torch.save(mlp.state_dict(), 'mlp.model')  \n",
    "    \n",
    "    print('Valid Loss:{:.4f}'.format(valid_loss))"
   ]
  },
  {
   "cell_type": "code",
   "execution_count": 405,
   "metadata": {},
   "outputs": [
    {
     "name": "stdout",
     "output_type": "stream",
     "text": [
      "minimum validation loss is 0.0000\n",
      "torch.Size([1777, 2])\n",
      "tensor([ 0.6135,  0.0342, -0.0071, -0.1111, -0.2608,  0.0575,  0.4453,  0.6039,\n",
      "         0.0516, -0.1926,  0.1163,  0.0256, -0.0330, -0.1963, -0.0532,  0.0174,\n",
      "        -0.2719, -0.1675,  0.6384,  0.1328,  0.0220, -0.1305,  0.0160,  0.1965,\n",
      "        -0.1777,  1.0861, -0.2551, -0.2259, -0.0243,  0.2267, -0.6849, -0.1969],\n",
      "       grad_fn=<SelectBackward>)\n",
      "tensor([-0.1264,  0.6631,  0.4559,  0.3794,  0.4099,  0.1012, -0.1010, -0.9141,\n",
      "         0.1783,  0.5580,  0.1816, -0.3094,  0.3006,  0.5716,  0.3114,  0.4962,\n",
      "         0.4588,  0.7667, -0.2316,  0.2367,  0.2874,  0.4796,  0.1261,  0.1367,\n",
      "         0.4652, -0.0347,  0.5219,  0.2942, -0.1006,  0.1410,  0.6751,  0.2163],\n",
      "       grad_fn=<SelectBackward>)\n",
      "torch.Size([1777, 2])\n",
      "tensor([ 0.0000, -0.2000, -0.2000, -0.4000,  0.0000, -0.4100, -0.2000,  0.5000,\n",
      "         0.0000, -0.2000, -0.4000, -0.8000, -0.4100,  0.8000,  0.0000, -0.4100,\n",
      "        -0.2000, -0.2000, -0.4100, -0.4100,  0.8000, -0.2000,  0.8000, -0.4100,\n",
      "        -0.4100,  0.8000, -0.2000,  0.8000, -0.8000, -0.4100, -0.4000, -0.4100])\n",
      "tensor([ 0.0000,  0.7000,  0.7000,  0.7000,  0.0000,  0.6000,  0.7000, -0.7000,\n",
      "         0.0000,  0.7000,  0.7000, -0.3000,  0.6000,  0.1000,  0.0000,  0.6000,\n",
      "         0.7000,  0.7000,  0.6000,  0.6000,  0.1000,  0.7000,  0.1000,  0.6000,\n",
      "         0.6000,  0.1000,  0.7000,  0.1000, -0.3000,  0.6000,  0.7000,  0.6000])\n"
     ]
    },
    {
     "data": {
      "image/png": "[encoded data removed]",
      "text/plain": [
       "<Figure size 1152x360 with 1 Axes>"
      ]
     },
     "metadata": {
      "needs_background": "light"
     },
     "output_type": "display_data"
    }
   ],
   "source": [
    "# plot validation loss curve, this may help to notice overfitting\n",
    "plt.figure(figsize=(16,5))\n",
    "plt.ylim(0,max(valid_losses)+0.02)\n",
    "plt.xlim(1,500)\n",
    "plt.plot(valid_losses)\n",
    "print('minimum validation loss is {:.4f}'.format(min(valid_losses)))\n",
    "\n",
    "# sanity\n",
    "print(y_pred.shape)\n",
    "print(y_pred[:32,0])\n",
    "print(y_pred[:32,1])\n",
    "print(batch_y.shape)\n",
    "print(batch_y[:32,0])\n",
    "print(batch_y[:32,1])"
   ]
  },
  {
   "cell_type": "code",
   "execution_count": 388,
   "metadata": {},
   "outputs": [
    {
     "data": {
      "text/plain": [
       "1777"
      ]
     },
     "execution_count": 388,
     "metadata": {},
     "output_type": "execute_result"
    }
   ],
   "source": [
    "#load the best model\n",
    "mlp.load_state_dict(torch.load('mlp.model'))\n",
    "\n",
    "x_test = torch.tensor(X_test,dtype=torch.float,device=device)\n",
    "\n",
    "#predict\n",
    "y_pred = mlp(x_test)\n",
    "y_pred = y_pred.data.cpu().numpy()\n",
    "\n",
    "x_test.shape[0]"
   ]
  },
  {
   "cell_type": "code",
   "execution_count": 391,
   "metadata": {},
   "outputs": [
    {
     "data": {
      "image/png": "[encoded data removed]",
      "text/plain": [
       "<Figure size 720x720 with 1 Axes>"
      ]
     },
     "metadata": {},
     "output_type": "display_data"
    },
    {
     "name": "stdout",
     "output_type": "stream",
     "text": [
      "      True x  True y    Pred x    Pred y\n",
      "0      -0.41     0.6 -0.014834  0.168766\n",
      "1      -0.40     0.7 -0.025728  0.187437\n",
      "2      -0.41     0.6  0.330648 -0.032462\n",
      "3      -0.80    -0.3  0.041452  0.038515\n",
      "4      -0.80    -0.3 -0.063685  0.053698\n",
      "...      ...     ...       ...       ...\n",
      "1772   -0.20     0.7 -0.035495  0.233166\n",
      "1773   -0.80    -0.3 -0.177456  0.290428\n",
      "1774   -0.41     0.6 -0.101461  0.213261\n",
      "1775   -0.41     0.6  0.463096 -0.256910\n",
      "1776   -0.20     0.7 -0.017248  0.495836\n",
      "\n",
      "[1777 rows x 4 columns]\n",
      "\n",
      "Mean Absolute Error: 0.41643488684483354\n",
      "Mean Squared Error: 0.25678915208043585\n",
      "Root Mean Squared Error: 0.5067436749288893\n"
     ]
    }
   ],
   "source": [
    "# plotting\n",
    "plt.figure(figsize=(10,10))\n",
    "plt.title('Simple MLP')\n",
    "# im = plt.imread(\"imshow/circumplex-model.png\",0)\n",
    "# implot = plt.imshow(im,extent=[y_train[:,0].min(),y_train[:,0].max(),y_train[:,1].min(),y_train[:,1].max()])\n",
    "\n",
    "colors = []\n",
    "\n",
    "for i in range(len(y_test)):\n",
    "    for key, value in circumplex_model.items():\n",
    "        if tuple(y_test[i]) == value[0]:\n",
    "            colors.append(value[1])\n",
    "\n",
    "plt.scatter(y_test[:,0], y_test[:,1], color='black', s=15, marker='x')\n",
    "plt.scatter(y_pred[:,0], y_pred[:,1], c=colors, s=15, marker='o')\n",
    "\n",
    "plt.xlim(-1, 1)\n",
    "plt.ylim(-1, 1)\n",
    "\n",
    "plt.xticks([])\n",
    "plt.yticks([])\n",
    "\n",
    "for key, value in circumplex_model.items():\n",
    "    plt.annotate(key, value[0])\n",
    "\n",
    "# legend\n",
    "black_patch = mpatches.Patch(color='black', label='ground truth')\n",
    "grey_patch = mpatches.Patch(color='grey', label='neutral')\n",
    "cyan_patch = mpatches.Patch(color='cyan', label='calm')\n",
    "purple_patch = mpatches.Patch(color='purple', label='happy')\n",
    "blue_patch = mpatches.Patch(color='blue', label='sad')\n",
    "red_patch = mpatches.Patch(color='red', label='angry')\n",
    "magenta_patch = mpatches.Patch(color='magenta', label='fearful')\n",
    "green_patch = mpatches.Patch(color='green', label='disgust')\n",
    "orange_patch = mpatches.Patch(color='orange', label='surprised')\n",
    "\n",
    "plt.legend(handles=[black_patch,\n",
    "                    grey_patch,\n",
    "                    cyan_patch,\n",
    "                    purple_patch,\n",
    "                    blue_patch,\n",
    "                    red_patch,\n",
    "                    magenta_patch,\n",
    "                    green_patch,\n",
    "                    orange_patch])\n",
    "\n",
    "plt.show()\n",
    "\n",
    "df_rfr = pd.DataFrame({'True x':y_test[:,0], \n",
    "                        'True y':y_test[:,1],\n",
    "                        'Pred x':y_pred[:,0], \n",
    "                        'Pred y':y_pred[:,1]})\n",
    "print(df_rfr)\n",
    "print()\n",
    "print('Mean Absolute Error:', metrics.mean_absolute_error(y_test, y_pred))\n",
    "print('Mean Squared Error:', metrics.mean_squared_error(y_test, y_pred))\n",
    "print('Root Mean Squared Error:', np.sqrt(metrics.mean_squared_error(y_test, y_pred)))"
   ]
  },
  {
   "cell_type": "markdown",
   "metadata": {},
   "source": [
    "# MLPRegressor and RandomForestRegressor Sklearn"
   ]
  },
  {
   "cell_type": "code",
   "execution_count": 1078,
   "metadata": {},
   "outputs": [],
   "source": [
    "mlp_params = {\n",
    "    'batch_size': 'auto',\n",
    "    'epsilon': 1e-08, \n",
    "    'hidden_layer_sizes': (300,), \n",
    "    'learning_rate': 'adaptive', \n",
    "    'max_iter': 100, \n",
    "    'verbose':1,\n",
    "    'n_iter_no_change':10,\n",
    "    'early_stopping':True,\n",
    "    'random_state':420,\n",
    "}"
   ]
  },
  {
   "cell_type": "code",
   "execution_count": 1079,
   "metadata": {},
   "outputs": [
    {
     "name": "stdout",
     "output_type": "stream",
     "text": [
      "Iteration 1, loss = 0.14668076\n",
      "Validation score: -0.003615\n",
      "Iteration 2, loss = 0.12527926\n",
      "Validation score: 0.089012\n",
      "Iteration 3, loss = 0.11602449\n",
      "Validation score: 0.102063\n",
      "Iteration 4, loss = 0.11102973\n",
      "Validation score: 0.124175\n",
      "Iteration 5, loss = 0.10715313\n",
      "Validation score: 0.147513\n",
      "Iteration 6, loss = 0.10391503\n",
      "Validation score: 0.158160\n",
      "Iteration 7, loss = 0.10125263\n"
     ]
    },
    {
     "name": "stderr",
     "output_type": "stream",
     "text": [
      "/opt/anaconda3/lib/python3.7/site-packages/sklearn/base.py:420: FutureWarning: The default value of multioutput (not exposed in score method) will change from 'variance_weighted' to 'uniform_average' in 0.23 to keep consistent with 'metrics.r2_score'. To specify the default value manually and avoid the warning, please either call 'metrics.r2_score' directly or make a custom scorer with 'metrics.make_scorer' (the built-in scorer 'r2' uses multioutput='uniform_average').\n",
      "  \"multioutput='uniform_average').\", FutureWarning)\n",
      "/opt/anaconda3/lib/python3.7/site-packages/sklearn/base.py:420: FutureWarning: The default value of multioutput (not exposed in score method) will change from 'variance_weighted' to 'uniform_average' in 0.23 to keep consistent with 'metrics.r2_score'. To specify the default value manually and avoid the warning, please either call 'metrics.r2_score' directly or make a custom scorer with 'metrics.make_scorer' (the built-in scorer 'r2' uses multioutput='uniform_average').\n",
      "  \"multioutput='uniform_average').\", FutureWarning)\n",
      "/opt/anaconda3/lib/python3.7/site-packages/sklearn/base.py:420: FutureWarning: The default value of multioutput (not exposed in score method) will change from 'variance_weighted' to 'uniform_average' in 0.23 to keep consistent with 'metrics.r2_score'. To specify the default value manually and avoid the warning, please either call 'metrics.r2_score' directly or make a custom scorer with 'metrics.make_scorer' (the built-in scorer 'r2' uses multioutput='uniform_average').\n",
      "  \"multioutput='uniform_average').\", FutureWarning)\n",
      "/opt/anaconda3/lib/python3.7/site-packages/sklearn/base.py:420: FutureWarning: The default value of multioutput (not exposed in score method) will change from 'variance_weighted' to 'uniform_average' in 0.23 to keep consistent with 'metrics.r2_score'. To specify the default value manually and avoid the warning, please either call 'metrics.r2_score' directly or make a custom scorer with 'metrics.make_scorer' (the built-in scorer 'r2' uses multioutput='uniform_average').\n",
      "  \"multioutput='uniform_average').\", FutureWarning)\n",
      "/opt/anaconda3/lib/python3.7/site-packages/sklearn/base.py:420: FutureWarning: The default value of multioutput (not exposed in score method) will change from 'variance_weighted' to 'uniform_average' in 0.23 to keep consistent with 'metrics.r2_score'. To specify the default value manually and avoid the warning, please either call 'metrics.r2_score' directly or make a custom scorer with 'metrics.make_scorer' (the built-in scorer 'r2' uses multioutput='uniform_average').\n",
      "  \"multioutput='uniform_average').\", FutureWarning)\n",
      "/opt/anaconda3/lib/python3.7/site-packages/sklearn/base.py:420: FutureWarning: The default value of multioutput (not exposed in score method) will change from 'variance_weighted' to 'uniform_average' in 0.23 to keep consistent with 'metrics.r2_score'. To specify the default value manually and avoid the warning, please either call 'metrics.r2_score' directly or make a custom scorer with 'metrics.make_scorer' (the built-in scorer 'r2' uses multioutput='uniform_average').\n",
      "  \"multioutput='uniform_average').\", FutureWarning)\n",
      "/opt/anaconda3/lib/python3.7/site-packages/sklearn/base.py:420: FutureWarning: The default value of multioutput (not exposed in score method) will change from 'variance_weighted' to 'uniform_average' in 0.23 to keep consistent with 'metrics.r2_score'. To specify the default value manually and avoid the warning, please either call 'metrics.r2_score' directly or make a custom scorer with 'metrics.make_scorer' (the built-in scorer 'r2' uses multioutput='uniform_average').\n",
      "  \"multioutput='uniform_average').\", FutureWarning)\n",
      "/opt/anaconda3/lib/python3.7/site-packages/sklearn/base.py:420: FutureWarning: The default value of multioutput (not exposed in score method) will change from 'variance_weighted' to 'uniform_average' in 0.23 to keep consistent with 'metrics.r2_score'. To specify the default value manually and avoid the warning, please either call 'metrics.r2_score' directly or make a custom scorer with 'metrics.make_scorer' (the built-in scorer 'r2' uses multioutput='uniform_average').\n",
      "  \"multioutput='uniform_average').\", FutureWarning)\n",
      "/opt/anaconda3/lib/python3.7/site-packages/sklearn/base.py:420: FutureWarning: The default value of multioutput (not exposed in score method) will change from 'variance_weighted' to 'uniform_average' in 0.23 to keep consistent with 'metrics.r2_score'. To specify the default value manually and avoid the warning, please either call 'metrics.r2_score' directly or make a custom scorer with 'metrics.make_scorer' (the built-in scorer 'r2' uses multioutput='uniform_average').\n",
      "  \"multioutput='uniform_average').\", FutureWarning)\n",
      "/opt/anaconda3/lib/python3.7/site-packages/sklearn/base.py:420: FutureWarning: The default value of multioutput (not exposed in score method) will change from 'variance_weighted' to 'uniform_average' in 0.23 to keep consistent with 'metrics.r2_score'. To specify the default value manually and avoid the warning, please either call 'metrics.r2_score' directly or make a custom scorer with 'metrics.make_scorer' (the built-in scorer 'r2' uses multioutput='uniform_average').\n",
      "  \"multioutput='uniform_average').\", FutureWarning)\n",
      "/opt/anaconda3/lib/python3.7/site-packages/sklearn/base.py:420: FutureWarning: The default value of multioutput (not exposed in score method) will change from 'variance_weighted' to 'uniform_average' in 0.23 to keep consistent with 'metrics.r2_score'. To specify the default value manually and avoid the warning, please either call 'metrics.r2_score' directly or make a custom scorer with 'metrics.make_scorer' (the built-in scorer 'r2' uses multioutput='uniform_average').\n",
      "  \"multioutput='uniform_average').\", FutureWarning)\n",
      "/opt/anaconda3/lib/python3.7/site-packages/sklearn/base.py:420: FutureWarning: The default value of multioutput (not exposed in score method) will change from 'variance_weighted' to 'uniform_average' in 0.23 to keep consistent with 'metrics.r2_score'. To specify the default value manually and avoid the warning, please either call 'metrics.r2_score' directly or make a custom scorer with 'metrics.make_scorer' (the built-in scorer 'r2' uses multioutput='uniform_average').\n",
      "  \"multioutput='uniform_average').\", FutureWarning)\n",
      "/opt/anaconda3/lib/python3.7/site-packages/sklearn/base.py:420: FutureWarning: The default value of multioutput (not exposed in score method) will change from 'variance_weighted' to 'uniform_average' in 0.23 to keep consistent with 'metrics.r2_score'. To specify the default value manually and avoid the warning, please either call 'metrics.r2_score' directly or make a custom scorer with 'metrics.make_scorer' (the built-in scorer 'r2' uses multioutput='uniform_average').\n",
      "  \"multioutput='uniform_average').\", FutureWarning)\n"
     ]
    },
    {
     "name": "stdout",
     "output_type": "stream",
     "text": [
      "Validation score: 0.166625\n",
      "Iteration 8, loss = 0.09957487\n",
      "Validation score: 0.191150\n",
      "Iteration 9, loss = 0.09706519\n",
      "Validation score: 0.185267\n",
      "Iteration 10, loss = 0.09516096\n",
      "Validation score: 0.203484\n",
      "Iteration 11, loss = 0.09407358\n",
      "Validation score: 0.197318\n",
      "Iteration 12, loss = 0.09244008\n",
      "Validation score: 0.193500\n",
      "Iteration 13, loss = 0.09075383\n",
      "Validation score: 0.211358\n",
      "Iteration 14, loss = 0.08949642\n",
      "Validation score: 0.232857\n",
      "Iteration 15, loss = 0.08836755\n",
      "Validation score: 0.212877\n",
      "Iteration 16, loss = 0.08728377\n",
      "Validation score: 0.228624\n",
      "Iteration 17, loss = 0.08598950\n",
      "Validation score: 0.235288\n",
      "Iteration 18, loss = 0.08502698\n",
      "Validation score: 0.237742\n",
      "Iteration 19, loss = 0.08383693\n",
      "Validation score: 0.225476\n",
      "Iteration 20, loss = 0.08292646\n",
      "Validation score: 0.247727\n"
     ]
    },
    {
     "name": "stderr",
     "output_type": "stream",
     "text": [
      "/opt/anaconda3/lib/python3.7/site-packages/sklearn/base.py:420: FutureWarning: The default value of multioutput (not exposed in score method) will change from 'variance_weighted' to 'uniform_average' in 0.23 to keep consistent with 'metrics.r2_score'. To specify the default value manually and avoid the warning, please either call 'metrics.r2_score' directly or make a custom scorer with 'metrics.make_scorer' (the built-in scorer 'r2' uses multioutput='uniform_average').\n",
      "  \"multioutput='uniform_average').\", FutureWarning)\n",
      "/opt/anaconda3/lib/python3.7/site-packages/sklearn/base.py:420: FutureWarning: The default value of multioutput (not exposed in score method) will change from 'variance_weighted' to 'uniform_average' in 0.23 to keep consistent with 'metrics.r2_score'. To specify the default value manually and avoid the warning, please either call 'metrics.r2_score' directly or make a custom scorer with 'metrics.make_scorer' (the built-in scorer 'r2' uses multioutput='uniform_average').\n",
      "  \"multioutput='uniform_average').\", FutureWarning)\n",
      "/opt/anaconda3/lib/python3.7/site-packages/sklearn/base.py:420: FutureWarning: The default value of multioutput (not exposed in score method) will change from 'variance_weighted' to 'uniform_average' in 0.23 to keep consistent with 'metrics.r2_score'. To specify the default value manually and avoid the warning, please either call 'metrics.r2_score' directly or make a custom scorer with 'metrics.make_scorer' (the built-in scorer 'r2' uses multioutput='uniform_average').\n",
      "  \"multioutput='uniform_average').\", FutureWarning)\n",
      "/opt/anaconda3/lib/python3.7/site-packages/sklearn/base.py:420: FutureWarning: The default value of multioutput (not exposed in score method) will change from 'variance_weighted' to 'uniform_average' in 0.23 to keep consistent with 'metrics.r2_score'. To specify the default value manually and avoid the warning, please either call 'metrics.r2_score' directly or make a custom scorer with 'metrics.make_scorer' (the built-in scorer 'r2' uses multioutput='uniform_average').\n",
      "  \"multioutput='uniform_average').\", FutureWarning)\n",
      "/opt/anaconda3/lib/python3.7/site-packages/sklearn/base.py:420: FutureWarning: The default value of multioutput (not exposed in score method) will change from 'variance_weighted' to 'uniform_average' in 0.23 to keep consistent with 'metrics.r2_score'. To specify the default value manually and avoid the warning, please either call 'metrics.r2_score' directly or make a custom scorer with 'metrics.make_scorer' (the built-in scorer 'r2' uses multioutput='uniform_average').\n",
      "  \"multioutput='uniform_average').\", FutureWarning)\n",
      "/opt/anaconda3/lib/python3.7/site-packages/sklearn/base.py:420: FutureWarning: The default value of multioutput (not exposed in score method) will change from 'variance_weighted' to 'uniform_average' in 0.23 to keep consistent with 'metrics.r2_score'. To specify the default value manually and avoid the warning, please either call 'metrics.r2_score' directly or make a custom scorer with 'metrics.make_scorer' (the built-in scorer 'r2' uses multioutput='uniform_average').\n",
      "  \"multioutput='uniform_average').\", FutureWarning)\n",
      "/opt/anaconda3/lib/python3.7/site-packages/sklearn/base.py:420: FutureWarning: The default value of multioutput (not exposed in score method) will change from 'variance_weighted' to 'uniform_average' in 0.23 to keep consistent with 'metrics.r2_score'. To specify the default value manually and avoid the warning, please either call 'metrics.r2_score' directly or make a custom scorer with 'metrics.make_scorer' (the built-in scorer 'r2' uses multioutput='uniform_average').\n",
      "  \"multioutput='uniform_average').\", FutureWarning)\n"
     ]
    },
    {
     "name": "stdout",
     "output_type": "stream",
     "text": [
      "Iteration 21, loss = 0.08175851\n",
      "Validation score: 0.225471\n",
      "Iteration 22, loss = 0.08143301\n",
      "Validation score: 0.254147\n",
      "Iteration 23, loss = 0.08023223\n",
      "Validation score: 0.248851\n",
      "Iteration 24, loss = 0.07895173\n",
      "Validation score: 0.265479\n",
      "Iteration 25, loss = 0.07839335\n",
      "Validation score: 0.267087\n"
     ]
    },
    {
     "name": "stderr",
     "output_type": "stream",
     "text": [
      "/opt/anaconda3/lib/python3.7/site-packages/sklearn/base.py:420: FutureWarning: The default value of multioutput (not exposed in score method) will change from 'variance_weighted' to 'uniform_average' in 0.23 to keep consistent with 'metrics.r2_score'. To specify the default value manually and avoid the warning, please either call 'metrics.r2_score' directly or make a custom scorer with 'metrics.make_scorer' (the built-in scorer 'r2' uses multioutput='uniform_average').\n",
      "  \"multioutput='uniform_average').\", FutureWarning)\n",
      "/opt/anaconda3/lib/python3.7/site-packages/sklearn/base.py:420: FutureWarning: The default value of multioutput (not exposed in score method) will change from 'variance_weighted' to 'uniform_average' in 0.23 to keep consistent with 'metrics.r2_score'. To specify the default value manually and avoid the warning, please either call 'metrics.r2_score' directly or make a custom scorer with 'metrics.make_scorer' (the built-in scorer 'r2' uses multioutput='uniform_average').\n",
      "  \"multioutput='uniform_average').\", FutureWarning)\n",
      "/opt/anaconda3/lib/python3.7/site-packages/sklearn/base.py:420: FutureWarning: The default value of multioutput (not exposed in score method) will change from 'variance_weighted' to 'uniform_average' in 0.23 to keep consistent with 'metrics.r2_score'. To specify the default value manually and avoid the warning, please either call 'metrics.r2_score' directly or make a custom scorer with 'metrics.make_scorer' (the built-in scorer 'r2' uses multioutput='uniform_average').\n",
      "  \"multioutput='uniform_average').\", FutureWarning)\n",
      "/opt/anaconda3/lib/python3.7/site-packages/sklearn/base.py:420: FutureWarning: The default value of multioutput (not exposed in score method) will change from 'variance_weighted' to 'uniform_average' in 0.23 to keep consistent with 'metrics.r2_score'. To specify the default value manually and avoid the warning, please either call 'metrics.r2_score' directly or make a custom scorer with 'metrics.make_scorer' (the built-in scorer 'r2' uses multioutput='uniform_average').\n",
      "  \"multioutput='uniform_average').\", FutureWarning)\n",
      "/opt/anaconda3/lib/python3.7/site-packages/sklearn/base.py:420: FutureWarning: The default value of multioutput (not exposed in score method) will change from 'variance_weighted' to 'uniform_average' in 0.23 to keep consistent with 'metrics.r2_score'. To specify the default value manually and avoid the warning, please either call 'metrics.r2_score' directly or make a custom scorer with 'metrics.make_scorer' (the built-in scorer 'r2' uses multioutput='uniform_average').\n",
      "  \"multioutput='uniform_average').\", FutureWarning)\n"
     ]
    },
    {
     "name": "stdout",
     "output_type": "stream",
     "text": [
      "Iteration 26, loss = 0.07730976\n",
      "Validation score: 0.259731\n",
      "Iteration 27, loss = 0.07672817\n",
      "Validation score: 0.266935\n",
      "Iteration 28, loss = 0.07577588\n",
      "Validation score: 0.274087\n",
      "Iteration 29, loss = 0.07513588\n",
      "Validation score: 0.282314\n",
      "Iteration 30, loss = 0.07409112\n",
      "Validation score: 0.264824\n",
      "Iteration 31, loss = 0.07380725\n"
     ]
    },
    {
     "name": "stderr",
     "output_type": "stream",
     "text": [
      "/opt/anaconda3/lib/python3.7/site-packages/sklearn/base.py:420: FutureWarning: The default value of multioutput (not exposed in score method) will change from 'variance_weighted' to 'uniform_average' in 0.23 to keep consistent with 'metrics.r2_score'. To specify the default value manually and avoid the warning, please either call 'metrics.r2_score' directly or make a custom scorer with 'metrics.make_scorer' (the built-in scorer 'r2' uses multioutput='uniform_average').\n",
      "  \"multioutput='uniform_average').\", FutureWarning)\n",
      "/opt/anaconda3/lib/python3.7/site-packages/sklearn/base.py:420: FutureWarning: The default value of multioutput (not exposed in score method) will change from 'variance_weighted' to 'uniform_average' in 0.23 to keep consistent with 'metrics.r2_score'. To specify the default value manually and avoid the warning, please either call 'metrics.r2_score' directly or make a custom scorer with 'metrics.make_scorer' (the built-in scorer 'r2' uses multioutput='uniform_average').\n",
      "  \"multioutput='uniform_average').\", FutureWarning)\n",
      "/opt/anaconda3/lib/python3.7/site-packages/sklearn/base.py:420: FutureWarning: The default value of multioutput (not exposed in score method) will change from 'variance_weighted' to 'uniform_average' in 0.23 to keep consistent with 'metrics.r2_score'. To specify the default value manually and avoid the warning, please either call 'metrics.r2_score' directly or make a custom scorer with 'metrics.make_scorer' (the built-in scorer 'r2' uses multioutput='uniform_average').\n",
      "  \"multioutput='uniform_average').\", FutureWarning)\n",
      "/opt/anaconda3/lib/python3.7/site-packages/sklearn/base.py:420: FutureWarning: The default value of multioutput (not exposed in score method) will change from 'variance_weighted' to 'uniform_average' in 0.23 to keep consistent with 'metrics.r2_score'. To specify the default value manually and avoid the warning, please either call 'metrics.r2_score' directly or make a custom scorer with 'metrics.make_scorer' (the built-in scorer 'r2' uses multioutput='uniform_average').\n",
      "  \"multioutput='uniform_average').\", FutureWarning)\n",
      "/opt/anaconda3/lib/python3.7/site-packages/sklearn/base.py:420: FutureWarning: The default value of multioutput (not exposed in score method) will change from 'variance_weighted' to 'uniform_average' in 0.23 to keep consistent with 'metrics.r2_score'. To specify the default value manually and avoid the warning, please either call 'metrics.r2_score' directly or make a custom scorer with 'metrics.make_scorer' (the built-in scorer 'r2' uses multioutput='uniform_average').\n",
      "  \"multioutput='uniform_average').\", FutureWarning)\n",
      "/opt/anaconda3/lib/python3.7/site-packages/sklearn/base.py:420: FutureWarning: The default value of multioutput (not exposed in score method) will change from 'variance_weighted' to 'uniform_average' in 0.23 to keep consistent with 'metrics.r2_score'. To specify the default value manually and avoid the warning, please either call 'metrics.r2_score' directly or make a custom scorer with 'metrics.make_scorer' (the built-in scorer 'r2' uses multioutput='uniform_average').\n",
      "  \"multioutput='uniform_average').\", FutureWarning)\n"
     ]
    },
    {
     "name": "stdout",
     "output_type": "stream",
     "text": [
      "Validation score: 0.262744\n",
      "Iteration 32, loss = 0.07298672\n",
      "Validation score: 0.288190\n",
      "Iteration 33, loss = 0.07199430\n",
      "Validation score: 0.294215\n",
      "Iteration 34, loss = 0.07184224\n",
      "Validation score: 0.293445\n",
      "Iteration 35, loss = 0.07135112\n",
      "Validation score: 0.302991\n"
     ]
    },
    {
     "name": "stderr",
     "output_type": "stream",
     "text": [
      "/opt/anaconda3/lib/python3.7/site-packages/sklearn/base.py:420: FutureWarning: The default value of multioutput (not exposed in score method) will change from 'variance_weighted' to 'uniform_average' in 0.23 to keep consistent with 'metrics.r2_score'. To specify the default value manually and avoid the warning, please either call 'metrics.r2_score' directly or make a custom scorer with 'metrics.make_scorer' (the built-in scorer 'r2' uses multioutput='uniform_average').\n",
      "  \"multioutput='uniform_average').\", FutureWarning)\n",
      "/opt/anaconda3/lib/python3.7/site-packages/sklearn/base.py:420: FutureWarning: The default value of multioutput (not exposed in score method) will change from 'variance_weighted' to 'uniform_average' in 0.23 to keep consistent with 'metrics.r2_score'. To specify the default value manually and avoid the warning, please either call 'metrics.r2_score' directly or make a custom scorer with 'metrics.make_scorer' (the built-in scorer 'r2' uses multioutput='uniform_average').\n",
      "  \"multioutput='uniform_average').\", FutureWarning)\n",
      "/opt/anaconda3/lib/python3.7/site-packages/sklearn/base.py:420: FutureWarning: The default value of multioutput (not exposed in score method) will change from 'variance_weighted' to 'uniform_average' in 0.23 to keep consistent with 'metrics.r2_score'. To specify the default value manually and avoid the warning, please either call 'metrics.r2_score' directly or make a custom scorer with 'metrics.make_scorer' (the built-in scorer 'r2' uses multioutput='uniform_average').\n",
      "  \"multioutput='uniform_average').\", FutureWarning)\n",
      "/opt/anaconda3/lib/python3.7/site-packages/sklearn/base.py:420: FutureWarning: The default value of multioutput (not exposed in score method) will change from 'variance_weighted' to 'uniform_average' in 0.23 to keep consistent with 'metrics.r2_score'. To specify the default value manually and avoid the warning, please either call 'metrics.r2_score' directly or make a custom scorer with 'metrics.make_scorer' (the built-in scorer 'r2' uses multioutput='uniform_average').\n",
      "  \"multioutput='uniform_average').\", FutureWarning)\n",
      "/opt/anaconda3/lib/python3.7/site-packages/sklearn/base.py:420: FutureWarning: The default value of multioutput (not exposed in score method) will change from 'variance_weighted' to 'uniform_average' in 0.23 to keep consistent with 'metrics.r2_score'. To specify the default value manually and avoid the warning, please either call 'metrics.r2_score' directly or make a custom scorer with 'metrics.make_scorer' (the built-in scorer 'r2' uses multioutput='uniform_average').\n",
      "  \"multioutput='uniform_average').\", FutureWarning)\n"
     ]
    },
    {
     "name": "stdout",
     "output_type": "stream",
     "text": [
      "Iteration 36, loss = 0.07064779\n",
      "Validation score: 0.281247\n",
      "Iteration 37, loss = 0.06954653\n",
      "Validation score: 0.286971\n",
      "Iteration 38, loss = 0.06847440\n",
      "Validation score: 0.282231\n",
      "Iteration 39, loss = 0.06788804\n",
      "Validation score: 0.304015\n",
      "Iteration 40, loss = 0.06698671\n",
      "Validation score: 0.305866\n",
      "Iteration 41, loss = 0.06660080\n",
      "Validation score: 0.299684\n",
      "Iteration 42, loss = 0.06599237\n"
     ]
    },
    {
     "name": "stderr",
     "output_type": "stream",
     "text": [
      "/opt/anaconda3/lib/python3.7/site-packages/sklearn/base.py:420: FutureWarning: The default value of multioutput (not exposed in score method) will change from 'variance_weighted' to 'uniform_average' in 0.23 to keep consistent with 'metrics.r2_score'. To specify the default value manually and avoid the warning, please either call 'metrics.r2_score' directly or make a custom scorer with 'metrics.make_scorer' (the built-in scorer 'r2' uses multioutput='uniform_average').\n",
      "  \"multioutput='uniform_average').\", FutureWarning)\n",
      "/opt/anaconda3/lib/python3.7/site-packages/sklearn/base.py:420: FutureWarning: The default value of multioutput (not exposed in score method) will change from 'variance_weighted' to 'uniform_average' in 0.23 to keep consistent with 'metrics.r2_score'. To specify the default value manually and avoid the warning, please either call 'metrics.r2_score' directly or make a custom scorer with 'metrics.make_scorer' (the built-in scorer 'r2' uses multioutput='uniform_average').\n",
      "  \"multioutput='uniform_average').\", FutureWarning)\n",
      "/opt/anaconda3/lib/python3.7/site-packages/sklearn/base.py:420: FutureWarning: The default value of multioutput (not exposed in score method) will change from 'variance_weighted' to 'uniform_average' in 0.23 to keep consistent with 'metrics.r2_score'. To specify the default value manually and avoid the warning, please either call 'metrics.r2_score' directly or make a custom scorer with 'metrics.make_scorer' (the built-in scorer 'r2' uses multioutput='uniform_average').\n",
      "  \"multioutput='uniform_average').\", FutureWarning)\n",
      "/opt/anaconda3/lib/python3.7/site-packages/sklearn/base.py:420: FutureWarning: The default value of multioutput (not exposed in score method) will change from 'variance_weighted' to 'uniform_average' in 0.23 to keep consistent with 'metrics.r2_score'. To specify the default value manually and avoid the warning, please either call 'metrics.r2_score' directly or make a custom scorer with 'metrics.make_scorer' (the built-in scorer 'r2' uses multioutput='uniform_average').\n",
      "  \"multioutput='uniform_average').\", FutureWarning)\n",
      "/opt/anaconda3/lib/python3.7/site-packages/sklearn/base.py:420: FutureWarning: The default value of multioutput (not exposed in score method) will change from 'variance_weighted' to 'uniform_average' in 0.23 to keep consistent with 'metrics.r2_score'. To specify the default value manually and avoid the warning, please either call 'metrics.r2_score' directly or make a custom scorer with 'metrics.make_scorer' (the built-in scorer 'r2' uses multioutput='uniform_average').\n",
      "  \"multioutput='uniform_average').\", FutureWarning)\n",
      "/opt/anaconda3/lib/python3.7/site-packages/sklearn/base.py:420: FutureWarning: The default value of multioutput (not exposed in score method) will change from 'variance_weighted' to 'uniform_average' in 0.23 to keep consistent with 'metrics.r2_score'. To specify the default value manually and avoid the warning, please either call 'metrics.r2_score' directly or make a custom scorer with 'metrics.make_scorer' (the built-in scorer 'r2' uses multioutput='uniform_average').\n",
      "  \"multioutput='uniform_average').\", FutureWarning)\n"
     ]
    },
    {
     "name": "stdout",
     "output_type": "stream",
     "text": [
      "Validation score: 0.290738\n",
      "Iteration 43, loss = 0.06575204\n",
      "Validation score: 0.312425\n",
      "Iteration 44, loss = 0.06473614\n",
      "Validation score: 0.307761\n"
     ]
    },
    {
     "name": "stderr",
     "output_type": "stream",
     "text": [
      "/opt/anaconda3/lib/python3.7/site-packages/sklearn/base.py:420: FutureWarning: The default value of multioutput (not exposed in score method) will change from 'variance_weighted' to 'uniform_average' in 0.23 to keep consistent with 'metrics.r2_score'. To specify the default value manually and avoid the warning, please either call 'metrics.r2_score' directly or make a custom scorer with 'metrics.make_scorer' (the built-in scorer 'r2' uses multioutput='uniform_average').\n",
      "  \"multioutput='uniform_average').\", FutureWarning)\n",
      "/opt/anaconda3/lib/python3.7/site-packages/sklearn/base.py:420: FutureWarning: The default value of multioutput (not exposed in score method) will change from 'variance_weighted' to 'uniform_average' in 0.23 to keep consistent with 'metrics.r2_score'. To specify the default value manually and avoid the warning, please either call 'metrics.r2_score' directly or make a custom scorer with 'metrics.make_scorer' (the built-in scorer 'r2' uses multioutput='uniform_average').\n",
      "  \"multioutput='uniform_average').\", FutureWarning)\n",
      "/opt/anaconda3/lib/python3.7/site-packages/sklearn/base.py:420: FutureWarning: The default value of multioutput (not exposed in score method) will change from 'variance_weighted' to 'uniform_average' in 0.23 to keep consistent with 'metrics.r2_score'. To specify the default value manually and avoid the warning, please either call 'metrics.r2_score' directly or make a custom scorer with 'metrics.make_scorer' (the built-in scorer 'r2' uses multioutput='uniform_average').\n",
      "  \"multioutput='uniform_average').\", FutureWarning)\n"
     ]
    },
    {
     "name": "stdout",
     "output_type": "stream",
     "text": [
      "Iteration 45, loss = 0.06430979\n",
      "Validation score: 0.307449\n",
      "Iteration 46, loss = 0.06384054\n",
      "Validation score: 0.319460\n",
      "Iteration 47, loss = 0.06282291\n",
      "Validation score: 0.316307\n",
      "Iteration 48, loss = 0.06235000\n",
      "Validation score: 0.317085\n",
      "Iteration 49, loss = 0.06206241\n",
      "Validation score: 0.332412\n",
      "Iteration 50, loss = 0.06114929\n",
      "Validation score: 0.333973\n"
     ]
    },
    {
     "name": "stderr",
     "output_type": "stream",
     "text": [
      "/opt/anaconda3/lib/python3.7/site-packages/sklearn/base.py:420: FutureWarning: The default value of multioutput (not exposed in score method) will change from 'variance_weighted' to 'uniform_average' in 0.23 to keep consistent with 'metrics.r2_score'. To specify the default value manually and avoid the warning, please either call 'metrics.r2_score' directly or make a custom scorer with 'metrics.make_scorer' (the built-in scorer 'r2' uses multioutput='uniform_average').\n",
      "  \"multioutput='uniform_average').\", FutureWarning)\n",
      "/opt/anaconda3/lib/python3.7/site-packages/sklearn/base.py:420: FutureWarning: The default value of multioutput (not exposed in score method) will change from 'variance_weighted' to 'uniform_average' in 0.23 to keep consistent with 'metrics.r2_score'. To specify the default value manually and avoid the warning, please either call 'metrics.r2_score' directly or make a custom scorer with 'metrics.make_scorer' (the built-in scorer 'r2' uses multioutput='uniform_average').\n",
      "  \"multioutput='uniform_average').\", FutureWarning)\n",
      "/opt/anaconda3/lib/python3.7/site-packages/sklearn/base.py:420: FutureWarning: The default value of multioutput (not exposed in score method) will change from 'variance_weighted' to 'uniform_average' in 0.23 to keep consistent with 'metrics.r2_score'. To specify the default value manually and avoid the warning, please either call 'metrics.r2_score' directly or make a custom scorer with 'metrics.make_scorer' (the built-in scorer 'r2' uses multioutput='uniform_average').\n",
      "  \"multioutput='uniform_average').\", FutureWarning)\n",
      "/opt/anaconda3/lib/python3.7/site-packages/sklearn/base.py:420: FutureWarning: The default value of multioutput (not exposed in score method) will change from 'variance_weighted' to 'uniform_average' in 0.23 to keep consistent with 'metrics.r2_score'. To specify the default value manually and avoid the warning, please either call 'metrics.r2_score' directly or make a custom scorer with 'metrics.make_scorer' (the built-in scorer 'r2' uses multioutput='uniform_average').\n",
      "  \"multioutput='uniform_average').\", FutureWarning)\n",
      "/opt/anaconda3/lib/python3.7/site-packages/sklearn/base.py:420: FutureWarning: The default value of multioutput (not exposed in score method) will change from 'variance_weighted' to 'uniform_average' in 0.23 to keep consistent with 'metrics.r2_score'. To specify the default value manually and avoid the warning, please either call 'metrics.r2_score' directly or make a custom scorer with 'metrics.make_scorer' (the built-in scorer 'r2' uses multioutput='uniform_average').\n",
      "  \"multioutput='uniform_average').\", FutureWarning)\n",
      "/opt/anaconda3/lib/python3.7/site-packages/sklearn/base.py:420: FutureWarning: The default value of multioutput (not exposed in score method) will change from 'variance_weighted' to 'uniform_average' in 0.23 to keep consistent with 'metrics.r2_score'. To specify the default value manually and avoid the warning, please either call 'metrics.r2_score' directly or make a custom scorer with 'metrics.make_scorer' (the built-in scorer 'r2' uses multioutput='uniform_average').\n",
      "  \"multioutput='uniform_average').\", FutureWarning)\n"
     ]
    },
    {
     "name": "stdout",
     "output_type": "stream",
     "text": [
      "Iteration 51, loss = 0.06099537\n",
      "Validation score: 0.338707\n",
      "Iteration 52, loss = 0.06012585\n",
      "Validation score: 0.322920\n",
      "Iteration 53, loss = 0.05989936\n",
      "Validation score: 0.340596\n",
      "Iteration 54, loss = 0.05953338\n",
      "Validation score: 0.341467\n",
      "Iteration 55, loss = 0.05907412\n",
      "Validation score: 0.347438\n",
      "Iteration 56, loss = 0.05858564\n",
      "Validation score: 0.342724\n"
     ]
    },
    {
     "name": "stderr",
     "output_type": "stream",
     "text": [
      "/opt/anaconda3/lib/python3.7/site-packages/sklearn/base.py:420: FutureWarning: The default value of multioutput (not exposed in score method) will change from 'variance_weighted' to 'uniform_average' in 0.23 to keep consistent with 'metrics.r2_score'. To specify the default value manually and avoid the warning, please either call 'metrics.r2_score' directly or make a custom scorer with 'metrics.make_scorer' (the built-in scorer 'r2' uses multioutput='uniform_average').\n",
      "  \"multioutput='uniform_average').\", FutureWarning)\n",
      "/opt/anaconda3/lib/python3.7/site-packages/sklearn/base.py:420: FutureWarning: The default value of multioutput (not exposed in score method) will change from 'variance_weighted' to 'uniform_average' in 0.23 to keep consistent with 'metrics.r2_score'. To specify the default value manually and avoid the warning, please either call 'metrics.r2_score' directly or make a custom scorer with 'metrics.make_scorer' (the built-in scorer 'r2' uses multioutput='uniform_average').\n",
      "  \"multioutput='uniform_average').\", FutureWarning)\n",
      "/opt/anaconda3/lib/python3.7/site-packages/sklearn/base.py:420: FutureWarning: The default value of multioutput (not exposed in score method) will change from 'variance_weighted' to 'uniform_average' in 0.23 to keep consistent with 'metrics.r2_score'. To specify the default value manually and avoid the warning, please either call 'metrics.r2_score' directly or make a custom scorer with 'metrics.make_scorer' (the built-in scorer 'r2' uses multioutput='uniform_average').\n",
      "  \"multioutput='uniform_average').\", FutureWarning)\n",
      "/opt/anaconda3/lib/python3.7/site-packages/sklearn/base.py:420: FutureWarning: The default value of multioutput (not exposed in score method) will change from 'variance_weighted' to 'uniform_average' in 0.23 to keep consistent with 'metrics.r2_score'. To specify the default value manually and avoid the warning, please either call 'metrics.r2_score' directly or make a custom scorer with 'metrics.make_scorer' (the built-in scorer 'r2' uses multioutput='uniform_average').\n",
      "  \"multioutput='uniform_average').\", FutureWarning)\n",
      "/opt/anaconda3/lib/python3.7/site-packages/sklearn/base.py:420: FutureWarning: The default value of multioutput (not exposed in score method) will change from 'variance_weighted' to 'uniform_average' in 0.23 to keep consistent with 'metrics.r2_score'. To specify the default value manually and avoid the warning, please either call 'metrics.r2_score' directly or make a custom scorer with 'metrics.make_scorer' (the built-in scorer 'r2' uses multioutput='uniform_average').\n",
      "  \"multioutput='uniform_average').\", FutureWarning)\n",
      "/opt/anaconda3/lib/python3.7/site-packages/sklearn/base.py:420: FutureWarning: The default value of multioutput (not exposed in score method) will change from 'variance_weighted' to 'uniform_average' in 0.23 to keep consistent with 'metrics.r2_score'. To specify the default value manually and avoid the warning, please either call 'metrics.r2_score' directly or make a custom scorer with 'metrics.make_scorer' (the built-in scorer 'r2' uses multioutput='uniform_average').\n",
      "  \"multioutput='uniform_average').\", FutureWarning)\n"
     ]
    },
    {
     "name": "stdout",
     "output_type": "stream",
     "text": [
      "Iteration 57, loss = 0.05804212\n",
      "Validation score: 0.339037\n",
      "Iteration 58, loss = 0.05822598\n",
      "Validation score: 0.339404\n",
      "Iteration 59, loss = 0.05718432\n",
      "Validation score: 0.329521\n",
      "Iteration 60, loss = 0.05704001\n",
      "Validation score: 0.345836\n",
      "Iteration 61, loss = 0.05615865\n",
      "Validation score: 0.354421\n",
      "Iteration 62, loss = 0.05567425\n",
      "Validation score: 0.353899\n"
     ]
    },
    {
     "name": "stderr",
     "output_type": "stream",
     "text": [
      "/opt/anaconda3/lib/python3.7/site-packages/sklearn/base.py:420: FutureWarning: The default value of multioutput (not exposed in score method) will change from 'variance_weighted' to 'uniform_average' in 0.23 to keep consistent with 'metrics.r2_score'. To specify the default value manually and avoid the warning, please either call 'metrics.r2_score' directly or make a custom scorer with 'metrics.make_scorer' (the built-in scorer 'r2' uses multioutput='uniform_average').\n",
      "  \"multioutput='uniform_average').\", FutureWarning)\n",
      "/opt/anaconda3/lib/python3.7/site-packages/sklearn/base.py:420: FutureWarning: The default value of multioutput (not exposed in score method) will change from 'variance_weighted' to 'uniform_average' in 0.23 to keep consistent with 'metrics.r2_score'. To specify the default value manually and avoid the warning, please either call 'metrics.r2_score' directly or make a custom scorer with 'metrics.make_scorer' (the built-in scorer 'r2' uses multioutput='uniform_average').\n",
      "  \"multioutput='uniform_average').\", FutureWarning)\n",
      "/opt/anaconda3/lib/python3.7/site-packages/sklearn/base.py:420: FutureWarning: The default value of multioutput (not exposed in score method) will change from 'variance_weighted' to 'uniform_average' in 0.23 to keep consistent with 'metrics.r2_score'. To specify the default value manually and avoid the warning, please either call 'metrics.r2_score' directly or make a custom scorer with 'metrics.make_scorer' (the built-in scorer 'r2' uses multioutput='uniform_average').\n",
      "  \"multioutput='uniform_average').\", FutureWarning)\n",
      "/opt/anaconda3/lib/python3.7/site-packages/sklearn/base.py:420: FutureWarning: The default value of multioutput (not exposed in score method) will change from 'variance_weighted' to 'uniform_average' in 0.23 to keep consistent with 'metrics.r2_score'. To specify the default value manually and avoid the warning, please either call 'metrics.r2_score' directly or make a custom scorer with 'metrics.make_scorer' (the built-in scorer 'r2' uses multioutput='uniform_average').\n",
      "  \"multioutput='uniform_average').\", FutureWarning)\n",
      "/opt/anaconda3/lib/python3.7/site-packages/sklearn/base.py:420: FutureWarning: The default value of multioutput (not exposed in score method) will change from 'variance_weighted' to 'uniform_average' in 0.23 to keep consistent with 'metrics.r2_score'. To specify the default value manually and avoid the warning, please either call 'metrics.r2_score' directly or make a custom scorer with 'metrics.make_scorer' (the built-in scorer 'r2' uses multioutput='uniform_average').\n",
      "  \"multioutput='uniform_average').\", FutureWarning)\n",
      "/opt/anaconda3/lib/python3.7/site-packages/sklearn/base.py:420: FutureWarning: The default value of multioutput (not exposed in score method) will change from 'variance_weighted' to 'uniform_average' in 0.23 to keep consistent with 'metrics.r2_score'. To specify the default value manually and avoid the warning, please either call 'metrics.r2_score' directly or make a custom scorer with 'metrics.make_scorer' (the built-in scorer 'r2' uses multioutput='uniform_average').\n",
      "  \"multioutput='uniform_average').\", FutureWarning)\n"
     ]
    },
    {
     "name": "stdout",
     "output_type": "stream",
     "text": [
      "Iteration 63, loss = 0.05504894\n",
      "Validation score: 0.352597\n",
      "Iteration 64, loss = 0.05465402\n",
      "Validation score: 0.357121\n",
      "Iteration 65, loss = 0.05434628\n",
      "Validation score: 0.366190\n",
      "Iteration 66, loss = 0.05417749\n",
      "Validation score: 0.363722\n",
      "Iteration 67, loss = 0.05407190\n",
      "Validation score: 0.363768\n",
      "Iteration 68, loss = 0.05351078\n",
      "Validation score: 0.360406\n"
     ]
    },
    {
     "name": "stderr",
     "output_type": "stream",
     "text": [
      "/opt/anaconda3/lib/python3.7/site-packages/sklearn/base.py:420: FutureWarning: The default value of multioutput (not exposed in score method) will change from 'variance_weighted' to 'uniform_average' in 0.23 to keep consistent with 'metrics.r2_score'. To specify the default value manually and avoid the warning, please either call 'metrics.r2_score' directly or make a custom scorer with 'metrics.make_scorer' (the built-in scorer 'r2' uses multioutput='uniform_average').\n",
      "  \"multioutput='uniform_average').\", FutureWarning)\n",
      "/opt/anaconda3/lib/python3.7/site-packages/sklearn/base.py:420: FutureWarning: The default value of multioutput (not exposed in score method) will change from 'variance_weighted' to 'uniform_average' in 0.23 to keep consistent with 'metrics.r2_score'. To specify the default value manually and avoid the warning, please either call 'metrics.r2_score' directly or make a custom scorer with 'metrics.make_scorer' (the built-in scorer 'r2' uses multioutput='uniform_average').\n",
      "  \"multioutput='uniform_average').\", FutureWarning)\n",
      "/opt/anaconda3/lib/python3.7/site-packages/sklearn/base.py:420: FutureWarning: The default value of multioutput (not exposed in score method) will change from 'variance_weighted' to 'uniform_average' in 0.23 to keep consistent with 'metrics.r2_score'. To specify the default value manually and avoid the warning, please either call 'metrics.r2_score' directly or make a custom scorer with 'metrics.make_scorer' (the built-in scorer 'r2' uses multioutput='uniform_average').\n",
      "  \"multioutput='uniform_average').\", FutureWarning)\n",
      "/opt/anaconda3/lib/python3.7/site-packages/sklearn/base.py:420: FutureWarning: The default value of multioutput (not exposed in score method) will change from 'variance_weighted' to 'uniform_average' in 0.23 to keep consistent with 'metrics.r2_score'. To specify the default value manually and avoid the warning, please either call 'metrics.r2_score' directly or make a custom scorer with 'metrics.make_scorer' (the built-in scorer 'r2' uses multioutput='uniform_average').\n",
      "  \"multioutput='uniform_average').\", FutureWarning)\n",
      "/opt/anaconda3/lib/python3.7/site-packages/sklearn/base.py:420: FutureWarning: The default value of multioutput (not exposed in score method) will change from 'variance_weighted' to 'uniform_average' in 0.23 to keep consistent with 'metrics.r2_score'. To specify the default value manually and avoid the warning, please either call 'metrics.r2_score' directly or make a custom scorer with 'metrics.make_scorer' (the built-in scorer 'r2' uses multioutput='uniform_average').\n",
      "  \"multioutput='uniform_average').\", FutureWarning)\n",
      "/opt/anaconda3/lib/python3.7/site-packages/sklearn/base.py:420: FutureWarning: The default value of multioutput (not exposed in score method) will change from 'variance_weighted' to 'uniform_average' in 0.23 to keep consistent with 'metrics.r2_score'. To specify the default value manually and avoid the warning, please either call 'metrics.r2_score' directly or make a custom scorer with 'metrics.make_scorer' (the built-in scorer 'r2' uses multioutput='uniform_average').\n",
      "  \"multioutput='uniform_average').\", FutureWarning)\n",
      "/opt/anaconda3/lib/python3.7/site-packages/sklearn/base.py:420: FutureWarning: The default value of multioutput (not exposed in score method) will change from 'variance_weighted' to 'uniform_average' in 0.23 to keep consistent with 'metrics.r2_score'. To specify the default value manually and avoid the warning, please either call 'metrics.r2_score' directly or make a custom scorer with 'metrics.make_scorer' (the built-in scorer 'r2' uses multioutput='uniform_average').\n",
      "  \"multioutput='uniform_average').\", FutureWarning)\n"
     ]
    },
    {
     "name": "stdout",
     "output_type": "stream",
     "text": [
      "Iteration 69, loss = 0.05295535\n",
      "Validation score: 0.369074\n",
      "Iteration 70, loss = 0.05287263\n",
      "Validation score: 0.366533\n",
      "Iteration 71, loss = 0.05221188\n",
      "Validation score: 0.364080\n",
      "Iteration 72, loss = 0.05178759\n",
      "Validation score: 0.369841\n",
      "Iteration 73, loss = 0.05145563\n",
      "Validation score: 0.375097\n",
      "Iteration 74, loss = 0.05159714\n",
      "Validation score: 0.370378\n",
      "Iteration 75, loss = 0.05048739\n"
     ]
    },
    {
     "name": "stderr",
     "output_type": "stream",
     "text": [
      "/opt/anaconda3/lib/python3.7/site-packages/sklearn/base.py:420: FutureWarning: The default value of multioutput (not exposed in score method) will change from 'variance_weighted' to 'uniform_average' in 0.23 to keep consistent with 'metrics.r2_score'. To specify the default value manually and avoid the warning, please either call 'metrics.r2_score' directly or make a custom scorer with 'metrics.make_scorer' (the built-in scorer 'r2' uses multioutput='uniform_average').\n",
      "  \"multioutput='uniform_average').\", FutureWarning)\n",
      "/opt/anaconda3/lib/python3.7/site-packages/sklearn/base.py:420: FutureWarning: The default value of multioutput (not exposed in score method) will change from 'variance_weighted' to 'uniform_average' in 0.23 to keep consistent with 'metrics.r2_score'. To specify the default value manually and avoid the warning, please either call 'metrics.r2_score' directly or make a custom scorer with 'metrics.make_scorer' (the built-in scorer 'r2' uses multioutput='uniform_average').\n",
      "  \"multioutput='uniform_average').\", FutureWarning)\n",
      "/opt/anaconda3/lib/python3.7/site-packages/sklearn/base.py:420: FutureWarning: The default value of multioutput (not exposed in score method) will change from 'variance_weighted' to 'uniform_average' in 0.23 to keep consistent with 'metrics.r2_score'. To specify the default value manually and avoid the warning, please either call 'metrics.r2_score' directly or make a custom scorer with 'metrics.make_scorer' (the built-in scorer 'r2' uses multioutput='uniform_average').\n",
      "  \"multioutput='uniform_average').\", FutureWarning)\n",
      "/opt/anaconda3/lib/python3.7/site-packages/sklearn/base.py:420: FutureWarning: The default value of multioutput (not exposed in score method) will change from 'variance_weighted' to 'uniform_average' in 0.23 to keep consistent with 'metrics.r2_score'. To specify the default value manually and avoid the warning, please either call 'metrics.r2_score' directly or make a custom scorer with 'metrics.make_scorer' (the built-in scorer 'r2' uses multioutput='uniform_average').\n",
      "  \"multioutput='uniform_average').\", FutureWarning)\n",
      "/opt/anaconda3/lib/python3.7/site-packages/sklearn/base.py:420: FutureWarning: The default value of multioutput (not exposed in score method) will change from 'variance_weighted' to 'uniform_average' in 0.23 to keep consistent with 'metrics.r2_score'. To specify the default value manually and avoid the warning, please either call 'metrics.r2_score' directly or make a custom scorer with 'metrics.make_scorer' (the built-in scorer 'r2' uses multioutput='uniform_average').\n",
      "  \"multioutput='uniform_average').\", FutureWarning)\n",
      "/opt/anaconda3/lib/python3.7/site-packages/sklearn/base.py:420: FutureWarning: The default value of multioutput (not exposed in score method) will change from 'variance_weighted' to 'uniform_average' in 0.23 to keep consistent with 'metrics.r2_score'. To specify the default value manually and avoid the warning, please either call 'metrics.r2_score' directly or make a custom scorer with 'metrics.make_scorer' (the built-in scorer 'r2' uses multioutput='uniform_average').\n",
      "  \"multioutput='uniform_average').\", FutureWarning)\n"
     ]
    },
    {
     "name": "stdout",
     "output_type": "stream",
     "text": [
      "Validation score: 0.377354\n",
      "Iteration 76, loss = 0.05050213\n",
      "Validation score: 0.371045\n",
      "Iteration 77, loss = 0.05018775\n",
      "Validation score: 0.369733\n",
      "Iteration 78, loss = 0.04982281\n",
      "Validation score: 0.376873\n",
      "Iteration 79, loss = 0.04915458\n",
      "Validation score: 0.375031\n",
      "Iteration 80, loss = 0.04884871\n"
     ]
    },
    {
     "name": "stderr",
     "output_type": "stream",
     "text": [
      "/opt/anaconda3/lib/python3.7/site-packages/sklearn/base.py:420: FutureWarning: The default value of multioutput (not exposed in score method) will change from 'variance_weighted' to 'uniform_average' in 0.23 to keep consistent with 'metrics.r2_score'. To specify the default value manually and avoid the warning, please either call 'metrics.r2_score' directly or make a custom scorer with 'metrics.make_scorer' (the built-in scorer 'r2' uses multioutput='uniform_average').\n",
      "  \"multioutput='uniform_average').\", FutureWarning)\n",
      "/opt/anaconda3/lib/python3.7/site-packages/sklearn/base.py:420: FutureWarning: The default value of multioutput (not exposed in score method) will change from 'variance_weighted' to 'uniform_average' in 0.23 to keep consistent with 'metrics.r2_score'. To specify the default value manually and avoid the warning, please either call 'metrics.r2_score' directly or make a custom scorer with 'metrics.make_scorer' (the built-in scorer 'r2' uses multioutput='uniform_average').\n",
      "  \"multioutput='uniform_average').\", FutureWarning)\n",
      "/opt/anaconda3/lib/python3.7/site-packages/sklearn/base.py:420: FutureWarning: The default value of multioutput (not exposed in score method) will change from 'variance_weighted' to 'uniform_average' in 0.23 to keep consistent with 'metrics.r2_score'. To specify the default value manually and avoid the warning, please either call 'metrics.r2_score' directly or make a custom scorer with 'metrics.make_scorer' (the built-in scorer 'r2' uses multioutput='uniform_average').\n",
      "  \"multioutput='uniform_average').\", FutureWarning)\n",
      "/opt/anaconda3/lib/python3.7/site-packages/sklearn/base.py:420: FutureWarning: The default value of multioutput (not exposed in score method) will change from 'variance_weighted' to 'uniform_average' in 0.23 to keep consistent with 'metrics.r2_score'. To specify the default value manually and avoid the warning, please either call 'metrics.r2_score' directly or make a custom scorer with 'metrics.make_scorer' (the built-in scorer 'r2' uses multioutput='uniform_average').\n",
      "  \"multioutput='uniform_average').\", FutureWarning)\n",
      "/opt/anaconda3/lib/python3.7/site-packages/sklearn/base.py:420: FutureWarning: The default value of multioutput (not exposed in score method) will change from 'variance_weighted' to 'uniform_average' in 0.23 to keep consistent with 'metrics.r2_score'. To specify the default value manually and avoid the warning, please either call 'metrics.r2_score' directly or make a custom scorer with 'metrics.make_scorer' (the built-in scorer 'r2' uses multioutput='uniform_average').\n",
      "  \"multioutput='uniform_average').\", FutureWarning)\n"
     ]
    },
    {
     "name": "stdout",
     "output_type": "stream",
     "text": [
      "Validation score: 0.376523\n",
      "Iteration 81, loss = 0.04854354\n",
      "Validation score: 0.381147\n",
      "Iteration 82, loss = 0.04881931\n",
      "Validation score: 0.379483\n",
      "Iteration 83, loss = 0.04796348\n",
      "Validation score: 0.364340\n",
      "Iteration 84, loss = 0.04757353\n",
      "Validation score: 0.373447\n"
     ]
    },
    {
     "name": "stderr",
     "output_type": "stream",
     "text": [
      "/opt/anaconda3/lib/python3.7/site-packages/sklearn/base.py:420: FutureWarning: The default value of multioutput (not exposed in score method) will change from 'variance_weighted' to 'uniform_average' in 0.23 to keep consistent with 'metrics.r2_score'. To specify the default value manually and avoid the warning, please either call 'metrics.r2_score' directly or make a custom scorer with 'metrics.make_scorer' (the built-in scorer 'r2' uses multioutput='uniform_average').\n",
      "  \"multioutput='uniform_average').\", FutureWarning)\n",
      "/opt/anaconda3/lib/python3.7/site-packages/sklearn/base.py:420: FutureWarning: The default value of multioutput (not exposed in score method) will change from 'variance_weighted' to 'uniform_average' in 0.23 to keep consistent with 'metrics.r2_score'. To specify the default value manually and avoid the warning, please either call 'metrics.r2_score' directly or make a custom scorer with 'metrics.make_scorer' (the built-in scorer 'r2' uses multioutput='uniform_average').\n",
      "  \"multioutput='uniform_average').\", FutureWarning)\n",
      "/opt/anaconda3/lib/python3.7/site-packages/sklearn/base.py:420: FutureWarning: The default value of multioutput (not exposed in score method) will change from 'variance_weighted' to 'uniform_average' in 0.23 to keep consistent with 'metrics.r2_score'. To specify the default value manually and avoid the warning, please either call 'metrics.r2_score' directly or make a custom scorer with 'metrics.make_scorer' (the built-in scorer 'r2' uses multioutput='uniform_average').\n",
      "  \"multioutput='uniform_average').\", FutureWarning)\n",
      "/opt/anaconda3/lib/python3.7/site-packages/sklearn/base.py:420: FutureWarning: The default value of multioutput (not exposed in score method) will change from 'variance_weighted' to 'uniform_average' in 0.23 to keep consistent with 'metrics.r2_score'. To specify the default value manually and avoid the warning, please either call 'metrics.r2_score' directly or make a custom scorer with 'metrics.make_scorer' (the built-in scorer 'r2' uses multioutput='uniform_average').\n",
      "  \"multioutput='uniform_average').\", FutureWarning)\n",
      "/opt/anaconda3/lib/python3.7/site-packages/sklearn/base.py:420: FutureWarning: The default value of multioutput (not exposed in score method) will change from 'variance_weighted' to 'uniform_average' in 0.23 to keep consistent with 'metrics.r2_score'. To specify the default value manually and avoid the warning, please either call 'metrics.r2_score' directly or make a custom scorer with 'metrics.make_scorer' (the built-in scorer 'r2' uses multioutput='uniform_average').\n",
      "  \"multioutput='uniform_average').\", FutureWarning)\n"
     ]
    },
    {
     "name": "stdout",
     "output_type": "stream",
     "text": [
      "Iteration 85, loss = 0.04743445\n",
      "Validation score: 0.387408\n",
      "Iteration 86, loss = 0.04717252\n",
      "Validation score: 0.382846\n",
      "Iteration 87, loss = 0.04716509\n",
      "Validation score: 0.382742\n",
      "Iteration 88, loss = 0.04681868\n",
      "Validation score: 0.387852\n",
      "Iteration 89, loss = 0.04620933\n",
      "Validation score: 0.382632\n",
      "Iteration 90, loss = 0.04661650\n",
      "Validation score: 0.384839\n"
     ]
    },
    {
     "name": "stderr",
     "output_type": "stream",
     "text": [
      "/opt/anaconda3/lib/python3.7/site-packages/sklearn/base.py:420: FutureWarning: The default value of multioutput (not exposed in score method) will change from 'variance_weighted' to 'uniform_average' in 0.23 to keep consistent with 'metrics.r2_score'. To specify the default value manually and avoid the warning, please either call 'metrics.r2_score' directly or make a custom scorer with 'metrics.make_scorer' (the built-in scorer 'r2' uses multioutput='uniform_average').\n",
      "  \"multioutput='uniform_average').\", FutureWarning)\n",
      "/opt/anaconda3/lib/python3.7/site-packages/sklearn/base.py:420: FutureWarning: The default value of multioutput (not exposed in score method) will change from 'variance_weighted' to 'uniform_average' in 0.23 to keep consistent with 'metrics.r2_score'. To specify the default value manually and avoid the warning, please either call 'metrics.r2_score' directly or make a custom scorer with 'metrics.make_scorer' (the built-in scorer 'r2' uses multioutput='uniform_average').\n",
      "  \"multioutput='uniform_average').\", FutureWarning)\n",
      "/opt/anaconda3/lib/python3.7/site-packages/sklearn/base.py:420: FutureWarning: The default value of multioutput (not exposed in score method) will change from 'variance_weighted' to 'uniform_average' in 0.23 to keep consistent with 'metrics.r2_score'. To specify the default value manually and avoid the warning, please either call 'metrics.r2_score' directly or make a custom scorer with 'metrics.make_scorer' (the built-in scorer 'r2' uses multioutput='uniform_average').\n",
      "  \"multioutput='uniform_average').\", FutureWarning)\n",
      "/opt/anaconda3/lib/python3.7/site-packages/sklearn/base.py:420: FutureWarning: The default value of multioutput (not exposed in score method) will change from 'variance_weighted' to 'uniform_average' in 0.23 to keep consistent with 'metrics.r2_score'. To specify the default value manually and avoid the warning, please either call 'metrics.r2_score' directly or make a custom scorer with 'metrics.make_scorer' (the built-in scorer 'r2' uses multioutput='uniform_average').\n",
      "  \"multioutput='uniform_average').\", FutureWarning)\n",
      "/opt/anaconda3/lib/python3.7/site-packages/sklearn/base.py:420: FutureWarning: The default value of multioutput (not exposed in score method) will change from 'variance_weighted' to 'uniform_average' in 0.23 to keep consistent with 'metrics.r2_score'. To specify the default value manually and avoid the warning, please either call 'metrics.r2_score' directly or make a custom scorer with 'metrics.make_scorer' (the built-in scorer 'r2' uses multioutput='uniform_average').\n",
      "  \"multioutput='uniform_average').\", FutureWarning)\n",
      "/opt/anaconda3/lib/python3.7/site-packages/sklearn/base.py:420: FutureWarning: The default value of multioutput (not exposed in score method) will change from 'variance_weighted' to 'uniform_average' in 0.23 to keep consistent with 'metrics.r2_score'. To specify the default value manually and avoid the warning, please either call 'metrics.r2_score' directly or make a custom scorer with 'metrics.make_scorer' (the built-in scorer 'r2' uses multioutput='uniform_average').\n",
      "  \"multioutput='uniform_average').\", FutureWarning)\n"
     ]
    },
    {
     "name": "stdout",
     "output_type": "stream",
     "text": [
      "Iteration 91, loss = 0.04609455\n",
      "Validation score: 0.376031\n",
      "Iteration 92, loss = 0.04512402\n",
      "Validation score: 0.388244\n",
      "Iteration 93, loss = 0.04549132\n",
      "Validation score: 0.376609\n",
      "Iteration 94, loss = 0.04472654\n",
      "Validation score: 0.384946\n",
      "Iteration 95, loss = 0.04486968\n",
      "Validation score: 0.369172\n"
     ]
    },
    {
     "name": "stderr",
     "output_type": "stream",
     "text": [
      "/opt/anaconda3/lib/python3.7/site-packages/sklearn/base.py:420: FutureWarning: The default value of multioutput (not exposed in score method) will change from 'variance_weighted' to 'uniform_average' in 0.23 to keep consistent with 'metrics.r2_score'. To specify the default value manually and avoid the warning, please either call 'metrics.r2_score' directly or make a custom scorer with 'metrics.make_scorer' (the built-in scorer 'r2' uses multioutput='uniform_average').\n",
      "  \"multioutput='uniform_average').\", FutureWarning)\n",
      "/opt/anaconda3/lib/python3.7/site-packages/sklearn/base.py:420: FutureWarning: The default value of multioutput (not exposed in score method) will change from 'variance_weighted' to 'uniform_average' in 0.23 to keep consistent with 'metrics.r2_score'. To specify the default value manually and avoid the warning, please either call 'metrics.r2_score' directly or make a custom scorer with 'metrics.make_scorer' (the built-in scorer 'r2' uses multioutput='uniform_average').\n",
      "  \"multioutput='uniform_average').\", FutureWarning)\n",
      "/opt/anaconda3/lib/python3.7/site-packages/sklearn/base.py:420: FutureWarning: The default value of multioutput (not exposed in score method) will change from 'variance_weighted' to 'uniform_average' in 0.23 to keep consistent with 'metrics.r2_score'. To specify the default value manually and avoid the warning, please either call 'metrics.r2_score' directly or make a custom scorer with 'metrics.make_scorer' (the built-in scorer 'r2' uses multioutput='uniform_average').\n",
      "  \"multioutput='uniform_average').\", FutureWarning)\n",
      "/opt/anaconda3/lib/python3.7/site-packages/sklearn/base.py:420: FutureWarning: The default value of multioutput (not exposed in score method) will change from 'variance_weighted' to 'uniform_average' in 0.23 to keep consistent with 'metrics.r2_score'. To specify the default value manually and avoid the warning, please either call 'metrics.r2_score' directly or make a custom scorer with 'metrics.make_scorer' (the built-in scorer 'r2' uses multioutput='uniform_average').\n",
      "  \"multioutput='uniform_average').\", FutureWarning)\n",
      "/opt/anaconda3/lib/python3.7/site-packages/sklearn/base.py:420: FutureWarning: The default value of multioutput (not exposed in score method) will change from 'variance_weighted' to 'uniform_average' in 0.23 to keep consistent with 'metrics.r2_score'. To specify the default value manually and avoid the warning, please either call 'metrics.r2_score' directly or make a custom scorer with 'metrics.make_scorer' (the built-in scorer 'r2' uses multioutput='uniform_average').\n",
      "  \"multioutput='uniform_average').\", FutureWarning)\n"
     ]
    },
    {
     "name": "stdout",
     "output_type": "stream",
     "text": [
      "Iteration 96, loss = 0.04441623\n",
      "Validation score: 0.384106\n",
      "Iteration 97, loss = 0.04377640\n",
      "Validation score: 0.377190\n",
      "Iteration 98, loss = 0.04350886\n",
      "Validation score: 0.392256\n",
      "Iteration 99, loss = 0.04347758\n",
      "Validation score: 0.393683\n",
      "Iteration 100, loss = 0.04315334\n",
      "Validation score: 0.390913\n"
     ]
    },
    {
     "name": "stderr",
     "output_type": "stream",
     "text": [
      "/opt/anaconda3/lib/python3.7/site-packages/sklearn/base.py:420: FutureWarning: The default value of multioutput (not exposed in score method) will change from 'variance_weighted' to 'uniform_average' in 0.23 to keep consistent with 'metrics.r2_score'. To specify the default value manually and avoid the warning, please either call 'metrics.r2_score' directly or make a custom scorer with 'metrics.make_scorer' (the built-in scorer 'r2' uses multioutput='uniform_average').\n",
      "  \"multioutput='uniform_average').\", FutureWarning)\n",
      "/opt/anaconda3/lib/python3.7/site-packages/sklearn/base.py:420: FutureWarning: The default value of multioutput (not exposed in score method) will change from 'variance_weighted' to 'uniform_average' in 0.23 to keep consistent with 'metrics.r2_score'. To specify the default value manually and avoid the warning, please either call 'metrics.r2_score' directly or make a custom scorer with 'metrics.make_scorer' (the built-in scorer 'r2' uses multioutput='uniform_average').\n",
      "  \"multioutput='uniform_average').\", FutureWarning)\n",
      "/opt/anaconda3/lib/python3.7/site-packages/sklearn/base.py:420: FutureWarning: The default value of multioutput (not exposed in score method) will change from 'variance_weighted' to 'uniform_average' in 0.23 to keep consistent with 'metrics.r2_score'. To specify the default value manually and avoid the warning, please either call 'metrics.r2_score' directly or make a custom scorer with 'metrics.make_scorer' (the built-in scorer 'r2' uses multioutput='uniform_average').\n",
      "  \"multioutput='uniform_average').\", FutureWarning)\n",
      "/opt/anaconda3/lib/python3.7/site-packages/sklearn/neural_network/multilayer_perceptron.py:566: ConvergenceWarning: Stochastic Optimizer: Maximum iterations (100) reached and the optimization hasn't converged yet.\n",
      "  % self.max_iter, ConvergenceWarning)\n"
     ]
    },
    {
     "data": {
      "text/plain": [
       "MLPRegressor(activation='relu', alpha=0.0001, batch_size='auto', beta_1=0.9,\n",
       "             beta_2=0.999, early_stopping=True, epsilon=1e-08,\n",
       "             hidden_layer_sizes=(300,), learning_rate='adaptive',\n",
       "             learning_rate_init=0.001, max_iter=100, momentum=0.9,\n",
       "             n_iter_no_change=10, nesterovs_momentum=True, power_t=0.5,\n",
       "             random_state=420, shuffle=True, solver='adam', tol=0.0001,\n",
       "             validation_fraction=0.1, verbose=1, warm_start=False)"
      ]
     },
     "execution_count": 1079,
     "metadata": {},
     "output_type": "execute_result"
    }
   ],
   "source": [
    "mlp = MLPRegressor(**mlp_params)\n",
    "mlp.out_activation_ = 'logistic'\n",
    "mlp.fit(X_train_a, y_train_a)"
   ]
  },
  {
   "cell_type": "code",
   "execution_count": 1080,
   "metadata": {},
   "outputs": [],
   "source": [
    "y_predict_mlp = mlp.predict(X_test)"
   ]
  },
  {
   "cell_type": "code",
   "execution_count": 1045,
   "metadata": {},
   "outputs": [],
   "source": [
    "rfr_params = {\n",
    "    'verbose': 10,\n",
    "    'n_estimators': 100,\n",
    "    'max_depth': None,\n",
    "    'random_state': 420,\n",
    "    'min_samples_split': 4,\n",
    "    'min_samples_leaf': 3,\n",
    "}"
   ]
  },
  {
   "cell_type": "code",
   "execution_count": 1046,
   "metadata": {},
   "outputs": [],
   "source": [
    "# init regr\n",
    "rfr = RandomForestRegressor(**rfr_params)"
   ]
  },
  {
   "cell_type": "code",
   "execution_count": 1047,
   "metadata": {},
   "outputs": [
    {
     "name": "stdout",
     "output_type": "stream",
     "text": [
      "[*] Training the model...\n",
      "building tree 1 of 100\n",
      "building tree 2 of 100\n",
      "building tree 3 of 100\n"
     ]
    },
    {
     "name": "stderr",
     "output_type": "stream",
     "text": [
      "[Parallel(n_jobs=1)]: Using backend SequentialBackend with 1 concurrent workers.\n",
      "[Parallel(n_jobs=1)]: Done   1 out of   1 | elapsed:    0.1s remaining:    0.0s\n",
      "[Parallel(n_jobs=1)]: Done   2 out of   2 | elapsed:    0.1s remaining:    0.0s\n",
      "[Parallel(n_jobs=1)]: Done   3 out of   3 | elapsed:    0.2s remaining:    0.0s\n"
     ]
    },
    {
     "name": "stdout",
     "output_type": "stream",
     "text": [
      "building tree 4 of 100\n",
      "building tree 5 of 100\n",
      "building tree 6 of 100\n",
      "building tree 7 of 100\n"
     ]
    },
    {
     "name": "stderr",
     "output_type": "stream",
     "text": [
      "[Parallel(n_jobs=1)]: Done   4 out of   4 | elapsed:    0.2s remaining:    0.0s\n",
      "[Parallel(n_jobs=1)]: Done   5 out of   5 | elapsed:    0.3s remaining:    0.0s\n",
      "[Parallel(n_jobs=1)]: Done   6 out of   6 | elapsed:    0.4s remaining:    0.0s\n",
      "[Parallel(n_jobs=1)]: Done   7 out of   7 | elapsed:    0.4s remaining:    0.0s\n"
     ]
    },
    {
     "name": "stdout",
     "output_type": "stream",
     "text": [
      "building tree 8 of 100\n",
      "building tree 9 of 100\n",
      "building tree 10 of 100\n",
      "building tree 11 of 100\n"
     ]
    },
    {
     "name": "stderr",
     "output_type": "stream",
     "text": [
      "[Parallel(n_jobs=1)]: Done   8 out of   8 | elapsed:    0.5s remaining:    0.0s\n",
      "[Parallel(n_jobs=1)]: Done   9 out of   9 | elapsed:    0.5s remaining:    0.0s\n"
     ]
    },
    {
     "name": "stdout",
     "output_type": "stream",
     "text": [
      "building tree 12 of 100\n",
      "building tree 13 of 100\n",
      "building tree 14 of 100\n",
      "building tree 15 of 100\n",
      "building tree 16 of 100\n",
      "building tree 17 of 100\n",
      "building tree 18 of 100\n",
      "building tree 19 of 100\n",
      "building tree 20 of 100\n",
      "building tree 21 of 100\n",
      "building tree 22 of 100\n",
      "building tree 23 of 100\n",
      "building tree 24 of 100\n",
      "building tree 25 of 100\n",
      "building tree 26 of 100\n",
      "building tree 27 of 100\n",
      "building tree 28 of 100\n",
      "building tree 29 of 100\n",
      "building tree 30 of 100\n",
      "building tree 31 of 100\n",
      "building tree 32 of 100\n",
      "building tree 33 of 100\n",
      "building tree 34 of 100\n",
      "building tree 35 of 100\n",
      "building tree 36 of 100\n",
      "building tree 37 of 100\n",
      "building tree 38 of 100\n",
      "building tree 39 of 100\n",
      "building tree 40 of 100\n",
      "building tree 41 of 100\n",
      "building tree 42 of 100\n",
      "building tree 43 of 100\n",
      "building tree 44 of 100\n",
      "building tree 45 of 100\n",
      "building tree 46 of 100\n",
      "building tree 47 of 100\n",
      "building tree 48 of 100\n",
      "building tree 49 of 100\n",
      "building tree 50 of 100\n",
      "building tree 51 of 100\n",
      "building tree 52 of 100\n",
      "building tree 53 of 100\n",
      "building tree 54 of 100\n",
      "building tree 55 of 100\n",
      "building tree 56 of 100\n",
      "building tree 57 of 100\n",
      "building tree 58 of 100\n",
      "building tree 59 of 100\n",
      "building tree 60 of 100\n",
      "building tree 61 of 100\n",
      "building tree 62 of 100\n",
      "building tree 63 of 100\n",
      "building tree 64 of 100\n",
      "building tree 65 of 100\n",
      "building tree 66 of 100\n",
      "building tree 67 of 100\n",
      "building tree 68 of 100\n",
      "building tree 69 of 100\n",
      "building tree 70 of 100\n",
      "building tree 71 of 100\n",
      "building tree 72 of 100\n",
      "building tree 73 of 100\n",
      "building tree 74 of 100\n",
      "building tree 75 of 100\n",
      "building tree 76 of 100\n",
      "building tree 77 of 100\n",
      "building tree 78 of 100\n",
      "building tree 79 of 100\n",
      "building tree 80 of 100\n",
      "building tree 81 of 100\n",
      "building tree 82 of 100\n",
      "building tree 83 of 100\n",
      "building tree 84 of 100\n",
      "building tree 85 of 100\n",
      "building tree 86 of 100\n",
      "building tree 87 of 100\n",
      "building tree 88 of 100\n",
      "building tree 89 of 100\n",
      "building tree 90 of 100\n",
      "building tree 91 of 100\n",
      "building tree 92 of 100\n",
      "building tree 93 of 100\n",
      "building tree 94 of 100\n",
      "building tree 95 of 100\n",
      "building tree 96 of 100\n",
      "building tree 97 of 100\n",
      "building tree 98 of 100\n",
      "building tree 99 of 100\n",
      "building tree 100 of 100\n"
     ]
    },
    {
     "name": "stderr",
     "output_type": "stream",
     "text": [
      "[Parallel(n_jobs=1)]: Done 100 out of 100 | elapsed:    7.2s finished\n"
     ]
    },
    {
     "data": {
      "text/plain": [
       "RandomForestRegressor(bootstrap=True, criterion='mse', max_depth=None,\n",
       "                      max_features='auto', max_leaf_nodes=None,\n",
       "                      min_impurity_decrease=0.0, min_impurity_split=None,\n",
       "                      min_samples_leaf=3, min_samples_split=4,\n",
       "                      min_weight_fraction_leaf=0.0, n_estimators=100,\n",
       "                      n_jobs=None, oob_score=False, random_state=420,\n",
       "                      verbose=10, warm_start=False)"
      ]
     },
     "execution_count": 1047,
     "metadata": {},
     "output_type": "execute_result"
    }
   ],
   "source": [
    "# train the model\n",
    "print(\"[*] Training the model...\")\n",
    "rfr.fit(X_train_a, y_train_a)"
   ]
  },
  {
   "cell_type": "code",
   "execution_count": 1048,
   "metadata": {},
   "outputs": [
    {
     "name": "stderr",
     "output_type": "stream",
     "text": [
      "[Parallel(n_jobs=1)]: Using backend SequentialBackend with 1 concurrent workers.\n",
      "[Parallel(n_jobs=1)]: Done   1 out of   1 | elapsed:    0.0s remaining:    0.0s\n",
      "[Parallel(n_jobs=1)]: Done   2 out of   2 | elapsed:    0.0s remaining:    0.0s\n",
      "[Parallel(n_jobs=1)]: Done   3 out of   3 | elapsed:    0.0s remaining:    0.0s\n",
      "[Parallel(n_jobs=1)]: Done   4 out of   4 | elapsed:    0.0s remaining:    0.0s\n",
      "[Parallel(n_jobs=1)]: Done   5 out of   5 | elapsed:    0.0s remaining:    0.0s\n",
      "[Parallel(n_jobs=1)]: Done   6 out of   6 | elapsed:    0.0s remaining:    0.0s\n",
      "[Parallel(n_jobs=1)]: Done   7 out of   7 | elapsed:    0.0s remaining:    0.0s\n",
      "[Parallel(n_jobs=1)]: Done   8 out of   8 | elapsed:    0.0s remaining:    0.0s\n",
      "[Parallel(n_jobs=1)]: Done   9 out of   9 | elapsed:    0.0s remaining:    0.0s\n",
      "[Parallel(n_jobs=1)]: Done 100 out of 100 | elapsed:    0.0s finished\n"
     ]
    }
   ],
   "source": [
    "y_predict_rfr = rfr.predict(X_test)"
   ]
  },
  {
   "cell_type": "code",
   "execution_count": 1065,
   "metadata": {},
   "outputs": [
    {
     "data": {
      "image/png": "[encoded data removed]",
      "text/plain": [
       "<Figure size 720x720 with 1 Axes>"
      ]
     },
     "metadata": {},
     "output_type": "display_data"
    },
    {
     "name": "stdout",
     "output_type": "stream",
     "text": [
      "     True x  True y    Pred x    Pred y\n",
      "0      -0.2     0.7 -0.019893  0.304497\n",
      "1       0.8     0.1  0.046089 -0.183323\n",
      "2       0.8     0.1 -0.082013  0.035022\n",
      "3       0.0     0.0  0.130789 -0.363614\n",
      "4      -0.2     0.7  0.182037  0.203950\n",
      "..      ...     ...       ...       ...\n",
      "283    -0.4     0.7  0.081311  0.320712\n",
      "284     0.5    -0.7  0.247303 -0.496166\n",
      "285     0.3     0.7  0.196822  0.454618\n",
      "286     0.3     0.7  0.207223 -0.109583\n",
      "287    -0.2     0.7 -0.226757  0.122398\n",
      "\n",
      "[288 rows x 4 columns]\n",
      "\n",
      "Mean Absolute Error: 0.43508150231182785\n",
      "Mean Squared Error: 0.2532238411017731\n",
      "Root Mean Squared Error: 0.5032135144268018\n"
     ]
    }
   ],
   "source": [
    "# plotting\n",
    "plt.figure(figsize=(10,10))\n",
    "plt.title('RandomForestRegressor')\n",
    "# im = plt.imread(\"imshow/circumplex-model.png\",0)\n",
    "# implot = plt.imshow(im,extent=[y_train[:,0].min(),y_train[:,0].max(),y_train[:,1].min(),y_train[:,1].max()])\n",
    "\n",
    "colors = []\n",
    "\n",
    "for i in range(len(y_test)):\n",
    "    for key, value in circumplex_model.items():\n",
    "        if tuple(y_test[i]) == value[0]:\n",
    "            colors.append(value[1])\n",
    "\n",
    "plt.scatter(y_test[:,0], y_test[:,1], color='black', s=15, marker='x')\n",
    "plt.scatter(y_predict_rfr[:,0],y_predict_rfr[:,1], c=colors, s=15, marker='o')\n",
    "\n",
    "plt.xlim(-1, 1)\n",
    "plt.ylim(-1, 1)\n",
    "\n",
    "plt.xticks([])\n",
    "plt.yticks([])\n",
    "\n",
    "for key, value in circumplex_model.items():\n",
    "    plt.annotate(key, value[0])\n",
    "\n",
    "# legend\n",
    "black_patch = mpatches.Patch(color='black', label='ground truth')\n",
    "grey_patch = mpatches.Patch(color='grey', label='neutral')\n",
    "cyan_patch = mpatches.Patch(color='cyan', label='calm')\n",
    "purple_patch = mpatches.Patch(color='purple', label='happy')\n",
    "blue_patch = mpatches.Patch(color='blue', label='sad')\n",
    "red_patch = mpatches.Patch(color='red', label='angry')\n",
    "magenta_patch = mpatches.Patch(color='magenta', label='fearful')\n",
    "green_patch = mpatches.Patch(color='green', label='disgust')\n",
    "orange_patch = mpatches.Patch(color='orange', label='surprised')\n",
    "\n",
    "plt.legend(handles=[black_patch,\n",
    "                    grey_patch,\n",
    "                    cyan_patch,\n",
    "                    purple_patch,\n",
    "                    blue_patch,\n",
    "                    red_patch,\n",
    "                    magenta_patch,\n",
    "                    green_patch,\n",
    "                    orange_patch])\n",
    "\n",
    "plt.show()\n",
    "\n",
    "df_rfr = pd.DataFrame({'True x':y_test[:,0], \n",
    "                        'True y':y_test[:,1],\n",
    "                        'Pred x':y_predict_rfr[:,0], \n",
    "                        'Pred y':y_predict_rfr[:,1]})\n",
    "print(df_rfr)\n",
    "print()\n",
    "print('Mean Absolute Error:', metrics.mean_absolute_error(y_test, y_predict_rfr))\n",
    "print('Mean Squared Error:', metrics.mean_squared_error(y_test, y_predict_rfr))\n",
    "print('Root Mean Squared Error:', np.sqrt(metrics.mean_squared_error(y_test, y_predict_rfr)))"
   ]
  },
  {
   "cell_type": "code",
   "execution_count": 1081,
   "metadata": {},
   "outputs": [
    {
     "data": {
      "image/png": "[encoded data removed]",
      "text/plain": [
       "<Figure size 720x720 with 1 Axes>"
      ]
     },
     "metadata": {},
     "output_type": "display_data"
    },
    {
     "name": "stdout",
     "output_type": "stream",
     "text": [
      "     True x  True y    Pred x    Pred y\n",
      "0      -0.2     0.7  0.205277  0.342706\n",
      "1       0.8     0.1  0.883591 -0.686884\n",
      "2       0.8     0.1  0.730493 -0.045441\n",
      "3       0.0     0.0  0.644996 -0.729898\n",
      "4      -0.2     0.7  0.587704  0.360225\n",
      "..      ...     ...       ...       ...\n",
      "283    -0.4     0.7 -1.344002  0.967754\n",
      "284     0.5    -0.7  0.684240 -1.021886\n",
      "285     0.3     0.7  0.505113  0.657757\n",
      "286     0.3     0.7  0.961172 -0.001197\n",
      "287    -0.2     0.7 -0.446297  0.512997\n",
      "\n",
      "[288 rows x 4 columns]\n",
      "\n",
      "Mean Absolute Error: 0.4522583608228947\n",
      "Mean Squared Error: 0.30127970315440855\n",
      "Root Mean Squared Error: 0.5488895181677352\n"
     ]
    }
   ],
   "source": [
    "# plotting\n",
    "plt.figure(figsize=(10,10))\n",
    "plt.title('MLPRegressor')\n",
    "# im = plt.imread(\"imshow/circumplex-model.png\",0)\n",
    "# implot = plt.imshow(im,extent=[y_train[:,0].min(),y_train[:,0].max(),y_train[:,1].min(),y_train[:,1].max()])\n",
    "\n",
    "colors = []\n",
    "\n",
    "for i in range(len(y_test)):\n",
    "    for key, value in circumplex_model.items():\n",
    "        if tuple(y_test[i]) == value[0]:\n",
    "            colors.append(value[1])\n",
    "\n",
    "plt.scatter(y_test[:,0], y_test[:,1], color='black', s=15, marker='x')\n",
    "plt.scatter(y_predict_mlp[:,0],y_predict_mlp[:,1], c=colors, s=15, marker='o')\n",
    "\n",
    "plt.xlim(-1, 1)\n",
    "plt.ylim(-1, 1)\n",
    "\n",
    "plt.xticks([])\n",
    "plt.yticks([])\n",
    "\n",
    "for key, value in circumplex_model.items():\n",
    "    plt.annotate(key, value[0])\n",
    "\n",
    "# legend\n",
    "black_patch = mpatches.Patch(color='black', label='ground truth')\n",
    "grey_patch = mpatches.Patch(color='grey', label='neutral')\n",
    "cyan_patch = mpatches.Patch(color='cyan', label='calm')\n",
    "purple_patch = mpatches.Patch(color='purple', label='happy')\n",
    "blue_patch = mpatches.Patch(color='blue', label='sad')\n",
    "red_patch = mpatches.Patch(color='red', label='angry')\n",
    "magenta_patch = mpatches.Patch(color='magenta', label='fearful')\n",
    "green_patch = mpatches.Patch(color='green', label='disgust')\n",
    "orange_patch = mpatches.Patch(color='orange', label='surprised')\n",
    "\n",
    "plt.legend(handles=[black_patch,\n",
    "                    grey_patch,\n",
    "                    cyan_patch,\n",
    "                    purple_patch,\n",
    "                    blue_patch,\n",
    "                    red_patch,\n",
    "                    magenta_patch,\n",
    "                    green_patch,\n",
    "                    orange_patch])\n",
    "\n",
    "plt.show()\n",
    "\n",
    "df_rfr = pd.DataFrame({'True x':y_test[:,0], \n",
    "                        'True y':y_test[:,1],\n",
    "                        'Pred x':y_predict_mlp[:,0], \n",
    "                        'Pred y':y_predict_mlp[:,1]})\n",
    "print(df_rfr)\n",
    "print()\n",
    "print('Mean Absolute Error:', metrics.mean_absolute_error(y_test, y_predict_mlp))\n",
    "print('Mean Squared Error:', metrics.mean_squared_error(y_test, y_predict_mlp))\n",
    "print('Root Mean Squared Error:', np.sqrt(metrics.mean_squared_error(y_test, y_predict_mlp)))"
   ]
  },
  {
   "cell_type": "code",
   "execution_count": 379,
   "metadata": {
    "colab": {},
    "colab_type": "code",
    "id": "w5b0L3dlQS1B"
   },
   "outputs": [],
   "source": [
    "# save the model\n",
    "# make result directory if doesn't exist yet\n",
    "if not os.path.isdir(\"result\"):\n",
    "    os.mkdir(\"result\")\n",
    "\n",
    "pickle.dump(rfr, open(\"result/rfr.model\", \"wb\"))"
   ]
  }
 ],
 "metadata": {
  "accelerator": "GPU",
  "colab": {
   "collapsed_sections": [],
   "name": "ser.ipynb",
   "provenance": [],
   "toc_visible": true
  },
  "kernelspec": {
   "display_name": "Python 3",
   "language": "python",
   "name": "python3"
  },
  "language_info": {
   "codemirror_mode": {
    "name": "ipython",
    "version": 3
   },
   "file_extension": ".py",
   "mimetype": "text/x-python",
   "name": "python",
   "nbconvert_exporter": "python",
   "pygments_lexer": "ipython3",
   "version": "3.7.4"
  }
 },
 "nbformat": 4,
 "nbformat_minor": 1
}
