{
 "cells": [
  {
   "cell_type": "markdown",
   "metadata": {
    "colab_type": "text",
    "id": "ZSdjAgdXcraM"
   },
   "source": [
    "# Speech-based Emotion Recognition for Voice Comms.\n",
    "## Main Notebook\n",
    "\n",
    "Datasets used:\n",
    "\n",
    "*   RAVDESS, CREMA-D\n",
    "*   See AugmentData.ipynb for augmentation scripts    "
   ]
  },
  {
   "cell_type": "code",
   "execution_count": 311,
   "metadata": {
    "colab": {},
    "colab_type": "code",
    "id": "GicI2VMDHTni"
   },
   "outputs": [],
   "source": [
    "import soundfile # read audio files\n",
    "import numpy as np\n",
    "import librosa # extract features\n",
    "import glob\n",
    "import os\n",
    "import pickle # to save model after training\n",
    "\n",
    "from sklearn import preprocessing\n",
    "from sklearn.linear_model import LinearRegression\n",
    "from sklearn.ensemble import RandomForestRegressor, GradientBoostingRegressor, VotingRegressor\n",
    "from sklearn.model_selection import train_test_split # for splitting training and testing data\n",
    "from sklearn.neural_network import MLPClassifier # multi-layer perceptron model\n",
    "from sklearn import metrics\n",
    "\n",
    "import seaborn as sn\n",
    "import pandas as pd\n",
    "import matplotlib.pyplot as plt\n",
    "import matplotlib.patches as mpatches"
   ]
  },
  {
   "cell_type": "code",
   "execution_count": 312,
   "metadata": {
    "colab": {},
    "colab_type": "code",
    "id": "ndQyj81GIfUI"
   },
   "outputs": [],
   "source": [
    "def extract_feature(file_name, **kwargs):\n",
    "    \"\"\"\n",
    "    Extract feature from audio file `file_name`\n",
    "        Features supported:\n",
    "            - MFCC (mfcc)\n",
    "            - Chroma (chroma)\n",
    "            - MEL Spectrogram Frequency (mel)\n",
    "            - Contrast (contrast)\n",
    "            - Tonnetz (tonnetz)\n",
    "        e.g:\n",
    "        `features = extract_feature(path, mel=True, mfcc=True)`\n",
    "    \"\"\"\n",
    "    mfcc = kwargs.get(\"mfcc\")\n",
    "    chroma = kwargs.get(\"chroma\")\n",
    "    mel = kwargs.get(\"mel\")\n",
    "    contrast = kwargs.get(\"contrast\")\n",
    "    tonnetz = kwargs.get(\"tonnetz\")\n",
    "    with soundfile.SoundFile(file_name) as sound_file:\n",
    "        X = sound_file.read(dtype=\"float32\") # all depth 32bit float\n",
    "        sample_rate = sound_file.samplerate # should always be 16kHz\n",
    "        if chroma or contrast:\n",
    "            stft = np.abs(librosa.stft(X))\n",
    "        result = np.array([])\n",
    "        if mfcc:\n",
    "            mfccs = np.mean(librosa.feature.mfcc(y=X, sr=sample_rate, n_mfcc=13).T, axis=0)\n",
    "            result = np.hstack((result, mfccs))\n",
    "        if chroma:\n",
    "            chroma = np.mean(librosa.feature.chroma_stft(S=stft, sr=sample_rate).T,axis=0)\n",
    "            result = np.hstack((result, chroma))\n",
    "        if mel:\n",
    "            mel = np.mean(librosa.feature.melspectrogram(X, sr=sample_rate).T,axis=0)\n",
    "            result = np.hstack((result, mel))\n",
    "        if contrast:\n",
    "            contrast = np.mean(librosa.feature.spectral_contrast(S=stft, sr=sample_rate).T,axis=0)\n",
    "            result = np.hstack((result, contrast))\n",
    "        if tonnetz:\n",
    "            tonnetz = np.mean(librosa.feature.tonnetz(y=librosa.effects.harmonic(X), sr=sample_rate).T,axis=0)\n",
    "            result = np.hstack((result, tonnetz))\n",
    "    return result"
   ]
  },
  {
   "cell_type": "code",
   "execution_count": 313,
   "metadata": {},
   "outputs": [],
   "source": [
    "# all emotions RAVDESS\n",
    "int2emotion = {\n",
    "    \"01\": \"neutral\",\n",
    "    \"02\": \"calm\",\n",
    "    \"03\": \"happy\",\n",
    "    \"04\": \"sad\",\n",
    "    \"05\": \"angry\",\n",
    "    \"06\": \"fearful\",\n",
    "    \"07\": \"disgust\",\n",
    "    \"08\": \"surprised\"\n",
    "}\n",
    "\n",
    "# all emotions CREMA-D\n",
    "cemotion = {\n",
    "    \"NEU\": \"neutral\",\n",
    "    \"HAP\": \"happy\",\n",
    "    \"SAD\": \"sad\",\n",
    "    \"ANG\": \"angry\",\n",
    "    \"FEA\": \"fearful\",\n",
    "    \"DIS\": \"disgust\",\n",
    "}\n",
    "\n",
    "# allow only these emotions from dataset(s)\n",
    "AVAILABLE_EMOTIONS = {\n",
    "    \"neutral\",\n",
    "    \"calm\", # only included in RAVDESS\n",
    "    \"happy\",\n",
    "    \"sad\",\n",
    "    \"angry\", \n",
    "    \"fearful\",\n",
    "    \"disgust\",\n",
    "    \"surprised\" # in TESS specifies pleasant surprise\n",
    "}\n",
    "\n",
    "# map emotion to 2D space\n",
    "circumplex_model = {\n",
    "    \"neutral\":[(0.0, 0.0), \"grey\"],\n",
    "    \"calm\":[(0.5,-0.7),\"cyan\"], # only included in RAVDESS\n",
    "    \"happy\":[(0.8, 0.1),\"yellow\"],\n",
    "    \"sad\":[(-0.8, -0.3),\"blue\"],\n",
    "    \"angry\":[(-0.2,0.7),\"red\"],\n",
    "    \"fearful\":[(-0.4,0.7),\"pink\"], #circumplex afraid\n",
    "    \"disgust\":[(-0.41,0.6),\"green\"], #circumplex annoyed\n",
    "    \"surprised\":[(0.3,0.7),\"orange\"], #circumplex astonished, in TESS specifies pleasant surprise\n",
    "}\n",
    "\n",
    "# map emotion to 3d space\n",
    "pad_model = {\n",
    "    \n",
    "}"
   ]
  },
  {
   "cell_type": "code",
   "execution_count": 378,
   "metadata": {
    "colab": {},
    "colab_type": "code",
    "id": "1Ivlry11IruV"
   },
   "outputs": [],
   "source": [
    "# load data and extract features\n",
    "def load_data(test_size=0.2):\n",
    "    X, y = [], []\n",
    "    \n",
    "    # RAVDESS clean\n",
    "    for file in glob.glob(\"data/RAVDESS-nosil/*.wav\"):\n",
    "        # get the base name of the audio file\n",
    "        basename = os.path.basename(file)\n",
    "        # get the emotion label\n",
    "        emotion = int2emotion[basename.split(\"-\")[2]]\n",
    "        # we allow only circumplex model emotions\n",
    "        if emotion not in AVAILABLE_EMOTIONS:\n",
    "            continue\n",
    "        # map coords\n",
    "        circumplex_coord = circumplex_model[emotion][0]\n",
    "        # extract features\n",
    "        features = extract_feature(file, mfcc=True)\n",
    "        # add to data\n",
    "        X.append(features)\n",
    "        y.append(circumplex_coord)\n",
    "    \n",
    "#     # augmented RAVDESS\n",
    "#     # white noise\n",
    "#     for file in glob.glob(\"data/augment-wn/RAVDESS/*.wav\"):\n",
    "#         # get the base name of the audio file\n",
    "#         basename = os.path.basename(file)\n",
    "#         # get the emotion label\n",
    "#         emotion = int2emotion[basename.split(\"-\")[2]]\n",
    "#         # we allow only AVAILABLE_EMOTIONS we set\n",
    "#         if emotion not in AVAILABLE_EMOTIONS:\n",
    "#             continue\n",
    "#         # extract features\n",
    "#         features = extract_feature(file, mfcc=True)\n",
    "#         # add to data\n",
    "#         X.append(features)\n",
    "#         y.append(emotion)\n",
    "        \n",
    "#     # CREMA-D clean\n",
    "#     for file in glob.glob(\"data/CREMA-D/*.wav\"):\n",
    "#         # get the base name of the audio file\n",
    "#         basename = os.path.basename(file)\n",
    "#         # get the emotion label\n",
    "#         emotion = cemotion[basename.split(\"_\")[2]]\n",
    "#         # we allow only AVAILABLE_EMOTIONS we set\n",
    "#         if emotion not in AVAILABLE_EMOTIONS:\n",
    "#             continue\n",
    "#         # map coords\n",
    "#         circumplex_coord = circumplex_model[emotion][0]\n",
    "#         # extract features\n",
    "#         features = extract_feature(file, mfcc=True)\n",
    "#         # add to data\n",
    "#         X.append(features)\n",
    "#         y.append(circumplex_coord)\n",
    "\n",
    "#     # TESS clean\n",
    "#     for file in glob.glob(\"data/TESS-nosil/*.wav\"):\n",
    "#         # get the base name of the audio file\n",
    "#         basename = os.path.basename(file)\n",
    "#         # get the emotion label\n",
    "#         emotion = tessemotion[basename.split(\"_\")[2]]\n",
    "#         # we allow only AVAILABLE_EMOTIONS we set\n",
    "#         if emotion not in AVAILABLE_EMOTIONS:\n",
    "#             continue\n",
    "#         # extract features\n",
    "#         features = extract_feature(file, mfcc=True)\n",
    "#         # add to data\n",
    "#         X.append(features)\n",
    "#         y.append(emotion)\n",
    "    \n",
    "#     # emodb clean\n",
    "#     for file in glob.glob(\"data/EMODB-nosil/*.wav\"):\n",
    "#         # get the base name of the audio file\n",
    "#         basename = os.path.basename(file)\n",
    "#         # get the emotion label\n",
    "#         emotion = char2emotion[basename[5]]\n",
    "#         # we allow only AVAILABLE_EMOTIONS we set\n",
    "#         if emotion not in AVAILABLE_EMOTIONS:\n",
    "#             continue\n",
    "#         # extract features\n",
    "#         features = extract_feature(file, mfcc=True)\n",
    "#         # add to data\n",
    "#         X.append(features)\n",
    "#         y.append(emotion)\n",
    "    \n",
    "#     # SAVEE clean\n",
    "#     for file in glob.glob(\"data/SAVEE-nosil/*.wav\"):\n",
    "#         # get the base name of the audio file\n",
    "#         basename = os.path.basename(file)\n",
    "#         # get the emotion label\n",
    "#         emotion = saveeemotion[basename[0]]\n",
    "#         # we allow only AVAILABLE_EMOTIONS we set\n",
    "#         if emotion not in AVAILABLE_EMOTIONS:\n",
    "#             continue\n",
    "#         # extract features\n",
    "#         features = extract_feature(file, mfcc=True)\n",
    "#         # add to data\n",
    "#         X.append(features)\n",
    "#         y.append(emotion)\n",
    "\n",
    "    # scale features [1, -1]\n",
    "    X /= np.max(np.abs(X),axis=0)\n",
    "    \n",
    "#     # label encoding for y\n",
    "#     label_encoder = preprocessing.LabelEncoder()\n",
    "#     label_encoder.fit(y)\n",
    "#     print(\"Class mapping: \")\n",
    "#     for i, item in enumerate(label_encoder.classes_):\n",
    "#         print(item, \"-->\", i)\n",
    "        \n",
    "#     encoded_labels = label_encoder.transform(y)\n",
    "#     print(\"Labels =\", labels)\n",
    "#     print(\"Encoded labels =\", list(encoded_labels))\n",
    "    \n",
    "    # split the data to training and testing and return it\n",
    "    return train_test_split(np.array(X), np.array(y), test_size=test_size, random_state=420, stratify=y)"
   ]
  },
  {
   "cell_type": "code",
   "execution_count": 374,
   "metadata": {
    "colab": {},
    "colab_type": "code",
    "id": "LUsbEYpnPoL_"
   },
   "outputs": [],
   "source": [
    "# load dataset(s), 80% training 20% testing\n",
    "X_train, X_test, y_train, y_test = load_data(test_size=0.1)"
   ]
  },
  {
   "cell_type": "code",
   "execution_count": 375,
   "metadata": {
    "colab": {
     "base_uri": "https://localhost:8080/",
     "height": 71
    },
    "colab_type": "code",
    "id": "HWOmMe5WP_Mk",
    "outputId": "c91dff34-d76f-4e03-cd87-c2411e248b53"
   },
   "outputs": [
    {
     "name": "stdout",
     "output_type": "stream",
     "text": [
      "[+] Number of training samples: 1296\n",
      "[+] Number of testing samples: 144\n",
      "[+] Number of features: 13\n"
     ]
    }
   ],
   "source": [
    "# print some details\n",
    "# number of samples in training data\n",
    "print(\"[+] Number of training samples:\", X_train.shape[0])\n",
    "# number of samples in testing data\n",
    "print(\"[+] Number of testing samples:\", X_test.shape[0])\n",
    "# number of features used\n",
    "# vector of features extracted \n",
    "# using extract_features() function\n",
    "print(\"[+] Number of features:\", X_train.shape[1])"
   ]
  },
  {
   "cell_type": "code",
   "execution_count": 376,
   "metadata": {},
   "outputs": [
    {
     "data": {
      "text/plain": [
       "<matplotlib.axes._subplots.AxesSubplot at 0x1c46ae6390>"
      ]
     },
     "execution_count": 376,
     "metadata": {},
     "output_type": "execute_result"
    },
    {
     "data": {
      "image/png": "[encoded data removed]",
      "text/plain": [
       "<Figure size 432x288 with 1 Axes>"
      ]
     },
     "metadata": {
      "needs_background": "light"
     },
     "output_type": "display_data"
    }
   ],
   "source": [
    "y_test_df = pd.DataFrame(data=y_train, columns=['X','Y',])\n",
    "y_test_df['X'].value_counts().plot.bar(title='Train Data')"
   ]
  },
  {
   "cell_type": "code",
   "execution_count": 377,
   "metadata": {},
   "outputs": [
    {
     "data": {
      "text/plain": [
       "<matplotlib.axes._subplots.AxesSubplot at 0x1c4702c850>"
      ]
     },
     "execution_count": 377,
     "metadata": {},
     "output_type": "execute_result"
    },
    {
     "data": {
      "image/png": "[encoded data removed]",
      "text/plain": [
       "<Figure size 432x288 with 1 Axes>"
      ]
     },
     "metadata": {
      "needs_background": "light"
     },
     "output_type": "display_data"
    }
   ],
   "source": [
    "y_test_df = pd.DataFrame(data=y_test, columns=['X','Y',])\n",
    "y_test_df['X'].value_counts().plot.bar(title='Test Data')"
   ]
  },
  {
   "cell_type": "code",
   "execution_count": 349,
   "metadata": {},
   "outputs": [],
   "source": [
    "rfr_params = {\n",
    "    'verbose': 10,\n",
    "    'n_estimators': 100,\n",
    "    'max_depth': None,\n",
    "    'random_state': 420,\n",
    "    'min_samples_split': 4,\n",
    "    'min_samples_leaf': 3,\n",
    "}"
   ]
  },
  {
   "cell_type": "code",
   "execution_count": 350,
   "metadata": {},
   "outputs": [],
   "source": [
    "# init regr\n",
    "\n",
    "rfr = RandomForestRegressor(**regr_params)\n",
    "lr = LinearRegression()"
   ]
  },
  {
   "cell_type": "code",
   "execution_count": 352,
   "metadata": {},
   "outputs": [
    {
     "name": "stdout",
     "output_type": "stream",
     "text": [
      "[*] Training the model...\n",
      "building tree 1 of 100\n",
      "building tree 2 of 100\n",
      "building tree 3 of 100\n",
      "building tree 4 of 100\n",
      "building tree 5 of 100\n",
      "building tree 6 of 100\n",
      "building tree 7 of 100\n",
      "building tree 8 of 100\n",
      "building tree 9 of 100\n",
      "building tree 10 of 100\n",
      "building tree 11 of 100\n",
      "building tree 12 of 100\n",
      "building tree 13 of 100\n",
      "building tree 14 of 100\n"
     ]
    },
    {
     "name": "stderr",
     "output_type": "stream",
     "text": [
      "[Parallel(n_jobs=1)]: Using backend SequentialBackend with 1 concurrent workers.\n",
      "[Parallel(n_jobs=1)]: Done   1 out of   1 | elapsed:    0.0s remaining:    0.0s\n",
      "[Parallel(n_jobs=1)]: Done   2 out of   2 | elapsed:    0.0s remaining:    0.0s\n",
      "[Parallel(n_jobs=1)]: Done   3 out of   3 | elapsed:    0.0s remaining:    0.0s\n",
      "[Parallel(n_jobs=1)]: Done   4 out of   4 | elapsed:    0.0s remaining:    0.0s\n",
      "[Parallel(n_jobs=1)]: Done   5 out of   5 | elapsed:    0.0s remaining:    0.0s\n",
      "[Parallel(n_jobs=1)]: Done   6 out of   6 | elapsed:    0.1s remaining:    0.0s\n",
      "[Parallel(n_jobs=1)]: Done   7 out of   7 | elapsed:    0.1s remaining:    0.0s\n",
      "[Parallel(n_jobs=1)]: Done   8 out of   8 | elapsed:    0.1s remaining:    0.0s\n",
      "[Parallel(n_jobs=1)]: Done   9 out of   9 | elapsed:    0.1s remaining:    0.0s\n"
     ]
    },
    {
     "name": "stdout",
     "output_type": "stream",
     "text": [
      "building tree 15 of 100\n",
      "building tree 16 of 100\n",
      "building tree 17 of 100\n",
      "building tree 18 of 100\n",
      "building tree 19 of 100\n",
      "building tree 20 of 100\n",
      "building tree 21 of 100\n",
      "building tree 22 of 100\n",
      "building tree 23 of 100\n",
      "building tree 24 of 100\n",
      "building tree 25 of 100\n",
      "building tree 26 of 100\n",
      "building tree 27 of 100\n",
      "building tree 28 of 100\n",
      "building tree 29 of 100\n",
      "building tree 30 of 100\n",
      "building tree 31 of 100\n",
      "building tree 32 of 100\n",
      "building tree 33 of 100\n",
      "building tree 34 of 100\n",
      "building tree 35 of 100\n",
      "building tree 36 of 100\n",
      "building tree 37 of 100\n",
      "building tree 38 of 100\n",
      "building tree 39 of 100\n",
      "building tree 40 of 100\n",
      "building tree 41 of 100\n",
      "building tree 42 of 100\n",
      "building tree 43 of 100\n",
      "building tree 44 of 100\n",
      "building tree 45 of 100\n",
      "building tree 46 of 100\n",
      "building tree 47 of 100\n",
      "building tree 48 of 100\n",
      "building tree 49 of 100\n",
      "building tree 50 of 100\n",
      "building tree 51 of 100\n",
      "building tree 52 of 100\n",
      "building tree 53 of 100\n",
      "building tree 54 of 100\n",
      "building tree 55 of 100\n",
      "building tree 56 of 100\n",
      "building tree 57 of 100\n",
      "building tree 58 of 100\n",
      "building tree 59 of 100\n",
      "building tree 60 of 100\n",
      "building tree 61 of 100\n",
      "building tree 62 of 100\n",
      "building tree 63 of 100\n",
      "building tree 64 of 100\n",
      "building tree 65 of 100\n",
      "building tree 66 of 100\n",
      "building tree 67 of 100\n",
      "building tree 68 of 100\n",
      "building tree 69 of 100\n",
      "building tree 70 of 100\n",
      "building tree 71 of 100\n",
      "building tree 72 of 100\n",
      "building tree 73 of 100\n",
      "building tree 74 of 100\n",
      "building tree 75 of 100\n",
      "building tree 76 of 100\n",
      "building tree 77 of 100\n",
      "building tree 78 of 100\n",
      "building tree 79 of 100\n",
      "building tree 80 of 100\n",
      "building tree 81 of 100\n",
      "building tree 82 of 100\n",
      "building tree 83 of 100\n",
      "building tree 84 of 100\n",
      "building tree 85 of 100\n",
      "building tree 86 of 100\n",
      "building tree 87 of 100\n",
      "building tree 88 of 100\n",
      "building tree 89 of 100\n",
      "building tree 90 of 100\n",
      "building tree 91 of 100\n",
      "building tree 92 of 100\n",
      "building tree 93 of 100\n",
      "building tree 94 of 100\n",
      "building tree 95 of 100\n",
      "building tree 96 of 100\n",
      "building tree 97 of 100\n",
      "building tree 98 of 100\n",
      "building tree 99 of 100\n",
      "building tree 100 of 100\n"
     ]
    },
    {
     "name": "stderr",
     "output_type": "stream",
     "text": [
      "[Parallel(n_jobs=1)]: Done 100 out of 100 | elapsed:    1.0s finished\n"
     ]
    },
    {
     "data": {
      "text/plain": [
       "RandomForestRegressor(bootstrap=True, criterion='mse', max_depth=None,\n",
       "                      max_features='auto', max_leaf_nodes=None,\n",
       "                      min_impurity_decrease=0.0, min_impurity_split=None,\n",
       "                      min_samples_leaf=3, min_samples_split=4,\n",
       "                      min_weight_fraction_leaf=0.0, n_estimators=100,\n",
       "                      n_jobs=None, oob_score=False, random_state=420,\n",
       "                      verbose=10, warm_start=False)"
      ]
     },
     "execution_count": 352,
     "metadata": {},
     "output_type": "execute_result"
    }
   ],
   "source": [
    "# train the model\n",
    "print(\"[*] Training the model...\")\n",
    "rfr.fit(X_train, y_train)"
   ]
  },
  {
   "cell_type": "code",
   "execution_count": 353,
   "metadata": {},
   "outputs": [
    {
     "data": {
      "text/plain": [
       "LinearRegression(copy_X=True, fit_intercept=True, n_jobs=None, normalize=False)"
      ]
     },
     "execution_count": 353,
     "metadata": {},
     "output_type": "execute_result"
    }
   ],
   "source": [
    "lr.fit(X_train, y_train)"
   ]
  },
  {
   "cell_type": "code",
   "execution_count": 354,
   "metadata": {},
   "outputs": [
    {
     "name": "stderr",
     "output_type": "stream",
     "text": [
      "[Parallel(n_jobs=1)]: Using backend SequentialBackend with 1 concurrent workers.\n",
      "[Parallel(n_jobs=1)]: Done   1 out of   1 | elapsed:    0.0s remaining:    0.0s\n",
      "[Parallel(n_jobs=1)]: Done   2 out of   2 | elapsed:    0.0s remaining:    0.0s\n",
      "[Parallel(n_jobs=1)]: Done   3 out of   3 | elapsed:    0.0s remaining:    0.0s\n",
      "[Parallel(n_jobs=1)]: Done   4 out of   4 | elapsed:    0.0s remaining:    0.0s\n",
      "[Parallel(n_jobs=1)]: Done   5 out of   5 | elapsed:    0.0s remaining:    0.0s\n",
      "[Parallel(n_jobs=1)]: Done   6 out of   6 | elapsed:    0.0s remaining:    0.0s\n",
      "[Parallel(n_jobs=1)]: Done   7 out of   7 | elapsed:    0.0s remaining:    0.0s\n",
      "[Parallel(n_jobs=1)]: Done   8 out of   8 | elapsed:    0.0s remaining:    0.0s\n",
      "[Parallel(n_jobs=1)]: Done   9 out of   9 | elapsed:    0.0s remaining:    0.0s\n",
      "[Parallel(n_jobs=1)]: Done 100 out of 100 | elapsed:    0.0s finished\n"
     ]
    }
   ],
   "source": [
    "y_predict_rfr = rfr.predict(X_test)\n",
    "y_predict_lr = lr.predict(X_test)"
   ]
  },
  {
   "cell_type": "code",
   "execution_count": 359,
   "metadata": {},
   "outputs": [
    {
     "data": {
      "image/png": "[encoded data removed]",
      "text/plain": [
       "<Figure size 720x720 with 1 Axes>"
      ]
     },
     "metadata": {},
     "output_type": "display_data"
    },
    {
     "name": "stdout",
     "output_type": "stream",
     "text": [
      "     True x  True y    Pred x    Pred y\n",
      "0      0.50    -0.7 -0.031769  0.258602\n",
      "1     -0.20     0.7 -0.155687  0.616229\n",
      "2     -0.80    -0.3  0.234579 -0.533879\n",
      "3     -0.41     0.6 -0.226065 -0.054550\n",
      "4     -0.40     0.7 -0.294735  0.592879\n",
      "..      ...     ...       ...       ...\n",
      "139   -0.80    -0.3 -0.201420  0.538770\n",
      "140    0.80     0.1  0.034192  0.398477\n",
      "141    0.30     0.7  0.122876  0.624157\n",
      "142   -0.41     0.6 -0.313602  0.097684\n",
      "143   -0.41     0.6 -0.231311  0.445665\n",
      "\n",
      "[144 rows x 4 columns]\n",
      "\n",
      "Mean Absolute Error: 0.31102769579668005\n",
      "Mean Squared Error: 0.1506633188457931\n",
      "Root Mean Squared Error: 0.3881537309440592\n"
     ]
    }
   ],
   "source": [
    "# plotting\n",
    "plt.figure(figsize=(10,10))\n",
    "plt.title('RandomForestRegressor')\n",
    "# im = plt.imread(\"imshow/circumplex-model.png\",0)\n",
    "# implot = plt.imshow(im,extent=[y_train[:,0].min(),y_train[:,0].max(),y_train[:,1].min(),y_train[:,1].max()])\n",
    "\n",
    "colors = []\n",
    "\n",
    "for i in range(len(y_test)):\n",
    "    for key, value in circumplex_model.items():\n",
    "        if tuple(y_test[i]) == value[0]:\n",
    "            colors.append(value[1])\n",
    "\n",
    "plt.scatter(y_test[:,0], y_test[:,1], color='black', s=15, marker='x')\n",
    "plt.scatter(y_predict_rfr[:,0],y_predict_rfr[:,1], c=colors, s=15, marker='o')\n",
    "\n",
    "plt.xlim(-1, 1)\n",
    "plt.ylim(-1, 1)\n",
    "\n",
    "plt.xticks([])\n",
    "plt.yticks([])\n",
    "\n",
    "for key, value in circumplex_model.items():\n",
    "    plt.annotate(key, value[0])\n",
    "\n",
    "# legend\n",
    "black_patch = mpatches.Patch(color='black', label='ground truth')\n",
    "grey_patch = mpatches.Patch(color='grey', label='neutral')\n",
    "cyan_patch = mpatches.Patch(color='cyan', label='calm')\n",
    "yellow_patch = mpatches.Patch(color='yellow', label='happy')\n",
    "blue_patch = mpatches.Patch(color='blue', label='sad')\n",
    "red_patch = mpatches.Patch(color='red', label='angry')\n",
    "pink_patch = mpatches.Patch(color='pink', label='fearful')\n",
    "green_patch = mpatches.Patch(color='green', label='disgust')\n",
    "orange_patch = mpatches.Patch(color='orange', label='surprised')\n",
    "\n",
    "plt.legend(handles=[black_patch,\n",
    "                    grey_patch,\n",
    "                    cyan_patch,\n",
    "                    yellow_patch,\n",
    "                    blue_patch,\n",
    "                    red_patch,\n",
    "                    pink_patch,\n",
    "                    green_patch,\n",
    "                    orange_patch])\n",
    "\n",
    "plt.show()\n",
    "\n",
    "df_rfr = pd.DataFrame({'True x': y_test[:,0], \n",
    "                        'True y':y_test[:,1],\n",
    "                        'Pred x': y_predict_rfr[:,0], \n",
    "                        'Pred y':y_predict_rfr[:,1]})\n",
    "print(df_rfr)\n",
    "print()\n",
    "print('Mean Absolute Error:', metrics.mean_absolute_error(y_test, y_predict_rfr))\n",
    "print('Mean Squared Error:', metrics.mean_squared_error(y_test, y_predict_rfr))\n",
    "print('Root Mean Squared Error:', np.sqrt(metrics.mean_squared_error(y_test, y_predict_rfr)))"
   ]
  },
  {
   "cell_type": "code",
   "execution_count": 360,
   "metadata": {},
   "outputs": [
    {
     "data": {
      "image/png": "[encoded data removed]",
      "text/plain": [
       "<Figure size 720x720 with 1 Axes>"
      ]
     },
     "metadata": {},
     "output_type": "display_data"
    },
    {
     "name": "stdout",
     "output_type": "stream",
     "text": [
      "     True x  True y    Pred x    Pred y\n",
      "0      0.50    -0.7  0.093004  0.344435\n",
      "1     -0.20     0.7 -0.074226  0.582621\n",
      "2     -0.80    -0.3 -0.091886 -0.242276\n",
      "3     -0.41     0.6  0.097845  0.000736\n",
      "4     -0.40     0.7 -0.139213  0.140784\n",
      "..      ...     ...       ...       ...\n",
      "139   -0.80    -0.3  0.037588  0.245776\n",
      "140    0.80     0.1 -0.003238  0.306783\n",
      "141    0.30     0.7  0.058815  0.444041\n",
      "142   -0.41     0.6 -0.096469  0.058950\n",
      "143   -0.41     0.6 -0.079543  0.293914\n",
      "\n",
      "[144 rows x 4 columns]\n",
      "\n"
     ]
    }
   ],
   "source": [
    "# plotting\n",
    "plt.figure(figsize=(10,10))\n",
    "plt.title('LinearRegression')\n",
    "# im = plt.imread(\"imshow/circumplex-model.png\",0)\n",
    "# implot = plt.imshow(im,extent=[y_train[:,0].min(),y_train[:,0].max(),y_train[:,1].min(),y_train[:,1].max()])\n",
    "\n",
    "colors = []\n",
    "\n",
    "for i in range(len(y_test)):\n",
    "    for key, value in circumplex_model.items():\n",
    "        if tuple(y_test[i]) == value[0]:\n",
    "            colors.append(value[1])\n",
    "\n",
    "plt.scatter(y_test[:,0], y_test[:,1], color='black', s=15, marker='x')\n",
    "plt.scatter(y_predict_lr[:,0],y_predict_lr[:,1], c=colors, s=15, marker='o')\n",
    "\n",
    "plt.xlim(-1, 1)\n",
    "plt.ylim(-1, 1)\n",
    "\n",
    "plt.xticks([])\n",
    "plt.yticks([])\n",
    "\n",
    "for key, value in circumplex_model.items():\n",
    "    plt.annotate(key, value[0])\n",
    "\n",
    "# legend\n",
    "black_patch = mpatches.Patch(color='black', label='ground truth')\n",
    "grey_patch = mpatches.Patch(color='grey', label='neutral')\n",
    "cyan_patch = mpatches.Patch(color='cyan', label='calm')\n",
    "yellow_patch = mpatches.Patch(color='yellow', label='happy')\n",
    "blue_patch = mpatches.Patch(color='blue', label='sad')\n",
    "red_patch = mpatches.Patch(color='red', label='angry')\n",
    "pink_patch = mpatches.Patch(color='pink', label='fearful')\n",
    "green_patch = mpatches.Patch(color='green', label='disgust')\n",
    "orange_patch = mpatches.Patch(color='orange', label='surprised')\n",
    "\n",
    "plt.legend(handles=[black_patch,\n",
    "                    grey_patch,\n",
    "                    cyan_patch,\n",
    "                    yellow_patch,\n",
    "                    blue_patch,\n",
    "                    red_patch,\n",
    "                    pink_patch,\n",
    "                    green_patch,\n",
    "                    orange_patch])\n",
    "\n",
    "plt.show()\n",
    "\n",
    "df_lr = pd.DataFrame({'True x': y_test[:,0], \n",
    "                        'True y':y_test[:,1],\n",
    "                        'Pred x': y_predict_lr[:,0], \n",
    "                        'Pred y':y_predict_lr[:,1]})\n",
    "print(df_lr)\n",
    "print()"
   ]
  },
  {
   "cell_type": "code",
   "execution_count": 379,
   "metadata": {
    "colab": {},
    "colab_type": "code",
    "id": "w5b0L3dlQS1B"
   },
   "outputs": [],
   "source": [
    "# save the model\n",
    "# make result directory if doesn't exist yet\n",
    "if not os.path.isdir(\"result\"):\n",
    "    os.mkdir(\"result\")\n",
    "\n",
    "pickle.dump(rfr, open(\"result/rfr.model\", \"wb\"))\n",
    "pickle.dump(lr, open(\"result/lr.model\", \"wb\"))"
   ]
  }
 ],
 "metadata": {
  "accelerator": "GPU",
  "colab": {
   "collapsed_sections": [],
   "name": "ser.ipynb",
   "provenance": [],
   "toc_visible": true
  },
  "kernelspec": {
   "display_name": "Python 3",
   "language": "python",
   "name": "python3"
  },
  "language_info": {
   "codemirror_mode": {
    "name": "ipython",
    "version": 3
   },
   "file_extension": ".py",
   "mimetype": "text/x-python",
   "name": "python",
   "nbconvert_exporter": "python",
   "pygments_lexer": "ipython3",
   "version": "3.7.4"
  }
 },
 "nbformat": 4,
 "nbformat_minor": 1
}
